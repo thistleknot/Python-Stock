{
 "cells": [
  {
   "cell_type": "code",
   "execution_count": 1,
   "id": "44724b4d-a980-4614-a083-5b40f558983d",
   "metadata": {},
   "outputs": [
    {
     "name": "stdout",
     "output_type": "stream",
     "text": [
      "Requirement already satisfied: numpy in c:\\users\\user\\appdata\\local\\programs\\python\\python39\\jupyterlab\\lib\\site-packages (1.21.0)\n",
      "Requirement already satisfied: matplotlib in c:\\users\\user\\appdata\\local\\programs\\python\\python39\\jupyterlab\\lib\\site-packages (3.4.2)\n",
      "Collecting cvxopt\n",
      "  Downloading cvxopt-1.2.6-cp39-cp39-win_amd64.whl (9.5 MB)\n",
      "Requirement already satisfied: pandas in c:\\users\\user\\appdata\\local\\programs\\python\\python39\\jupyterlab\\lib\\site-packages (1.2.5)\n",
      "Requirement already satisfied: yfinance in c:\\users\\user\\appdata\\local\\programs\\python\\python39\\jupyterlab\\lib\\site-packages (0.1.62)\n",
      "Collecting finquant\n",
      "  Downloading FinQuant-0.2.2-py3-none-any.whl (28 kB)\n",
      "Requirement already satisfied: plotly in c:\\users\\user\\appdata\\local\\programs\\python\\python39\\jupyterlab\\lib\\site-packages (5.1.0)\n",
      "Collecting cufflinks\n",
      "  Downloading cufflinks-0.17.3.tar.gz (81 kB)\n",
      "Collecting chart_studio\n",
      "  Downloading chart_studio-1.1.0-py3-none-any.whl (64 kB)\n",
      "Requirement already satisfied: pandas_datareader in c:\\users\\user\\appdata\\local\\programs\\python\\python39\\jupyterlab\\lib\\site-packages (0.9.0)\n",
      "Requirement already satisfied: atoti in c:\\users\\user\\appdata\\local\\programs\\python\\python39\\jupyterlab\\lib\\site-packages (0.5.5)\n",
      "Collecting atoti-jupyterlab\n",
      "  Downloading atoti_jupyterlab-0.5.5-0_dc3a2a6-py3-none-any.whl (3.5 MB)\n",
      "Requirement already satisfied: python-dateutil>=2.7 in c:\\users\\user\\appdata\\local\\programs\\python\\python39\\jupyterlab\\lib\\site-packages (from matplotlib) (2.8.1)\n",
      "Requirement already satisfied: cycler>=0.10 in c:\\users\\user\\appdata\\local\\programs\\python\\python39\\jupyterlab\\lib\\site-packages (from matplotlib) (0.10.0)\n",
      "Requirement already satisfied: pyparsing>=2.2.1 in c:\\users\\user\\appdata\\local\\programs\\python\\python39\\jupyterlab\\lib\\site-packages (from matplotlib) (2.4.7)\n",
      "Requirement already satisfied: kiwisolver>=1.0.1 in c:\\users\\user\\appdata\\local\\programs\\python\\python39\\jupyterlab\\lib\\site-packages (from matplotlib) (1.3.1)\n",
      "Requirement already satisfied: pillow>=6.2.0 in c:\\users\\user\\appdata\\local\\programs\\python\\python39\\jupyterlab\\lib\\site-packages (from matplotlib) (8.3.0)\n",
      "Requirement already satisfied: six in c:\\users\\user\\appdata\\local\\programs\\python\\python39\\jupyterlab\\lib\\site-packages (from cycler>=0.10->matplotlib) (1.16.0)\n",
      "Requirement already satisfied: pytz>=2017.3 in c:\\users\\user\\appdata\\local\\programs\\python\\python39\\jupyterlab\\lib\\site-packages (from pandas) (2021.1)\n",
      "Requirement already satisfied: requests>=2.20 in c:\\users\\user\\appdata\\local\\programs\\python\\python39\\jupyterlab\\lib\\site-packages (from yfinance) (2.25.1)\n",
      "Requirement already satisfied: multitasking>=0.0.7 in c:\\users\\user\\appdata\\local\\programs\\python\\python39\\jupyterlab\\lib\\site-packages (from yfinance) (0.0.9)\n",
      "Requirement already satisfied: lxml>=4.5.1 in c:\\users\\user\\appdata\\local\\programs\\python\\python39\\jupyterlab\\lib\\site-packages (from yfinance) (4.6.3)\n",
      "Requirement already satisfied: certifi>=2017.4.17 in c:\\users\\user\\appdata\\local\\programs\\python\\python39\\jupyterlab\\lib\\site-packages (from requests>=2.20->yfinance) (2021.5.30)\n",
      "Requirement already satisfied: chardet<5,>=3.0.2 in c:\\users\\user\\appdata\\local\\programs\\python\\python39\\jupyterlab\\lib\\site-packages (from requests>=2.20->yfinance) (4.0.0)\n",
      "Requirement already satisfied: idna<3,>=2.5 in c:\\users\\user\\appdata\\local\\programs\\python\\python39\\jupyterlab\\lib\\site-packages (from requests>=2.20->yfinance) (2.10)\n",
      "Requirement already satisfied: urllib3<1.27,>=1.21.1 in c:\\users\\user\\appdata\\local\\programs\\python\\python39\\jupyterlab\\lib\\site-packages (from requests>=2.20->yfinance) (1.26.6)\n",
      "Collecting pytest\n",
      "  Downloading pytest-6.2.4-py3-none-any.whl (280 kB)\n",
      "Collecting quandl\n",
      "  Downloading Quandl-3.6.1-py2.py3-none-any.whl (26 kB)\n",
      "Requirement already satisfied: scipy in c:\\users\\user\\appdata\\local\\programs\\python\\python39\\jupyterlab\\lib\\site-packages (from finquant) (1.7.0)\n",
      "Requirement already satisfied: tenacity>=6.2.0 in c:\\users\\user\\appdata\\local\\programs\\python\\python39\\jupyterlab\\lib\\site-packages (from plotly) (8.0.0)\n",
      "Collecting colorlover>=0.2.1\n",
      "  Downloading colorlover-0.3.0-py3-none-any.whl (8.9 kB)\n",
      "Requirement already satisfied: setuptools>=34.4.1 in c:\\users\\user\\appdata\\local\\programs\\python\\python39\\jupyterlab\\lib\\site-packages (from cufflinks) (56.0.0)\n",
      "Requirement already satisfied: ipython>=5.3.0 in c:\\users\\user\\appdata\\local\\programs\\python\\python39\\jupyterlab\\lib\\site-packages (from cufflinks) (7.25.0)\n",
      "Requirement already satisfied: ipywidgets>=7.0.0 in c:\\users\\user\\appdata\\local\\programs\\python\\python39\\jupyterlab\\lib\\site-packages (from cufflinks) (7.6.3)\n",
      "Requirement already satisfied: pygments in c:\\users\\user\\appdata\\local\\programs\\python\\python39\\jupyterlab\\lib\\site-packages (from ipython>=5.3.0->cufflinks) (2.9.0)\n",
      "Requirement already satisfied: colorama in c:\\users\\user\\appdata\\local\\programs\\python\\python39\\jupyterlab\\lib\\site-packages (from ipython>=5.3.0->cufflinks) (0.4.4)\n",
      "Requirement already satisfied: pickleshare in c:\\users\\user\\appdata\\local\\programs\\python\\python39\\jupyterlab\\lib\\site-packages (from ipython>=5.3.0->cufflinks) (0.7.5)\n",
      "Requirement already satisfied: backcall in c:\\users\\user\\appdata\\local\\programs\\python\\python39\\jupyterlab\\lib\\site-packages (from ipython>=5.3.0->cufflinks) (0.2.0)\n",
      "Requirement already satisfied: traitlets>=4.2 in c:\\users\\user\\appdata\\local\\programs\\python\\python39\\jupyterlab\\lib\\site-packages (from ipython>=5.3.0->cufflinks) (5.0.5)\n",
      "Requirement already satisfied: matplotlib-inline in c:\\users\\user\\appdata\\local\\programs\\python\\python39\\jupyterlab\\lib\\site-packages (from ipython>=5.3.0->cufflinks) (0.1.2)\n",
      "Requirement already satisfied: decorator in c:\\users\\user\\appdata\\local\\programs\\python\\python39\\jupyterlab\\lib\\site-packages (from ipython>=5.3.0->cufflinks) (5.0.9)\n",
      "Requirement already satisfied: prompt-toolkit!=3.0.0,!=3.0.1,<3.1.0,>=2.0.0 in c:\\users\\user\\appdata\\local\\programs\\python\\python39\\jupyterlab\\lib\\site-packages (from ipython>=5.3.0->cufflinks) (3.0.19)\n",
      "Requirement already satisfied: jedi>=0.16 in c:\\users\\user\\appdata\\local\\programs\\python\\python39\\jupyterlab\\lib\\site-packages (from ipython>=5.3.0->cufflinks) (0.18.0)\n",
      "Requirement already satisfied: nbformat>=4.2.0 in c:\\users\\user\\appdata\\local\\programs\\python\\python39\\jupyterlab\\lib\\site-packages (from ipywidgets>=7.0.0->cufflinks) (5.1.3)\n",
      "Requirement already satisfied: jupyterlab-widgets>=1.0.0 in c:\\users\\user\\appdata\\local\\programs\\python\\python39\\jupyterlab\\lib\\site-packages (from ipywidgets>=7.0.0->cufflinks) (1.0.0)\n",
      "Requirement already satisfied: ipykernel>=4.5.1 in c:\\users\\user\\appdata\\local\\programs\\python\\python39\\jupyterlab\\lib\\site-packages (from ipywidgets>=7.0.0->cufflinks) (6.0.1)\n",
      "Requirement already satisfied: widgetsnbextension~=3.5.0 in c:\\users\\user\\appdata\\local\\programs\\python\\python39\\jupyterlab\\lib\\site-packages (from ipywidgets>=7.0.0->cufflinks) (3.5.1)\n",
      "Requirement already satisfied: tornado>=4.2 in c:\\users\\user\\appdata\\local\\programs\\python\\python39\\jupyterlab\\lib\\site-packages (from ipykernel>=4.5.1->ipywidgets>=7.0.0->cufflinks) (6.1)\n",
      "Requirement already satisfied: debugpy>=1.0.0 in c:\\users\\user\\appdata\\local\\programs\\python\\python39\\jupyterlab\\lib\\site-packages (from ipykernel>=4.5.1->ipywidgets>=7.0.0->cufflinks) (1.3.0)\n",
      "Requirement already satisfied: jupyter-client in c:\\users\\user\\appdata\\local\\programs\\python\\python39\\jupyterlab\\lib\\site-packages (from ipykernel>=4.5.1->ipywidgets>=7.0.0->cufflinks) (6.1.12)\n",
      "Requirement already satisfied: parso<0.9.0,>=0.8.0 in c:\\users\\user\\appdata\\local\\programs\\python\\python39\\jupyterlab\\lib\\site-packages (from jedi>=0.16->ipython>=5.3.0->cufflinks) (0.8.2)\n",
      "Requirement already satisfied: ipython-genutils in c:\\users\\user\\appdata\\local\\programs\\python\\python39\\jupyterlab\\lib\\site-packages (from nbformat>=4.2.0->ipywidgets>=7.0.0->cufflinks) (0.2.0)\n",
      "Requirement already satisfied: jupyter-core in c:\\users\\user\\appdata\\local\\programs\\python\\python39\\jupyterlab\\lib\\site-packages (from nbformat>=4.2.0->ipywidgets>=7.0.0->cufflinks) (4.7.1)\n",
      "Requirement already satisfied: jsonschema!=2.5.0,>=2.4 in c:\\users\\user\\appdata\\local\\programs\\python\\python39\\jupyterlab\\lib\\site-packages (from nbformat>=4.2.0->ipywidgets>=7.0.0->cufflinks) (3.2.0)\n",
      "Requirement already satisfied: pyrsistent>=0.14.0 in c:\\users\\user\\appdata\\local\\programs\\python\\python39\\jupyterlab\\lib\\site-packages (from jsonschema!=2.5.0,>=2.4->nbformat>=4.2.0->ipywidgets>=7.0.0->cufflinks) (0.18.0)\n",
      "Requirement already satisfied: attrs>=17.4.0 in c:\\users\\user\\appdata\\local\\programs\\python\\python39\\jupyterlab\\lib\\site-packages (from jsonschema!=2.5.0,>=2.4->nbformat>=4.2.0->ipywidgets>=7.0.0->cufflinks) (21.2.0)\n",
      "Requirement already satisfied: wcwidth in c:\\users\\user\\appdata\\local\\programs\\python\\python39\\jupyterlab\\lib\\site-packages (from prompt-toolkit!=3.0.0,!=3.0.1,<3.1.0,>=2.0.0->ipython>=5.3.0->cufflinks) (0.2.5)\n",
      "Requirement already satisfied: notebook>=4.4.1 in c:\\users\\user\\appdata\\local\\programs\\python\\python39\\jupyterlab\\lib\\site-packages (from widgetsnbextension~=3.5.0->ipywidgets>=7.0.0->cufflinks) (6.4.0)\n",
      "Requirement already satisfied: prometheus-client in c:\\users\\user\\appdata\\local\\programs\\python\\python39\\jupyterlab\\lib\\site-packages (from notebook>=4.4.1->widgetsnbextension~=3.5.0->ipywidgets>=7.0.0->cufflinks) (0.11.0)\n",
      "Requirement already satisfied: jinja2 in c:\\users\\user\\appdata\\local\\programs\\python\\python39\\jupyterlab\\lib\\site-packages (from notebook>=4.4.1->widgetsnbextension~=3.5.0->ipywidgets>=7.0.0->cufflinks) (3.0.1)\n",
      "Requirement already satisfied: pyzmq>=17 in c:\\users\\user\\appdata\\local\\programs\\python\\python39\\jupyterlab\\lib\\site-packages (from notebook>=4.4.1->widgetsnbextension~=3.5.0->ipywidgets>=7.0.0->cufflinks) (22.1.0)\n",
      "Requirement already satisfied: nbconvert in c:\\users\\user\\appdata\\local\\programs\\python\\python39\\jupyterlab\\lib\\site-packages (from notebook>=4.4.1->widgetsnbextension~=3.5.0->ipywidgets>=7.0.0->cufflinks) (6.1.0)\n",
      "Requirement already satisfied: Send2Trash>=1.5.0 in c:\\users\\user\\appdata\\local\\programs\\python\\python39\\jupyterlab\\lib\\site-packages (from notebook>=4.4.1->widgetsnbextension~=3.5.0->ipywidgets>=7.0.0->cufflinks) (1.7.1)\n",
      "Requirement already satisfied: terminado>=0.8.3 in c:\\users\\user\\appdata\\local\\programs\\python\\python39\\jupyterlab\\lib\\site-packages (from notebook>=4.4.1->widgetsnbextension~=3.5.0->ipywidgets>=7.0.0->cufflinks) (0.10.1)\n",
      "Requirement already satisfied: argon2-cffi in c:\\users\\user\\appdata\\local\\programs\\python\\python39\\jupyterlab\\lib\\site-packages (from notebook>=4.4.1->widgetsnbextension~=3.5.0->ipywidgets>=7.0.0->cufflinks) (20.1.0)\n",
      "Requirement already satisfied: pywin32>=1.0 in c:\\users\\user\\appdata\\local\\programs\\python\\python39\\jupyterlab\\lib\\site-packages (from jupyter-core->nbformat>=4.2.0->ipywidgets>=7.0.0->cufflinks) (301)\n",
      "Requirement already satisfied: pywinpty>=1.1.0 in c:\\users\\user\\appdata\\local\\programs\\python\\python39\\jupyterlab\\lib\\site-packages (from terminado>=0.8.3->notebook>=4.4.1->widgetsnbextension~=3.5.0->ipywidgets>=7.0.0->cufflinks) (1.1.3)\n",
      "Collecting retrying>=1.3.3\n",
      "  Downloading retrying-1.3.3.tar.gz (10 kB)\n",
      "Requirement already satisfied: typing-extensions in c:\\users\\user\\appdata\\local\\programs\\python\\python39\\jupyterlab\\lib\\site-packages (from atoti) (3.10.0.0)\n",
      "Requirement already satisfied: jdk4py==11.0.9.0 in c:\\users\\user\\appdata\\local\\programs\\python\\python39\\jupyterlab\\lib\\site-packages (from atoti) (11.0.9.0)\n",
      "Requirement already satisfied: pyarrow~=3.0 in c:\\users\\user\\appdata\\local\\programs\\python\\python39\\jupyterlab\\lib\\site-packages (from atoti) (3.0.0)\n",
      "Requirement already satisfied: pyyaml in c:\\users\\user\\appdata\\local\\programs\\python\\python39\\jupyterlab\\lib\\site-packages (from atoti) (5.4.1)\n",
      "Requirement already satisfied: typeguard in c:\\users\\user\\appdata\\local\\programs\\python\\python39\\jupyterlab\\lib\\site-packages (from atoti) (2.12.1)\n",
      "Requirement already satisfied: jupyterlab~=3.0 in c:\\users\\user\\appdata\\local\\programs\\python\\python39\\jupyterlab\\lib\\site-packages (from atoti-jupyterlab) (3.0.16)\n",
      "Requirement already satisfied: jupyter-server~=1.4 in c:\\users\\user\\appdata\\local\\programs\\python\\python39\\jupyterlab\\lib\\site-packages (from jupyterlab~=3.0->atoti-jupyterlab) (1.9.0)\n",
      "Requirement already satisfied: nbclassic~=0.2 in c:\\users\\user\\appdata\\local\\programs\\python\\python39\\jupyterlab\\lib\\site-packages (from jupyterlab~=3.0->atoti-jupyterlab) (0.3.1)\n",
      "Requirement already satisfied: packaging in c:\\users\\user\\appdata\\local\\programs\\python\\python39\\jupyterlab\\lib\\site-packages (from jupyterlab~=3.0->atoti-jupyterlab) (21.0)\n",
      "Requirement already satisfied: jupyterlab-server~=2.3 in c:\\users\\user\\appdata\\local\\programs\\python\\python39\\jupyterlab\\lib\\site-packages (from jupyterlab~=3.0->atoti-jupyterlab) (2.6.0)\n",
      "Requirement already satisfied: MarkupSafe>=2.0 in c:\\users\\user\\appdata\\local\\programs\\python\\python39\\jupyterlab\\lib\\site-packages (from jinja2->notebook>=4.4.1->widgetsnbextension~=3.5.0->ipywidgets>=7.0.0->cufflinks) (2.0.1)\n",
      "Requirement already satisfied: websocket-client in c:\\users\\user\\appdata\\local\\programs\\python\\python39\\jupyterlab\\lib\\site-packages (from jupyter-server~=1.4->jupyterlab~=3.0->atoti-jupyterlab) (1.1.0)\n",
      "Requirement already satisfied: anyio<4,>=3.1.0 in c:\\users\\user\\appdata\\local\\programs\\python\\python39\\jupyterlab\\lib\\site-packages (from jupyter-server~=1.4->jupyterlab~=3.0->atoti-jupyterlab) (3.2.1)\n",
      "Requirement already satisfied: requests-unixsocket in c:\\users\\user\\appdata\\local\\programs\\python\\python39\\jupyterlab\\lib\\site-packages (from jupyter-server~=1.4->jupyterlab~=3.0->atoti-jupyterlab) (0.2.0)\n",
      "Requirement already satisfied: sniffio>=1.1 in c:\\users\\user\\appdata\\local\\programs\\python\\python39\\jupyterlab\\lib\\site-packages (from anyio<4,>=3.1.0->jupyter-server~=1.4->jupyterlab~=3.0->atoti-jupyterlab) (1.2.0)\n",
      "Requirement already satisfied: json5 in c:\\users\\user\\appdata\\local\\programs\\python\\python39\\jupyterlab\\lib\\site-packages (from jupyterlab-server~=2.3->jupyterlab~=3.0->atoti-jupyterlab) (0.9.6)\n",
      "Requirement already satisfied: babel in c:\\users\\user\\appdata\\local\\programs\\python\\python39\\jupyterlab\\lib\\site-packages (from jupyterlab-server~=2.3->jupyterlab~=3.0->atoti-jupyterlab) (2.9.1)\n",
      "Requirement already satisfied: cffi>=1.0.0 in c:\\users\\user\\appdata\\local\\programs\\python\\python39\\jupyterlab\\lib\\site-packages (from argon2-cffi->notebook>=4.4.1->widgetsnbextension~=3.5.0->ipywidgets>=7.0.0->cufflinks) (1.14.5)\n",
      "Requirement already satisfied: pycparser in c:\\users\\user\\appdata\\local\\programs\\python\\python39\\jupyterlab\\lib\\site-packages (from cffi>=1.0.0->argon2-cffi->notebook>=4.4.1->widgetsnbextension~=3.5.0->ipywidgets>=7.0.0->cufflinks) (2.20)\n",
      "Requirement already satisfied: nbclient<0.6.0,>=0.5.0 in c:\\users\\user\\appdata\\local\\programs\\python\\python39\\jupyterlab\\lib\\site-packages (from nbconvert->notebook>=4.4.1->widgetsnbextension~=3.5.0->ipywidgets>=7.0.0->cufflinks) (0.5.3)\n",
      "Requirement already satisfied: bleach in c:\\users\\user\\appdata\\local\\programs\\python\\python39\\jupyterlab\\lib\\site-packages (from nbconvert->notebook>=4.4.1->widgetsnbextension~=3.5.0->ipywidgets>=7.0.0->cufflinks) (3.3.0)\n",
      "Requirement already satisfied: pandocfilters>=1.4.1 in c:\\users\\user\\appdata\\local\\programs\\python\\python39\\jupyterlab\\lib\\site-packages (from nbconvert->notebook>=4.4.1->widgetsnbextension~=3.5.0->ipywidgets>=7.0.0->cufflinks) (1.4.3)\n",
      "Requirement already satisfied: entrypoints>=0.2.2 in c:\\users\\user\\appdata\\local\\programs\\python\\python39\\jupyterlab\\lib\\site-packages (from nbconvert->notebook>=4.4.1->widgetsnbextension~=3.5.0->ipywidgets>=7.0.0->cufflinks) (0.3)\n",
      "Requirement already satisfied: defusedxml in c:\\users\\user\\appdata\\local\\programs\\python\\python39\\jupyterlab\\lib\\site-packages (from nbconvert->notebook>=4.4.1->widgetsnbextension~=3.5.0->ipywidgets>=7.0.0->cufflinks) (0.7.1)\n",
      "Requirement already satisfied: mistune<2,>=0.8.1 in c:\\users\\user\\appdata\\local\\programs\\python\\python39\\jupyterlab\\lib\\site-packages (from nbconvert->notebook>=4.4.1->widgetsnbextension~=3.5.0->ipywidgets>=7.0.0->cufflinks) (0.8.4)\n",
      "Requirement already satisfied: jupyterlab-pygments in c:\\users\\user\\appdata\\local\\programs\\python\\python39\\jupyterlab\\lib\\site-packages (from nbconvert->notebook>=4.4.1->widgetsnbextension~=3.5.0->ipywidgets>=7.0.0->cufflinks) (0.1.2)\n",
      "Requirement already satisfied: testpath in c:\\users\\user\\appdata\\local\\programs\\python\\python39\\jupyterlab\\lib\\site-packages (from nbconvert->notebook>=4.4.1->widgetsnbextension~=3.5.0->ipywidgets>=7.0.0->cufflinks) (0.5.0)\n",
      "Requirement already satisfied: nest-asyncio in c:\\users\\user\\appdata\\local\\programs\\python\\python39\\jupyterlab\\lib\\site-packages (from nbclient<0.6.0,>=0.5.0->nbconvert->notebook>=4.4.1->widgetsnbextension~=3.5.0->ipywidgets>=7.0.0->cufflinks) (1.5.1)\n",
      "Requirement already satisfied: async-generator in c:\\users\\user\\appdata\\local\\programs\\python\\python39\\jupyterlab\\lib\\site-packages (from nbclient<0.6.0,>=0.5.0->nbconvert->notebook>=4.4.1->widgetsnbextension~=3.5.0->ipywidgets>=7.0.0->cufflinks) (1.10)\n",
      "Requirement already satisfied: webencodings in c:\\users\\user\\appdata\\local\\programs\\python\\python39\\jupyterlab\\lib\\site-packages (from bleach->nbconvert->notebook>=4.4.1->widgetsnbextension~=3.5.0->ipywidgets>=7.0.0->cufflinks) (0.5.1)\n",
      "Collecting toml\n",
      "  Downloading toml-0.10.2-py2.py3-none-any.whl (16 kB)\n",
      "Collecting py>=1.8.2\n",
      "  Downloading py-1.10.0-py2.py3-none-any.whl (97 kB)\n",
      "Collecting pluggy<1.0.0a1,>=0.12\n",
      "  Downloading pluggy-0.13.1-py2.py3-none-any.whl (18 kB)\n",
      "Collecting iniconfig\n",
      "  Downloading iniconfig-1.1.1-py2.py3-none-any.whl (5.0 kB)\n",
      "Collecting atomicwrites>=1.0\n",
      "  Downloading atomicwrites-1.4.0-py2.py3-none-any.whl (6.8 kB)\n",
      "Collecting more-itertools\n",
      "  Downloading more_itertools-8.8.0-py3-none-any.whl (48 kB)\n",
      "Collecting inflection>=0.3.1\n",
      "  Downloading inflection-0.5.1-py2.py3-none-any.whl (9.5 kB)\n",
      "Using legacy 'setup.py install' for cufflinks, since package 'wheel' is not installed.\n",
      "Using legacy 'setup.py install' for retrying, since package 'wheel' is not installed.\n",
      "Installing collected packages: toml, py, pluggy, more-itertools, iniconfig, inflection, atomicwrites, retrying, quandl, pytest, colorlover, finquant, cvxopt, cufflinks, chart-studio, atoti-jupyterlab\n",
      "    Running setup.py install for retrying: started\n",
      "    Running setup.py install for retrying: finished with status 'done'\n",
      "    Running setup.py install for cufflinks: started\n",
      "    Running setup.py install for cufflinks: finished with status 'done'\n",
      "Successfully installed atomicwrites-1.4.0 atoti-jupyterlab-0.5.5 chart-studio-1.1.0 colorlover-0.3.0 cufflinks-0.17.3 cvxopt-1.2.6 finquant-0.2.2 inflection-0.5.1 iniconfig-1.1.1 more-itertools-8.8.0 pluggy-0.13.1 py-1.10.0 pytest-6.2.4 quandl-3.6.1 retrying-1.3.3 toml-0.10.2\n"
     ]
    }
   ],
   "source": [
    "!pip install numpy matplotlib cvxopt pandas yfinance finquant plotly cufflinks chart_studio pandas_datareader atoti atoti-jupyterlab\n",
    "\n"
   ]
  },
  {
   "cell_type": "code",
   "execution_count": 2,
   "id": "12993b60-334d-4d7f-9d4b-234e122b436c",
   "metadata": {},
   "outputs": [],
   "source": [
    "%matplotlib inline\n",
    "import numpy as np\n",
    "import matplotlib.pyplot as plt\n",
    "import cvxopt as opt\n",
    "from cvxopt import blas, solvers\n",
    "import pandas as pd\n",
    "import yfinance as yf\n",
    "import random\n",
    "from scipy.optimize import minimize\n",
    "from finquant.portfolio import build_portfolio\n",
    "\n",
    "np.random.seed(123)\n",
    "\n",
    "# Turn off progress printing \n",
    "solvers.options['show_progress'] = False\n",
    "# (*) To communicate with Plotly's server, sign in with credentials file\n",
    "import plotly as py  \n",
    "\n",
    "# (*) Useful Python/Plotly tools\n",
    "import plotly.tools as tls   \n",
    "\n",
    "# (*) Graph objects to piece together plots\n",
    "from plotly.graph_objs import *\n",
    "\n",
    "import cufflinks\n",
    "import atoti as tt\n",
    "import urllib\n",
    "import urllib.request\n",
    "import random\n",
    "import numpy as np\n",
    "\n",
    "import concurrent.futures\n",
    "from concurrent.futures import wait, ALL_COMPLETED\n",
    "import os\n",
    "import pandas_market_calendars as mcal"
   ]
  },
  {
   "cell_type": "code",
   "execution_count": 3,
   "id": "e0545884-cfb3-4b01-894c-179b2037d5a6",
   "metadata": {},
   "outputs": [],
   "source": [
    "#ndays = 252*10+7\n",
    "ndays = 252*1.5+7\n",
    "#~training\n",
    "dback = 252\n",
    "#~forecast\n",
    "dahead = 20\n",
    "#sample size\n",
    "#if to randomize\n",
    "rand=True\n",
    "nran = 20\n",
    "nstocks = 100\n",
    "#this should match tbill 20, 91, 126, 252\n",
    "\n",
    "end = pd.Timestamp.utcnow()\n",
    "start = (end - int(ndays) * pd.tseries.offsets.BDay())\n",
    "one_week_end = (end - int(ndays - 7) * pd.tseries.offsets.BDay())\n",
    "one_week_end = one_week_end.strftime('%Y-%m-%d')\n",
    "start = start.strftime('%Y-%m-%d')\n",
    "end = end.strftime('%Y-%m-%d')\n"
   ]
  },
  {
   "cell_type": "code",
   "execution_count": 4,
   "id": "7a1ad296-91f3-431a-8be0-9f087bfdd092",
   "metadata": {},
   "outputs": [],
   "source": [
    "#pd.tseries.offsets.BDay(100)\n",
    "nyse = mcal.get_calendar('NYSE')\n",
    "\n",
    "# Show available calendars\n",
    "#print(mcal.get_calendar_names())\n",
    "tradingDays = list(nyse.schedule(start_date=start, end_date=end).index.strftime('%Y-%m-%d'))\n"
   ]
  },
  {
   "cell_type": "markdown",
   "id": "fcf16b3e-af28-408c-9f68-8df0d8addece",
   "metadata": {},
   "source": []
  },
  {
   "cell_type": "code",
   "execution_count": 5,
   "id": "f94cbe7f-a994-4673-bd2a-3a6d10704e1d",
   "metadata": {},
   "outputs": [],
   "source": [
    "def rand_weights(n):\n",
    "    ''' Produces n random weights that sum to 1 '''\n",
    "    k = np.random.rand(n)\n",
    "    return k / sum(k)\n",
    "\n",
    "def weighted_return(returns, weights):\n",
    "    w = weights\n",
    "            \n",
    "    p = np.asmatrix(np.mean(returns, axis=0))\n",
    "    \n",
    "    mu = np.asmatrix(w) * p.T\n",
    "    return(mu)\n",
    "\n",
    "def random_portfolio(returns):\n",
    "\n",
    "    w = rand_weights(len(pd.DataFrame(returns).columns))\n",
    "        \n",
    "    p = np.asmatrix(np.mean(returns, axis=0))\n",
    "    \n",
    "    C = np.array(pd.DataFrame(returns).cov().values)\n",
    "    \n",
    "    mu = np.asmatrix(w) * p.T\n",
    "    sigma = np.sqrt(np.asmatrix(w) * C * np.asmatrix(w).T)\n",
    "    \n",
    "    sharpe = mu/sigma\n",
    "    \n",
    "    return np.float(mu), np.float(sigma), np.float(sharpe), np.array(w,dtype=object)\n",
    "\n",
    "def unique(list1):\n",
    " \n",
    "    # intilize a null list\n",
    "    unique_list = []\n",
    "     \n",
    "    # traverse for all elements\n",
    "    for x in list1:\n",
    "        # check if exists in unique_list or not\n",
    "        if x not in unique_list:\n",
    "            unique_list.append(x)\n",
    "\n",
    "    return(unique_list)   \n",
    "\n",
    "def split_sequences(sequences, n_steps_in, n_steps_out):\n",
    "    \n",
    "    X, y = list(), list()\n",
    "    for i in range(len(sequences)):\n",
    "        # find the end of this pattern\n",
    "        end_ix = i + n_steps_in\n",
    "        out_end_ix = end_ix + n_steps_out\n",
    "        # check if we are beyond the dataset\n",
    "        if out_end_ix > len(sequences):\n",
    "            break\n",
    "        # gather input and output parts of the pattern\n",
    "        seq_x, seq_y = sequences[i:end_ix, :], sequences[end_ix:out_end_ix, :]\n",
    "        X.append(seq_x)\n",
    "        y.append(seq_y)\n",
    "    \n",
    "    return np.array(X), np.array(y)"
   ]
  },
  {
   "cell_type": "code",
   "execution_count": 6,
   "id": "3ba08898-6a3b-4e5c-8f5e-3a415919e56e",
   "metadata": {},
   "outputs": [],
   "source": [
    "\n",
    "url = 'ftp://ftp.nasdaqtrader.com/symboldirectory/nasdaqtraded.txt'\n",
    "\n",
    "urllib.request.urlretrieve(url, 'nasdaqtraded.txt')\n",
    "urllib.request.urlretrieve(url, 'mfundslist.txt')\n",
    "urllib.request.urlretrieve(url, 'bonds.txt')\n",
    "\n",
    "df1 = pd.read_csv('nasdaqtraded.txt', sep='|')[0:-1]\n",
    "df2 = pd.read_csv('mfundslist.txt', sep='|')[0:-1]\n",
    "df3 = pd.read_csv('bonds.txt', sep='|')[0:-1]\n",
    "\n",
    "#combined = pd.concat([df1['Symbol'],df2['Symbol'],df3['Symbol']],axis=0)\n",
    "\n",
    "#process symbols for bad characters\n",
    "BAD_CHARS = ['$','.']\n",
    "#pat = '|'.join(['({})'.format(re.escape(c)) for c in BAD_CHARS])\n",
    "#cleaned = unique(combined.replace(BAD_CHARS,'-'))\n",
    "\n",
    "#choose size\n",
    "size=nstocks\n",
    "#stocks = list(df1[\"Symbol\"].sample(n=int(size/3)))\n",
    "stocks = list(df1[\"Symbol\"].replace('.','-').replace('\\\\$','-P',regex=True).sample(n=int(size/3)))\n",
    "mfunds = list(df2[\"Symbol\"].replace('.','-').replace('\\\\$','-P',regex=True).sample(n=int(size/3)))\n",
    "bonds = list(df3[\"Symbol\"].replace('.','-').replace('\\\\$','-P',regex=True).sample(n=int(size/3)))\n",
    "symbols = unique(stocks + mfunds + bonds)\n",
    "#symbols = unique(stocks)\n"
   ]
  },
  {
   "cell_type": "code",
   "execution_count": null,
   "id": "85bb2a8d-2c66-4fd4-8dd2-17e3446ea7df",
   "metadata": {},
   "outputs": [],
   "source": []
  },
  {
   "cell_type": "code",
   "execution_count": 7,
   "id": "5a163971-e8c5-46d2-ade9-72aef02cf1d0",
   "metadata": {},
   "outputs": [
    {
     "name": "stdout",
     "output_type": "stream",
     "text": [
      "[*********************100%***********************]  99 of 99 completed\n",
      "\n",
      "26 Failed downloads:\n",
      "- AGAC.U: No data found, symbol may be delisted\n",
      "- PRSR: Data doesn't exist for startDate = 1579500000, endDate = 1580277600\n",
      "- TREB: Data doesn't exist for startDate = 1579500000, endDate = 1580277600\n",
      "- CSSEN: Data doesn't exist for startDate = 1579500000, endDate = 1580277600\n",
      "- AHACU: Data doesn't exist for startDate = 1579500000, endDate = 1580277600\n",
      "- DGNR.U: No data found, symbol may be delisted\n",
      "- NGC: Data doesn't exist for startDate = 1579500000, endDate = 1580277600\n",
      "- OZON: Data doesn't exist for startDate = 1579500000, endDate = 1580277600\n",
      "- ZIEXT: No data found, symbol may be delisted\n",
      "- ORIAU: Data doesn't exist for startDate = 1579500000, endDate = 1580277600\n",
      "- FMAY: Data doesn't exist for startDate = 1579500000, endDate = 1580277600\n",
      "- SPTK: Data doesn't exist for startDate = 1579500000, endDate = 1580277600\n",
      "- IPVA: Data doesn't exist for startDate = 1579500000, endDate = 1580277600\n",
      "- DSEY: Data doesn't exist for startDate = 1579500000, endDate = 1580277600\n",
      "- ARMR: Data doesn't exist for startDate = 1579500000, endDate = 1580277600\n",
      "- FRC-PL: No data found for this date range, symbol may be delisted\n",
      "- CCNEP: Data doesn't exist for startDate = 1579500000, endDate = 1580277600\n",
      "- KERNW: No data found for this date range, symbol may be delisted\n",
      "- TCACU: Data doesn't exist for startDate = 1579500000, endDate = 1580277600\n",
      "- SRACW: No data found for this date range, symbol may be delisted\n",
      "- IEAWW: No data found for this date range, symbol may be delisted\n",
      "- DFAE: Data doesn't exist for startDate = 1579500000, endDate = 1580277600\n",
      "- PAICU: Data doesn't exist for startDate = 1579500000, endDate = 1580277600\n",
      "- PWP: Data doesn't exist for startDate = 1579500000, endDate = 1580277600\n",
      "- PSACU: Data doesn't exist for startDate = 1579500000, endDate = 1580277600\n",
      "- JRE: Data doesn't exist for startDate = 1579500000, endDate = 1580277600\n"
     ]
    },
    {
     "name": "stderr",
     "output_type": "stream",
     "text": [
      "c:\\users\\user\\appdata\\local\\programs\\python\\python39\\jupyterlab\\lib\\site-packages\\numpy\\lib\\function_base.py:380: RuntimeWarning:\n",
      "\n",
      "Mean of empty slice.\n",
      "\n",
      "c:\\users\\user\\appdata\\local\\programs\\python\\python39\\jupyterlab\\lib\\site-packages\\numpy\\core\\_methods.py:181: RuntimeWarning:\n",
      "\n",
      "invalid value encountered in true_divide\n",
      "\n",
      "c:\\users\\user\\appdata\\local\\programs\\python\\python39\\jupyterlab\\lib\\site-packages\\pandas\\core\\frame.py:8525: RuntimeWarning:\n",
      "\n",
      "Degrees of freedom <= 0 for slice\n",
      "\n",
      "c:\\users\\user\\appdata\\local\\programs\\python\\python39\\jupyterlab\\lib\\site-packages\\numpy\\lib\\function_base.py:2542: RuntimeWarning:\n",
      "\n",
      "divide by zero encountered in true_divide\n",
      "\n",
      "c:\\users\\user\\appdata\\local\\programs\\python\\python39\\jupyterlab\\lib\\site-packages\\numpy\\lib\\function_base.py:2542: RuntimeWarning:\n",
      "\n",
      "invalid value encountered in multiply\n",
      "\n"
     ]
    }
   ],
   "source": [
    "pf_pre = build_portfolio(names=symbols,\n",
    "                    start_date=start,\n",
    "                    end_date=one_week_end,data_api='yfinance')\n"
   ]
  },
  {
   "cell_type": "code",
   "execution_count": 8,
   "id": "d5ee4c0b-e276-48d8-b03e-ca8a999a9646",
   "metadata": {},
   "outputs": [],
   "source": [
    "vetted_symbols=list(pf_pre.data.loc[(np.intersect1d(list(pf_pre.data.index.strftime('%Y-%m-%d')), tradingDays))].head(-1).tail(-1).dropna(axis=1).columns)\n"
   ]
  },
  {
   "cell_type": "code",
   "execution_count": 9,
   "id": "a2027dc2-69fb-4df4-b6b9-e7d8c6915ea5",
   "metadata": {},
   "outputs": [
    {
     "name": "stdout",
     "output_type": "stream",
     "text": [
      "[*********************100%***********************]  73 of 73 completed\n"
     ]
    }
   ],
   "source": [
    "\n",
    "#combinedList = unique(list(np.append(random.sample(symbols_sp500,int(len(symbols_sp500)*.05)),np.append(random.sample(dividendAristocraft,int(len(dividendAristocraft)*.25)),np.append(top10,random.sample(symbols_ns100,int(len(symbols_ns100)*.25)))))))\n",
    "    \n",
    "#add index\n",
    "#vetted_symbols.append('TQQQ')\n",
    "\n",
    "pf = build_portfolio(names=list(vetted_symbols),\n",
    "                    start_date=start,\n",
    "                    end_date=end,data_api='yfinance')\n",
    "\n"
   ]
  },
  {
   "cell_type": "code",
   "execution_count": 10,
   "id": "89f332a8-b930-45ed-b4fb-68eecec36a35",
   "metadata": {},
   "outputs": [],
   "source": [
    "'''\n",
    "import pandas_datareader.data as web\n",
    "\n",
    "import datetime\n",
    "\n",
    "# Multiple series:\n",
    "fred_data = web.DataReader(FRED_Indicators, 'fred', start, end)\n",
    "'''\n",
    "\n",
    "FRED_Indicators = ['DTB4WK','DTB3','DTB6','DTB1YR']\n",
    "\n",
    "import pandas_datareader.data as web\n",
    "\n",
    "def Fred_Data(name):\n",
    "    temp = web.DataReader(str(name), 'fred', start, end)\n",
    "    temp.index = pd.to_datetime(temp.index)\n",
    "    #temp = temp.resample(frequency).mean().dropna()\n",
    "    return(temp)\n",
    "\n",
    "FRED_set = []\n",
    "FRED_completed = []\n",
    "for i in FRED_Indicators:\n",
    "    FRED_completed.append(i)\n",
    "    FRED_set.append(Fred_Data(i))\n",
    "                    \n",
    "FRED_pvt = pd.DataFrame()\n",
    "\n",
    "for x in range(0,len(FRED_completed)):\n",
    "    values = FRED_set[x]\n",
    "    values = values.loc[~values.index.duplicated(keep='last')]\n",
    "\n",
    "    FRED_pvt = pd.concat([FRED_pvt,values], axis=1)\n"
   ]
  },
  {
   "cell_type": "code",
   "execution_count": null,
   "id": "ccb66e73-3979-4426-8c08-bd8418298f83",
   "metadata": {},
   "outputs": [],
   "source": []
  },
  {
   "cell_type": "code",
   "execution_count": 11,
   "id": "25f252cb-aa0f-4203-a5fb-d30809334369",
   "metadata": {},
   "outputs": [
    {
     "data": {
      "text/plain": [
       "73"
      ]
     },
     "execution_count": 11,
     "metadata": {},
     "output_type": "execute_result"
    }
   ],
   "source": [
    "\n",
    "returns = np.log(1+pf.data.loc[(np.intersect1d(list(pf.data.index.strftime('%Y-%m-%d')), tradingDays))].head(-1).interpolate(method='time').pct_change().tail(-1))\n",
    "returns = returns.dropna(axis=1)\n",
    "#returns.columns = stocks.dropna(axis=1)\n",
    "len(returns.columns)\n",
    "#np.sum(returns.isin([np.inf, -np.inf, np.NaN])).sort_values(kind=\"quicksort\", ascending=True)"
   ]
  },
  {
   "cell_type": "code",
   "execution_count": 12,
   "id": "9ac2a15d-ce26-449e-b1f0-101a3c86edc7",
   "metadata": {},
   "outputs": [],
   "source": [
    "selectedmfunds = (set(mfunds) & set(returns.columns))\n",
    "selectedstocks = (set(stocks) & set(returns.columns))\n",
    "selectedbonds = (set(bonds) & set(returns.columns))\n"
   ]
  },
  {
   "cell_type": "code",
   "execution_count": 13,
   "id": "652d396e-f986-4fa0-bbd6-a78a75f233c5",
   "metadata": {},
   "outputs": [],
   "source": [
    "\n",
    "n_steps_in = dback\n",
    "\n",
    "n_steps_out = dahead\n",
    "\n",
    "Training, Holdout = split_sequences(np.array(pd.DataFrame(returns.index.strftime('%Y-%m-%d'))), n_steps_in, n_steps_out)"
   ]
  },
  {
   "cell_type": "code",
   "execution_count": 19,
   "id": "8f01f64d-fcad-44d0-9cbe-83e173a95713",
   "metadata": {},
   "outputs": [
    {
     "data": {
      "text/plain": [
       "<finquant.portfolio.Portfolio at 0x14e19801df0>"
      ]
     },
     "execution_count": 19,
     "metadata": {},
     "output_type": "execute_result"
    }
   ],
   "source": [
    "import atoti as tt"
   ]
  },
  {
   "cell_type": "code",
   "execution_count": 25,
   "id": "b261d442-00cb-4ad2-9e25-234d701efdce",
   "metadata": {},
   "outputs": [],
   "source": [
    "#test = pd.read_csv(\"C:\\\\Users\\\\User\\\\Documents\\\\wiki\\\\wiki\\\\dev\\\\python\\\\Python-Stock\\\\code\\\\markowitz\\\\returns.csv\")"
   ]
  },
  {
   "cell_type": "code",
   "execution_count": 30,
   "id": "54961cd7-091d-4bf3-85c7-317ef7fdbd3b",
   "metadata": {},
   "outputs": [
    {
     "data": {
      "text/html": [
       "<div>\n",
       "<style scoped>\n",
       "    .dataframe tbody tr th:only-of-type {\n",
       "        vertical-align: middle;\n",
       "    }\n",
       "\n",
       "    .dataframe tbody tr th {\n",
       "        vertical-align: top;\n",
       "    }\n",
       "\n",
       "    .dataframe thead th {\n",
       "        text-align: right;\n",
       "    }\n",
       "</style>\n",
       "<table border=\"1\" class=\"dataframe\">\n",
       "  <thead>\n",
       "    <tr style=\"text-align: right;\">\n",
       "      <th></th>\n",
       "      <th>0</th>\n",
       "    </tr>\n",
       "  </thead>\n",
       "  <tbody>\n",
       "    <tr>\n",
       "      <th>stock</th>\n",
       "      <td>ATH</td>\n",
       "    </tr>\n",
       "    <tr>\n",
       "      <th>returns_vector</th>\n",
       "      <td>-0.005301677278131519;-0.0014895139771735656;0...</td>\n",
       "    </tr>\n",
       "  </tbody>\n",
       "</table>\n",
       "</div>"
      ],
      "text/plain": [
       "                                                                0\n",
       "stock                                                         ATH\n",
       "returns_vector  -0.005301677278131519;-0.0014895139771735656;0..."
      ]
     },
     "execution_count": 30,
     "metadata": {},
     "output_type": "execute_result"
    }
   ],
   "source": []
  },
  {
   "cell_type": "code",
   "execution_count": 22,
   "id": "663e8a48-0541-498a-9607-b068a4551c54",
   "metadata": {},
   "outputs": [],
   "source": [
    "randomSet = list(np.sort(np.random.choice(range(0,len(Training)),nran)))\n",
    "\n",
    "randomsymbols = list(np.random.choice(pf.data.columns,10,replace=False))\n",
    "    \n",
    "#random columns\n",
    "stocks = returns.loc[[i[0] for i in Training[randomSet[1]]]][randomsymbols]\n",
    "\n",
    "returns_table = session.read_csv(\n",
    "    \"returns.csv\", keys=[\"stock\"], store_name=\"Returns\", array_sep=\";\"\n",
    ")\n",
    "\n",
    "returns_table.head()\n",
    "\n",
    "return_vec = np.array(stocks)"
   ]
  },
  {
   "cell_type": "code",
   "execution_count": 31,
   "id": "f1ee64f1-accc-4a8c-bb31-9559f9d998ad",
   "metadata": {},
   "outputs": [
    {
     "data": {
      "text/plain": [
       "Index(['SOJB', 'DWUS', 'BATRA', 'AXS', 'SOHU', 'KRO', 'AEB', 'NPK', 'SNA',\n",
       "       'ANGI'],\n",
       "      dtype='object')"
      ]
     },
     "execution_count": 31,
     "metadata": {},
     "output_type": "execute_result"
    }
   ],
   "source": []
  },
  {
   "cell_type": "code",
   "execution_count": 18,
   "id": "d90c2d5b-3326-404a-8073-f3ded4845010",
   "metadata": {},
   "outputs": [
    {
     "name": "stderr",
     "output_type": "stream",
     "text": [
      "<ipython-input-14-ac01678354e7>:27: DeprecationWarning:\n",
      "\n",
      "`np.float` is a deprecated alias for the builtin `float`. To silence this warning, use `float` by itself. Doing this will not modify any behavior and is safe. If you specifically wanted the numpy scalar type, use `np.float64` here.\n",
      "Deprecated in NumPy 1.20; for more details and guidance: https://numpy.org/devdocs/release/1.20.0-notes.html#deprecations\n",
      "\n"
     ]
    },
    {
     "data": {
      "text/plain": [
       "[array([0.07869547352950546, 0.0573858069303265, 0.058837870153691976,\n",
       "        0.11870471258767011, 0.18422561957612843, 0.18704272237941513,\n",
       "        0.21198494160405434, 0.05467133159182937, 0.007750952234910514,\n",
       "        0.04070056941246828], dtype=object),\n",
       " 0.0007426975621264477,\n",
       " 0.028719744353543568,\n",
       " 0.025860173161144813,\n",
       " 0.08904276598401967]"
      ]
     },
     "metadata": {},
     "output_type": "display_data"
    },
    {
     "data": {
      "text/plain": [
       "[array([0.15606864449202987, 0.14194338483844182, 0.1354813118222134,\n",
       "        0.10516339763895918, 0.10188134365626612, 0.06081686686994875,\n",
       "        0.13059595330469098, 0.11798887172669695, 0.020114812798593118,\n",
       "        0.029945412852159715], dtype=object),\n",
       " 0.0013105532966780486,\n",
       " 0.02356269213677566,\n",
       " 0.055619845519799156,\n",
       " 0.07869874340162301]"
      ]
     },
     "metadata": {},
     "output_type": "display_data"
    },
    {
     "data": {
      "text/plain": [
       "[array([0.13097657922027472, 0.18001745924312876, 0.11475165209297736,\n",
       "        0.1158807612714381, 0.10962246332575734, 0.18689562952271857,\n",
       "        0.14614103859402525, 0.009366181699243768, 7.056926579842318e-05,\n",
       "        0.006277665764637743], dtype=object),\n",
       " 0.0014102572411195812,\n",
       " 0.020751242547202606,\n",
       " 0.0679601348165868,\n",
       " 0.09821208588277937]"
      ]
     },
     "metadata": {},
     "output_type": "display_data"
    },
    {
     "data": {
      "text/plain": [
       "[array([0.056015210313239285, 0.14222518467081144, 0.15503456962871504,\n",
       "        0.011633596184959825, 0.14336641414090853, 0.0837700580627136,\n",
       "        0.16347372853713144, 0.17089035003612005, 0.06814386615977872,\n",
       "        0.00544702226562211], dtype=object),\n",
       " 0.0014102572411195812,\n",
       " 0.020751242547202606,\n",
       " 0.0679601348165868,\n",
       " -0.07316652873674508]"
      ]
     },
     "metadata": {},
     "output_type": "display_data"
    },
    {
     "data": {
      "text/plain": [
       "[array([0.09619866927628691, 0.04636680754161505, 0.02478792998230933,\n",
       "        0.1168616439056742, 0.06833289855517603, 0.1648260665883093,\n",
       "        0.19199468251806465, 0.07036365466736097, 0.0850247296882348,\n",
       "        0.1352429172769686], dtype=object),\n",
       " 0.0014102572411195812,\n",
       " 0.020751242547202606,\n",
       " 0.0679601348165868,\n",
       " 0.028727960802628443]"
      ]
     },
     "metadata": {},
     "output_type": "display_data"
    },
    {
     "data": {
      "text/plain": [
       "[array([0.02760261426235742, 0.018916015037598207, 0.1502654361282476,\n",
       "        0.011475248319589019, 0.14494018323568136, 0.09266595794381749,\n",
       "        0.1771233464451086, 0.20629667062744633, 0.06339122158602713,\n",
       "        0.10732330641412667], dtype=object),\n",
       " 0.0014102572411195812,\n",
       " 0.020751242547202606,\n",
       " 0.0679601348165868,\n",
       " 0.0013863022173577974]"
      ]
     },
     "metadata": {},
     "output_type": "display_data"
    },
    {
     "data": {
      "text/plain": [
       "[array([0.09631930455146169, 0.13677488628017098, 0.172173694703681,\n",
       "        0.12031226522360335, 0.12182887553470918, 0.02610698889725903,\n",
       "        0.006813285132522549, 0.07368234372873401, 0.095010994977675,\n",
       "        0.15097736097018327], dtype=object),\n",
       " 0.0014102572411195812,\n",
       " 0.020751242547202606,\n",
       " 0.0679601348165868,\n",
       " 0.06886809413764752]"
      ]
     },
     "metadata": {},
     "output_type": "display_data"
    },
    {
     "ename": "KeyboardInterrupt",
     "evalue": "",
     "output_type": "error",
     "traceback": [
      "\u001b[0;31m---------------------------------------------------------------------------\u001b[0m",
      "\u001b[0;31mKeyboardInterrupt\u001b[0m                         Traceback (most recent call last)",
      "\u001b[0;32m<ipython-input-18-1f2dd83bb5d5>\u001b[0m in \u001b[0;36m<module>\u001b[0;34m\u001b[0m\n\u001b[1;32m     35\u001b[0m \u001b[0;34m\u001b[0m\u001b[0m\n\u001b[1;32m     36\u001b[0m     \u001b[0;32mfor\u001b[0m \u001b[0m_\u001b[0m \u001b[0;32min\u001b[0m \u001b[0mrange\u001b[0m\u001b[0;34m(\u001b[0m\u001b[0mn_portfolio\u001b[0m\u001b[0;34m)\u001b[0m\u001b[0;34m:\u001b[0m\u001b[0;34m\u001b[0m\u001b[0;34m\u001b[0m\u001b[0m\n\u001b[0;32m---> 37\u001b[0;31m         means2, stds2, sharpes2, weights2 = np.column_stack([\n\u001b[0m\u001b[1;32m     38\u001b[0m             \u001b[0mrandom_portfolio\u001b[0m\u001b[0;34m(\u001b[0m\u001b[0mreturn_vec\u001b[0m\u001b[0;34m)\u001b[0m\u001b[0;34m\u001b[0m\u001b[0;34m\u001b[0m\u001b[0m\n\u001b[1;32m     39\u001b[0m             \u001b[0;32mfor\u001b[0m \u001b[0m_\u001b[0m \u001b[0;32min\u001b[0m \u001b[0mrange\u001b[0m\u001b[0;34m(\u001b[0m\u001b[0mlen\u001b[0m\u001b[0;34m(\u001b[0m\u001b[0mstocks\u001b[0m\u001b[0;34m.\u001b[0m\u001b[0mcolumns\u001b[0m\u001b[0;34m)\u001b[0m\u001b[0;34m)\u001b[0m\u001b[0;34m\u001b[0m\u001b[0;34m\u001b[0m\u001b[0m\n",
      "\u001b[0;32m<ipython-input-18-1f2dd83bb5d5>\u001b[0m in \u001b[0;36m<listcomp>\u001b[0;34m(.0)\u001b[0m\n\u001b[1;32m     36\u001b[0m     \u001b[0;32mfor\u001b[0m \u001b[0m_\u001b[0m \u001b[0;32min\u001b[0m \u001b[0mrange\u001b[0m\u001b[0;34m(\u001b[0m\u001b[0mn_portfolio\u001b[0m\u001b[0;34m)\u001b[0m\u001b[0;34m:\u001b[0m\u001b[0;34m\u001b[0m\u001b[0;34m\u001b[0m\u001b[0m\n\u001b[1;32m     37\u001b[0m         means2, stds2, sharpes2, weights2 = np.column_stack([\n\u001b[0;32m---> 38\u001b[0;31m             \u001b[0mrandom_portfolio\u001b[0m\u001b[0;34m(\u001b[0m\u001b[0mreturn_vec\u001b[0m\u001b[0;34m)\u001b[0m\u001b[0;34m\u001b[0m\u001b[0;34m\u001b[0m\u001b[0m\n\u001b[0m\u001b[1;32m     39\u001b[0m             \u001b[0;32mfor\u001b[0m \u001b[0m_\u001b[0m \u001b[0;32min\u001b[0m \u001b[0mrange\u001b[0m\u001b[0;34m(\u001b[0m\u001b[0mlen\u001b[0m\u001b[0;34m(\u001b[0m\u001b[0mstocks\u001b[0m\u001b[0;34m.\u001b[0m\u001b[0mcolumns\u001b[0m\u001b[0;34m)\u001b[0m\u001b[0;34m)\u001b[0m\u001b[0;34m\u001b[0m\u001b[0;34m\u001b[0m\u001b[0m\n\u001b[1;32m     40\u001b[0m         ])    \n",
      "\u001b[0;32m<ipython-input-14-ac01678354e7>\u001b[0m in \u001b[0;36mrandom_portfolio\u001b[0;34m(returns)\u001b[0m\n\u001b[1;32m     14\u001b[0m \u001b[0;32mdef\u001b[0m \u001b[0mrandom_portfolio\u001b[0m\u001b[0;34m(\u001b[0m\u001b[0mreturns\u001b[0m\u001b[0;34m)\u001b[0m\u001b[0;34m:\u001b[0m\u001b[0;34m\u001b[0m\u001b[0;34m\u001b[0m\u001b[0m\n\u001b[1;32m     15\u001b[0m \u001b[0;34m\u001b[0m\u001b[0m\n\u001b[0;32m---> 16\u001b[0;31m     \u001b[0mw\u001b[0m \u001b[0;34m=\u001b[0m \u001b[0mrand_weights\u001b[0m\u001b[0;34m(\u001b[0m\u001b[0mlen\u001b[0m\u001b[0;34m(\u001b[0m\u001b[0mpd\u001b[0m\u001b[0;34m.\u001b[0m\u001b[0mDataFrame\u001b[0m\u001b[0;34m(\u001b[0m\u001b[0mreturns\u001b[0m\u001b[0;34m)\u001b[0m\u001b[0;34m.\u001b[0m\u001b[0mcolumns\u001b[0m\u001b[0;34m)\u001b[0m\u001b[0;34m)\u001b[0m\u001b[0;34m\u001b[0m\u001b[0;34m\u001b[0m\u001b[0m\n\u001b[0m\u001b[1;32m     17\u001b[0m \u001b[0;34m\u001b[0m\u001b[0m\n\u001b[1;32m     18\u001b[0m     \u001b[0mp\u001b[0m \u001b[0;34m=\u001b[0m \u001b[0mnp\u001b[0m\u001b[0;34m.\u001b[0m\u001b[0masmatrix\u001b[0m\u001b[0;34m(\u001b[0m\u001b[0mnp\u001b[0m\u001b[0;34m.\u001b[0m\u001b[0mmean\u001b[0m\u001b[0;34m(\u001b[0m\u001b[0mreturns\u001b[0m\u001b[0;34m,\u001b[0m \u001b[0maxis\u001b[0m\u001b[0;34m=\u001b[0m\u001b[0;36m0\u001b[0m\u001b[0;34m)\u001b[0m\u001b[0;34m)\u001b[0m\u001b[0;34m\u001b[0m\u001b[0;34m\u001b[0m\u001b[0m\n",
      "\u001b[0;32m/mnt/distvol/py39/lib/python3.9/site-packages/pandas/core/frame.py\u001b[0m in \u001b[0;36m__init__\u001b[0;34m(self, data, index, columns, dtype, copy)\u001b[0m\n\u001b[1;32m    556\u001b[0m                 \u001b[0mmgr\u001b[0m \u001b[0;34m=\u001b[0m \u001b[0minit_dict\u001b[0m\u001b[0;34m(\u001b[0m\u001b[0;34m{\u001b[0m\u001b[0mdata\u001b[0m\u001b[0;34m.\u001b[0m\u001b[0mname\u001b[0m\u001b[0;34m:\u001b[0m \u001b[0mdata\u001b[0m\u001b[0;34m}\u001b[0m\u001b[0;34m,\u001b[0m \u001b[0mindex\u001b[0m\u001b[0;34m,\u001b[0m \u001b[0mcolumns\u001b[0m\u001b[0;34m,\u001b[0m \u001b[0mdtype\u001b[0m\u001b[0;34m=\u001b[0m\u001b[0mdtype\u001b[0m\u001b[0;34m)\u001b[0m\u001b[0;34m\u001b[0m\u001b[0;34m\u001b[0m\u001b[0m\n\u001b[1;32m    557\u001b[0m             \u001b[0;32melse\u001b[0m\u001b[0;34m:\u001b[0m\u001b[0;34m\u001b[0m\u001b[0;34m\u001b[0m\u001b[0m\n\u001b[0;32m--> 558\u001b[0;31m                 \u001b[0mmgr\u001b[0m \u001b[0;34m=\u001b[0m \u001b[0minit_ndarray\u001b[0m\u001b[0;34m(\u001b[0m\u001b[0mdata\u001b[0m\u001b[0;34m,\u001b[0m \u001b[0mindex\u001b[0m\u001b[0;34m,\u001b[0m \u001b[0mcolumns\u001b[0m\u001b[0;34m,\u001b[0m \u001b[0mdtype\u001b[0m\u001b[0;34m=\u001b[0m\u001b[0mdtype\u001b[0m\u001b[0;34m,\u001b[0m \u001b[0mcopy\u001b[0m\u001b[0;34m=\u001b[0m\u001b[0mcopy\u001b[0m\u001b[0;34m)\u001b[0m\u001b[0;34m\u001b[0m\u001b[0;34m\u001b[0m\u001b[0m\n\u001b[0m\u001b[1;32m    559\u001b[0m \u001b[0;34m\u001b[0m\u001b[0m\n\u001b[1;32m    560\u001b[0m         \u001b[0;31m# For data is list-like, or Iterable (will consume into list)\u001b[0m\u001b[0;34m\u001b[0m\u001b[0;34m\u001b[0m\u001b[0;34m\u001b[0m\u001b[0m\n",
      "\u001b[0;32m/mnt/distvol/py39/lib/python3.9/site-packages/pandas/core/internals/construction.py\u001b[0m in \u001b[0;36minit_ndarray\u001b[0;34m(values, index, columns, dtype, copy)\u001b[0m\n\u001b[1;32m    146\u001b[0m     \u001b[0;31m# input must be a ndarray, list, Series, index\u001b[0m\u001b[0;34m\u001b[0m\u001b[0;34m\u001b[0m\u001b[0;34m\u001b[0m\u001b[0m\n\u001b[1;32m    147\u001b[0m \u001b[0;34m\u001b[0m\u001b[0m\n\u001b[0;32m--> 148\u001b[0;31m     \u001b[0;32mif\u001b[0m \u001b[0misinstance\u001b[0m\u001b[0;34m(\u001b[0m\u001b[0mvalues\u001b[0m\u001b[0;34m,\u001b[0m \u001b[0mABCSeries\u001b[0m\u001b[0;34m)\u001b[0m\u001b[0;34m:\u001b[0m\u001b[0;34m\u001b[0m\u001b[0;34m\u001b[0m\u001b[0m\n\u001b[0m\u001b[1;32m    149\u001b[0m         \u001b[0;32mif\u001b[0m \u001b[0mcolumns\u001b[0m \u001b[0;32mis\u001b[0m \u001b[0;32mNone\u001b[0m\u001b[0;34m:\u001b[0m\u001b[0;34m\u001b[0m\u001b[0;34m\u001b[0m\u001b[0m\n\u001b[1;32m    150\u001b[0m             \u001b[0;32mif\u001b[0m \u001b[0mvalues\u001b[0m\u001b[0;34m.\u001b[0m\u001b[0mname\u001b[0m \u001b[0;32mis\u001b[0m \u001b[0;32mnot\u001b[0m \u001b[0;32mNone\u001b[0m\u001b[0;34m:\u001b[0m\u001b[0;34m\u001b[0m\u001b[0;34m\u001b[0m\u001b[0m\n",
      "\u001b[0;32m/mnt/distvol/py39/lib/python3.9/site-packages/pandas/core/dtypes/generic.py\u001b[0m in \u001b[0;36m_check\u001b[0;34m(cls, inst)\u001b[0m\n\u001b[1;32m     28\u001b[0m     \u001b[0;31m# https://github.com/python/mypy/issues/1006\u001b[0m\u001b[0;34m\u001b[0m\u001b[0;34m\u001b[0m\u001b[0;34m\u001b[0m\u001b[0m\n\u001b[1;32m     29\u001b[0m     \u001b[0;31m# error: 'classmethod' used with a non-method\u001b[0m\u001b[0;34m\u001b[0m\u001b[0;34m\u001b[0m\u001b[0;34m\u001b[0m\u001b[0m\n\u001b[0;32m---> 30\u001b[0;31m     \u001b[0;34m@\u001b[0m\u001b[0mclassmethod\u001b[0m  \u001b[0;31m# type: ignore[misc]\u001b[0m\u001b[0;34m\u001b[0m\u001b[0;34m\u001b[0m\u001b[0m\n\u001b[0m\u001b[1;32m     31\u001b[0m     \u001b[0;32mdef\u001b[0m \u001b[0m_check\u001b[0m\u001b[0;34m(\u001b[0m\u001b[0mcls\u001b[0m\u001b[0;34m,\u001b[0m \u001b[0minst\u001b[0m\u001b[0;34m)\u001b[0m \u001b[0;34m->\u001b[0m \u001b[0mbool\u001b[0m\u001b[0;34m:\u001b[0m\u001b[0;34m\u001b[0m\u001b[0;34m\u001b[0m\u001b[0m\n\u001b[1;32m     32\u001b[0m         \u001b[0;32mreturn\u001b[0m \u001b[0mgetattr\u001b[0m\u001b[0;34m(\u001b[0m\u001b[0minst\u001b[0m\u001b[0;34m,\u001b[0m \u001b[0mattr\u001b[0m\u001b[0;34m,\u001b[0m \u001b[0;34m\"_typ\"\u001b[0m\u001b[0;34m)\u001b[0m \u001b[0;32min\u001b[0m \u001b[0mcomp\u001b[0m\u001b[0;34m\u001b[0m\u001b[0;34m\u001b[0m\u001b[0m\n",
      "\u001b[0;31mKeyboardInterrupt\u001b[0m: "
     ]
    }
   ],
   "source": [
    "#years = 10\n",
    "\n",
    "\n",
    "import contextlib\n",
    "\n",
    "stocksp = .2\n",
    "mfundsp = .1\n",
    "bondsp = .2\n",
    "commp = .2\n",
    "\n",
    "n_portfolio = 100\n",
    "\n",
    "bestSharpe = 0\n",
    "runs = 0\n",
    "weight = None\n",
    "bestMean = 0\n",
    "bestStd = 0\n",
    "means = np.array([])\n",
    "stds = np.array([])\n",
    "sharpes = np.array([])\n",
    "bestWeights = None\n",
    "weights = np.array([])\n",
    "\n",
    "#random dates using X_index\n",
    "\n",
    "randomSet = list(np.sort(np.random.choice(range(0,len(X_index)),nran)))\n",
    "\n",
    "for tensor in randomSet:\n",
    "    \n",
    "    randomsymbols = list(np.random.choice(pf.data.columns,10,replace=False))\n",
    "    #random columns\n",
    "    stocks = returns.loc[[i[0] for i in X_index[tensor]]][randomsymbols]\n",
    "    \n",
    "    return_vec = np.array(stocks)\n",
    "    \n",
    "    #display(pd.DataFrame(stocks.cumsum().iloc[-1]).transpose())\n",
    "\n",
    "    for _ in range(n_portfolio):    \n",
    "        means2, stds2, sharpes2, weights2 = np.column_stack([\n",
    "            random_portfolio(return_vec)\n",
    "            for _ in range(len(stocks.columns))\n",
    "        ])    \n",
    "        means_ = means2\n",
    "        stds_ = stds2\n",
    "        sharpes_ = sharpes2\n",
    "        weights_ = weights2                \n",
    "\n",
    "        bestWeights = weights_[sharpes_.argmax()]\n",
    "\n",
    "        means = np.append(means,means_)\n",
    "        stds = np.append(stds,stds_)\n",
    "        sharpes = np.append(sharpes,sharpes_)\n",
    "        weights = np.append(weights,weights_)\n",
    "\n",
    "    df_ = pd.DataFrame(weights[sharpes.argmax()]).set_index(stocks.columns)\n",
    "    df_.columns = ['Weights']\n",
    "            \n",
    "    next4weeks = returns.loc[[i[0] for i in y_index[tensor]]][randomsymbols]\n",
    "\n",
    "    df_.sort_values(by=['Weights'],ascending=False,inplace=True)\n",
    "\n",
    "    wr = np.array(weighted_return(np.array((np.exp(next4weeks)-1).cumsum().tail(1)),weights[sharpes.argmax()]))[0][0]\n",
    "    \n",
    "    max_sr_ret = means[sharpes.argmax()]\n",
    "    max_sr_vol = stds[sharpes.argmax()]\n",
    "    max_sharpe = sharpes[sharpes.argmax()]\n",
    "\n",
    "    display([bestWeights, max_sr_ret, max_sr_vol, max_sharpe, wr])\n"
   ]
  }
 ],
 "metadata": {
  "kernelspec": {
   "display_name": "Python 3 (ipykernel)",
   "language": "python",
   "name": "python3"
  },
  "language_info": {
   "codemirror_mode": {
    "name": "ipython",
    "version": 3
   },
   "file_extension": ".py",
   "mimetype": "text/x-python",
   "name": "python",
   "nbconvert_exporter": "python",
   "pygments_lexer": "ipython3",
   "version": "3.9.6"
  }
 },
 "nbformat": 4,
 "nbformat_minor": 5
}

{
 "cells": [
  {
   "cell_type": "code",
   "execution_count": 408,
   "id": "applied-samuel",
   "metadata": {},
   "outputs": [],
   "source": [
    "#!pip install numba yfinance pandas datetime cudf numba"
   ]
  },
  {
   "cell_type": "code",
   "execution_count": 409,
   "id": "spectacular-gamma",
   "metadata": {},
   "outputs": [],
   "source": [
    "#!pip install cudf"
   ]
  },
  {
   "cell_type": "code",
   "execution_count": 410,
   "id": "institutional-atlas",
   "metadata": {},
   "outputs": [],
   "source": [
    "import yfinance\n",
    "import pandas as pd\n",
    "import numpy as np\n",
    "import matplotlib.pyplot as plt\n",
    "import datetime as dt\n",
    "import datetime\n",
    "from datetime import timedelta\n",
    "from datetime import date\n",
    "\n",
    "import cupy as cp"
   ]
  },
  {
   "cell_type": "code",
   "execution_count": 411,
   "id": "verified-throat",
   "metadata": {},
   "outputs": [],
   "source": [
    "import numpy as np\n",
    "\n",
    "import numba\n",
    "from numba import cuda\n",
    "\n",
    "@numba.jit(nopython=True)\n",
    "def compute_bin(x, n, xmin, xmax):\n",
    "    # special case to mirror NumPy behavior for last bin\n",
    "    if x == xmax:\n",
    "        return n - 1 # a_max always in last bin\n",
    "\n",
    "    # SPEEDTIP: Remove the float64 casts if you don't need to exactly reproduce NumPy\n",
    "    bin = np.int32(n * (np.float64(x) - np.float64(xmin)) / (np.float64(xmax) - np.float64(xmin)))\n",
    "\n",
    "    if bin < 0 or bin >= n:\n",
    "        return None\n",
    "    else:\n",
    "        return bin\n",
    "\n",
    "@cuda.jit\n",
    "def histogram(x, xmin, xmax, histogram_out):\n",
    "    nbins = histogram_out.shape[0]\n",
    "    bin_width = (xmax - xmin) / nbins\n",
    "\n",
    "    start = cuda.grid(1)\n",
    "    stride = cuda.gridsize(1)\n",
    "\n",
    "    for i in range(start, x.shape[0], stride):\n",
    "        # note that calling a numba.jit function from CUDA automatically\n",
    "        # compiles an equivalent CUDA device function!\n",
    "        bin_number = compute_bin(x[i], nbins, xmin, xmax)\n",
    "\n",
    "        if bin_number >= 0 and bin_number < histogram_out.shape[0]:\n",
    "            cuda.atomic.add(histogram_out, bin_number, 1)\n",
    "\n",
    "@cuda.jit\n",
    "def min_max(x, min_max_array):\n",
    "    nelements = x.shape[0]\n",
    "\n",
    "    start = cuda.grid(1)\n",
    "    stride = cuda.gridsize(1)\n",
    "\n",
    "    # Array already seeded with starting values appropriate for x's dtype\n",
    "    # Not a problem if this array has already been updated\n",
    "    local_min = min_max_array[0]\n",
    "    local_max = min_max_array[1]\n",
    "\n",
    "    for i in range(start, x.shape[0], stride):\n",
    "        element = x[i]\n",
    "        local_min = min(element, local_min)\n",
    "        local_max = max(element, local_max)\n",
    "\n",
    "    # Now combine each thread local min and max\n",
    "    cuda.atomic.min(min_max_array, 0, local_min)\n",
    "    cuda.atomic.max(min_max_array, 1, local_max)\n",
    "\n",
    "\n",
    "def dtype_min_max(dtype):\n",
    "    '''Get the min and max value for a numeric dtype'''\n",
    "    if np.issubdtype(dtype, np.integer):\n",
    "        info = np.iinfo(dtype)\n",
    "    else:\n",
    "        info = np.finfo(dtype)\n",
    "    return info.min, info.max\n",
    "\n",
    "\n",
    "@numba.jit(nopython=True)\n",
    "def get_bin_edges(a, nbins, a_min, a_max):\n",
    "    bin_edges = np.empty((nbins+1,), dtype=np.float64)\n",
    "    delta = (a_max - a_min) / nbins\n",
    "    for i in range(bin_edges.shape[0]):\n",
    "        bin_edges[i] = a_min + i * delta\n",
    "\n",
    "    bin_edges[-1] = a_max  # Avoid roundoff error on last point\n",
    "    return bin_edges\n",
    "\n",
    "\n",
    "def numba_gpu_histogram(a, bins):\n",
    "    # Move data to GPU so we can do two operations on it\n",
    "    a_gpu = cuda.to_device(a)\n",
    "\n",
    "    ### Find min and max value in array\n",
    "    dtype_min, dtype_max = dtype_min_max(a.dtype)\n",
    "    # Put them in the array in reverse order so that they will be replaced by the first element in the array\n",
    "    min_max_array_gpu = cuda.to_device(np.array([dtype_max, dtype_min], dtype=a.dtype))\n",
    "    min_max[64, 64](a_gpu, min_max_array_gpu)\n",
    "    a_min, a_max = min_max_array_gpu.copy_to_host()\n",
    "\n",
    "    # SPEEDTIP: Skip this step if you don't need to reproduce the NumPy histogram edge array\n",
    "    bin_edges = get_bin_edges(a, bins, a_min, a_max) # Doing this on CPU for now\n",
    "\n",
    "    ### Bin the data into a histogram \n",
    "    histogram_out = cuda.to_device(np.zeros(shape=(bins,), dtype=np.int32))\n",
    "    histogram[64, 64](a_gpu, a_min, a_max, histogram_out)\n",
    "\n",
    "    return histogram_out.copy_to_host(), bin_edges"
   ]
  },
  {
   "cell_type": "code",
   "execution_count": 412,
   "id": "planned-history",
   "metadata": {},
   "outputs": [],
   "source": [
    "\n",
    "\n",
    "n_forward = 7\n",
    "name = 'BTC-USD'\n",
    "#name = 'GLD'\n",
    "#name = 'SPY'\n",
    "#name = 'GOOG'\n",
    "\n",
    "#strategy = \"EMA\"\n",
    "strategy = \"SMA\"\n",
    "#indicator = 'Close'\n",
    "indicator = 'VWP'\n",
    "\n",
    "w=117\n",
    "end_date = datetime.date.today()\n",
    "#end_date = datetime.date.today() - timedelta(weeks=w)\n",
    "end_date1 = end_date - timedelta(weeks=w)\n",
    "start_date = end_date1 - timedelta(weeks=w)\n",
    "\n",
    "benchName = \"^GSPC\"\n",
    "bench = yfinance.Ticker(benchName)\n",
    "#bench Data needs to be +1 because it ends the day before end_date\n",
    "\n",
    "benchData = bench.history(interval=\"1d\",start=start_date,end=end_date+timedelta(days=1), auto_adjust=True)"
   ]
  },
  {
   "cell_type": "code",
   "execution_count": 413,
   "id": "human-sector",
   "metadata": {},
   "outputs": [],
   "source": [
    "calc_returns = cp.ElementwiseKernel(\n",
    "   'float32 x, float32 y',\n",
    "   'float32 z',\n",
    "   'z = (x - y) / y',\n",
    "   'calc_returns')"
   ]
  },
  {
   "cell_type": "code",
   "execution_count": null,
   "id": "covered-suicide",
   "metadata": {},
   "outputs": [],
   "source": []
  },
  {
   "cell_type": "code",
   "execution_count": 416,
   "id": "adequate-realtor",
   "metadata": {},
   "outputs": [],
   "source": [
    "returns = cp.ndarray.get(calc_returns(cp.array(benchData['Close'],dtype=np.float32),cp.array(benchData['Close'].shift(+1),dtype=np.float32)))"
   ]
  },
  {
   "cell_type": "code",
   "execution_count": null,
   "id": "considerable-chicago",
   "metadata": {},
   "outputs": [],
   "source": []
  },
  {
   "cell_type": "code",
   "execution_count": null,
   "id": "wrong-cyprus",
   "metadata": {},
   "outputs": [],
   "source": []
  },
  {
   "cell_type": "code",
   "execution_count": 419,
   "id": "large-nurse",
   "metadata": {},
   "outputs": [
    {
     "data": {
      "text/plain": [
       "(array([[ 66.,   8.,   5.,   2.,   2.,   0.,   2.,   1.,   2.,   0.,   1.,\n",
       "           0.,   0.,   0.,   0.,   0.,   1.,   0.,   0.,   0.,   0.,   1.,\n",
       "           0.,   0.,   0.,   0.,   2.,   0.,   0.,   0.,   1.,   0.,   0.,\n",
       "           0.,   0.,   0.,   0.,   0.,   0.,   0.,   0.,   0.,   0.,   0.,\n",
       "           0.,   2.,   0.,   0.,   1.,   0.,   0.,   0.,   0.,   0.,   0.,\n",
       "           0.,   0.,   0.,   0.,   0.,   0.,   0.,   0.,   0.,   0.,   1.,\n",
       "           0.,   0.,   0.,   0.,   0.,   0.,   0.,   0.,   0.,   0.,   0.,\n",
       "           0.,   0.,   0.,   0.,   0.,   0.,   0.,   0.,   0.,   0.,   0.,\n",
       "           0.,   0.,   0.,   0.,   1.,   0.,   0.,   0.,   0.,   0.,   0.,\n",
       "           1.],\n",
       "        [101.,   0.,   0.,   0.,   0.,   0.,   0.,   0.,   0.,   0.,   0.,\n",
       "           0.,   0.,   0.,   0.,   0.,   0.,   0.,   0.,   0.,   0.,   0.,\n",
       "           0.,   0.,   0.,   0.,   0.,   0.,   0.,   0.,   0.,   0.,   0.,\n",
       "           0.,   0.,   0.,   0.,   0.,   0.,   0.,   0.,   0.,   0.,   0.,\n",
       "           0.,   0.,   0.,   0.,   0.,   0.,   0.,   0.,   0.,   0.,   0.,\n",
       "           0.,   0.,   0.,   0.,   0.,   0.,   0.,   0.,   0.,   0.,   0.,\n",
       "           0.,   0.,   0.,   0.,   0.,   0.,   0.,   0.,   0.,   0.,   0.,\n",
       "           0.,   0.,   0.,   0.,   0.,   0.,   0.,   0.,   0.,   0.,   0.,\n",
       "           0.,   0.,   0.,   0.,   0.,   0.,   0.,   0.,   0.,   0.,   0.,\n",
       "           0.]]),\n",
       " array([-1.19840555e-01,  1.72135785e+00,  3.56255626e+00,  5.40375466e+00,\n",
       "         7.24495307e+00,  9.08615147e+00,  1.09273499e+01,  1.27685483e+01,\n",
       "         1.46097467e+01,  1.64509451e+01,  1.82921435e+01,  2.01333419e+01,\n",
       "         2.19745403e+01,  2.38157387e+01,  2.56569371e+01,  2.74981355e+01,\n",
       "         2.93393339e+01,  3.11805323e+01,  3.30217307e+01,  3.48629292e+01,\n",
       "         3.67041276e+01,  3.85453260e+01,  4.03865244e+01,  4.22277228e+01,\n",
       "         4.40689212e+01,  4.59101196e+01,  4.77513180e+01,  4.95925164e+01,\n",
       "         5.14337148e+01,  5.32749132e+01,  5.51161116e+01,  5.69573100e+01,\n",
       "         5.87985084e+01,  6.06397068e+01,  6.24809052e+01,  6.43221036e+01,\n",
       "         6.61633020e+01,  6.80045005e+01,  6.98456989e+01,  7.16868973e+01,\n",
       "         7.35280957e+01,  7.53692941e+01,  7.72104925e+01,  7.90516909e+01,\n",
       "         8.08928893e+01,  8.27340877e+01,  8.45752861e+01,  8.64164845e+01,\n",
       "         8.82576829e+01,  9.00988813e+01,  9.19400797e+01,  9.37812781e+01,\n",
       "         9.56224765e+01,  9.74636749e+01,  9.93048733e+01,  1.01146072e+02,\n",
       "         1.02987270e+02,  1.04828469e+02,  1.06669667e+02,  1.08510865e+02,\n",
       "         1.10352064e+02,  1.12193262e+02,  1.14034461e+02,  1.15875659e+02,\n",
       "         1.17716857e+02,  1.19558056e+02,  1.21399254e+02,  1.23240453e+02,\n",
       "         1.25081651e+02,  1.26922849e+02,  1.28764048e+02,  1.30605246e+02,\n",
       "         1.32446445e+02,  1.34287643e+02,  1.36128841e+02,  1.37970040e+02,\n",
       "         1.39811238e+02,  1.41652437e+02,  1.43493635e+02,  1.45334833e+02,\n",
       "         1.47176032e+02,  1.49017230e+02,  1.50858429e+02,  1.52699627e+02,\n",
       "         1.54540826e+02,  1.56382024e+02,  1.58223222e+02,  1.60064421e+02,\n",
       "         1.61905619e+02,  1.63746818e+02,  1.65588016e+02,  1.67429214e+02,\n",
       "         1.69270413e+02,  1.71111611e+02,  1.72952810e+02,  1.74794008e+02,\n",
       "         1.76635206e+02,  1.78476405e+02,  1.80317603e+02,  1.82158802e+02,\n",
       "         1.84000000e+02]),\n",
       " <a list of 2 BarContainer objects>)"
      ]
     },
     "execution_count": 419,
     "metadata": {},
     "output_type": "execute_result"
    },
    {
     "data": {
      "image/png": "[encoded data removed]",
      "text/plain": [
       "<Figure size 432x288 with 1 Axes>"
      ]
     },
     "metadata": {
      "needs_background": "light"
     },
     "output_type": "display_data"
    }
   ],
   "source": [
    "\n",
    "\n",
    "b = 100\n",
    "plt.hist(numba_gpu_histogram(returns,b), bins=b)  # arguments are passed to np.histogram"
   ]
  },
  {
   "cell_type": "code",
   "execution_count": null,
   "id": "exterior-trial",
   "metadata": {},
   "outputs": [],
   "source": []
  },
  {
   "cell_type": "code",
   "execution_count": null,
   "id": "ongoing-accommodation",
   "metadata": {},
   "outputs": [],
   "source": []
  },
  {
   "cell_type": "code",
   "execution_count": null,
   "id": "temporal-philip",
   "metadata": {},
   "outputs": [],
   "source": []
  }
 ],
 "metadata": {
  "kernelspec": {
   "display_name": "Python 3",
   "language": "python",
   "name": "python3"
  },
  "language_info": {
   "codemirror_mode": {
    "name": "ipython",
    "version": 3
   },
   "file_extension": ".py",
   "mimetype": "text/x-python",
   "name": "python",
   "nbconvert_exporter": "python",
   "pygments_lexer": "ipython3",
   "version": "3.8.8"
  },
  "toc-showtags": true
 },
 "nbformat": 4,
 "nbformat_minor": 5
}

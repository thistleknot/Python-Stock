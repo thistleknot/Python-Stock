{
 "cells": [
  {
   "cell_type": "code",
   "execution_count": 121,
   "id": "12993b60-334d-4d7f-9d4b-234e122b436c",
   "metadata": {},
   "outputs": [
    {
     "data": {
      "text/plain": [
       "'4.14.3'"
      ]
     },
     "execution_count": 121,
     "metadata": {},
     "output_type": "execute_result"
    }
   ],
   "source": [
    "%matplotlib inline\n",
    "import numpy as np\n",
    "import matplotlib.pyplot as plt\n",
    "import cvxopt as opt\n",
    "from cvxopt import blas, solvers\n",
    "import pandas as pd\n",
    "\n",
    "np.random.seed(123)\n",
    "\n",
    "# Turn off progress printing \n",
    "solvers.options['show_progress'] = False\n",
    "import plotly\n",
    "import cufflinks\n",
    "plotly.__version__"
   ]
  },
  {
   "cell_type": "code",
   "execution_count": 122,
   "id": "e6d43e09-7582-409e-89e5-6ebd8191121f",
   "metadata": {},
   "outputs": [],
   "source": [
    "# (*) To communicate with Plotly's server, sign in with credentials file\n",
    "import plotly as py  \n",
    "\n",
    "# (*) Useful Python/Plotly tools\n",
    "import plotly.tools as tls   \n",
    "\n",
    "# (*) Graph objects to piece together plots\n",
    "from plotly.graph_objs import *\n"
   ]
  },
  {
   "cell_type": "code",
   "execution_count": 123,
   "id": "f0ba45e2-4935-4248-a9c8-4fbdeef09d12",
   "metadata": {},
   "outputs": [],
   "source": [
    "def rand_weights(n):\n",
    "    ''' Produces n random weights that sum to 1 '''\n",
    "    k = np.random.rand(n)\n",
    "    return k / sum(k)"
   ]
  },
  {
   "cell_type": "code",
   "execution_count": 124,
   "id": "e17d82a4-901b-424d-b742-1dfb3df0f542",
   "metadata": {},
   "outputs": [],
   "source": [
    "def random_portfolio(returns):\n",
    "    ''' \n",
    "    Returns the mean and standard deviation of returns for a random portfolio\n",
    "    '''\n",
    "\n",
    "    p = np.asmatrix(np.mean(returns, axis=1))\n",
    "    w = np.asmatrix(rand_weights(returns.shape[0]))\n",
    "    C = np.asmatrix(np.cov(returns))\n",
    "    \n",
    "    mu = w * p.T\n",
    "    sigma = np.sqrt(w * C * w.T)\n",
    "    \n",
    "    # This recursion reduces outliers to keep plots pretty\n",
    "    if sigma > 2:\n",
    "        return random_portfolio(returns)\n",
    "    return mu, sigma"
   ]
  },
  {
   "cell_type": "code",
   "execution_count": 125,
   "id": "c2a03c4d-492d-4d89-94a3-a9bf26c9a8d4",
   "metadata": {},
   "outputs": [],
   "source": [
    "def optimal_portfolio(returns):\n",
    "    n = len(returns)\n",
    "    returns = np.asmatrix(returns)\n",
    "    \n",
    "    N = 100\n",
    "    mus = [10**(5.0 * t/N - 1.0) for t in range(N)]\n",
    "    \n",
    "    # Convert to cvxopt matrices\n",
    "    S = opt.matrix(np.cov(returns))\n",
    "    pbar = opt.matrix(np.mean(returns, axis=1))\n",
    "    \n",
    "    # Create constraint matrices\n",
    "    G = -opt.matrix(np.eye(n))   # negative n x n identity matrix\n",
    "    h = opt.matrix(0.0, (n ,1))\n",
    "    A = opt.matrix(1.0, (1, n))\n",
    "    b = opt.matrix(1.0)\n",
    "    \n",
    "    # Calculate efficient frontier weights using quadratic programming\n",
    "    portfolios = [solvers.qp(mu*S, -pbar, G, h, A, b)['x'] \n",
    "                  for mu in mus]\n",
    "    ## CALCULATE RISKS AND RETURNS FOR FRONTIER\n",
    "    returns = [blas.dot(pbar, x) for x in portfolios]\n",
    "    risks = [np.sqrt(blas.dot(x, S*x)) for x in portfolios]\n",
    "    ## CALCULATE THE 2ND DEGREE POLYNOMIAL OF THE FRONTIER CURVE\n",
    "    m1 = np.polyfit(returns, risks, 2)\n",
    "    x1 = np.sqrt(m1[2] / m1[0])\n",
    "    # CALCULATE THE OPTIMAL PORTFOLIO\n",
    "    wt = solvers.qp(opt.matrix(x1 * S), -pbar, G, h, A, b)['x']\n",
    "    return np.asarray(wt), returns, risks"
   ]
  },
  {
   "cell_type": "code",
   "execution_count": 126,
   "id": "61e2ea27-3cc9-49f9-a802-88df8088c835",
   "metadata": {},
   "outputs": [],
   "source": [
    "import yfinance as yf\n",
    "def dl(stock, start, end):\n",
    "    subset = yf.download(stock, start=start, end=end, auto_adjust=True).iloc[:, :6].dropna(axis=0, how='any')\n",
    "    subset = subset[start:end]\n",
    "    subset2 = subset[start:end]\n",
    "    if (len(subset) != 0) and (len(subset2)!=0):\n",
    "        return (subset)\n"
   ]
  },
  {
   "cell_type": "code",
   "execution_count": 127,
   "id": "f24f1463-0761-405d-bad3-47a7a1a49c23",
   "metadata": {},
   "outputs": [],
   "source": [
    "import pandas as pd\n",
    "end = pd.Timestamp.utcnow()\n",
    "start = (end - 2500 * pd.tseries.offsets.BDay())\n",
    "start = start.strftime('%Y-%m-%d')\n",
    "end = end.strftime('%Y-%m-%d')\n"
   ]
  },
  {
   "cell_type": "code",
   "execution_count": null,
   "id": "54ac851d-c64c-4bbb-a38c-1d05ef02d7ed",
   "metadata": {},
   "outputs": [],
   "source": []
  },
  {
   "cell_type": "code",
   "execution_count": 128,
   "id": "cb202820-d22f-4f3a-a87a-59285e96227b",
   "metadata": {},
   "outputs": [
    {
     "name": "stdout",
     "output_type": "stream",
     "text": [
      "[*********************100%***********************]  1 of 1 completed\n",
      "[*********************100%***********************]  1 of 1 completed\n",
      "[*********************100%***********************]  1 of 1 completed\n",
      "[*********************100%***********************]  1 of 1 completed\n",
      "[*********************100%***********************]  1 of 1 completed\n",
      "[*********************100%***********************]  1 of 1 completed\n",
      "[*********************100%***********************]  1 of 1 completed\n"
     ]
    }
   ],
   "source": [
    "symbols = ['IBM', 'GLD', 'XOM', 'AAPL', 'MSFT', 'TLT', 'SHY']\n",
    "\n",
    "stocks = []\n",
    "for i in symbols:\n",
    "    stocks.append(dl(i,start,end))\n",
    "\n"
   ]
  },
  {
   "cell_type": "code",
   "execution_count": 129,
   "id": "6b465e14-a074-4641-b975-9dfb8b86be13",
   "metadata": {},
   "outputs": [
    {
     "data": {
      "text/html": [
       "<div>\n",
       "<style scoped>\n",
       "    .dataframe tbody tr th:only-of-type {\n",
       "        vertical-align: middle;\n",
       "    }\n",
       "\n",
       "    .dataframe tbody tr th {\n",
       "        vertical-align: top;\n",
       "    }\n",
       "\n",
       "    .dataframe thead th {\n",
       "        text-align: right;\n",
       "    }\n",
       "</style>\n",
       "<table border=\"1\" class=\"dataframe\">\n",
       "  <thead>\n",
       "    <tr style=\"text-align: right;\">\n",
       "      <th></th>\n",
       "      <th>0</th>\n",
       "      <th>1</th>\n",
       "      <th>2</th>\n",
       "      <th>3</th>\n",
       "      <th>4</th>\n",
       "      <th>5</th>\n",
       "      <th>6</th>\n",
       "    </tr>\n",
       "  </thead>\n",
       "  <tbody>\n",
       "    <tr>\n",
       "      <th>0</th>\n",
       "      <td>-0.017925</td>\n",
       "      <td>0.000239</td>\n",
       "      <td>-0.027919</td>\n",
       "      <td>-0.020643</td>\n",
       "      <td>-0.024326</td>\n",
       "      <td>0.032926</td>\n",
       "      <td>0.000095</td>\n",
       "    </tr>\n",
       "    <tr>\n",
       "      <th>1</th>\n",
       "      <td>0.014072</td>\n",
       "      <td>0.009987</td>\n",
       "      <td>0.018655</td>\n",
       "      <td>0.002268</td>\n",
       "      <td>0.000769</td>\n",
       "      <td>-0.012553</td>\n",
       "      <td>0.000237</td>\n",
       "    </tr>\n",
       "    <tr>\n",
       "      <th>2</th>\n",
       "      <td>0.018210</td>\n",
       "      <td>0.015612</td>\n",
       "      <td>0.019075</td>\n",
       "      <td>0.014142</td>\n",
       "      <td>0.019796</td>\n",
       "      <td>-0.013828</td>\n",
       "      <td>0.000118</td>\n",
       "    </tr>\n",
       "    <tr>\n",
       "      <th>3</th>\n",
       "      <td>-0.004924</td>\n",
       "      <td>-0.005079</td>\n",
       "      <td>-0.004321</td>\n",
       "      <td>-0.007046</td>\n",
       "      <td>-0.010610</td>\n",
       "      <td>0.001203</td>\n",
       "      <td>0.000000</td>\n",
       "    </tr>\n",
       "    <tr>\n",
       "      <th>4</th>\n",
       "      <td>0.005031</td>\n",
       "      <td>0.023886</td>\n",
       "      <td>0.010515</td>\n",
       "      <td>-0.001276</td>\n",
       "      <td>0.020736</td>\n",
       "      <td>0.006333</td>\n",
       "      <td>-0.000237</td>\n",
       "    </tr>\n",
       "    <tr>\n",
       "      <th>...</th>\n",
       "      <td>...</td>\n",
       "      <td>...</td>\n",
       "      <td>...</td>\n",
       "      <td>...</td>\n",
       "      <td>...</td>\n",
       "      <td>...</td>\n",
       "      <td>...</td>\n",
       "    </tr>\n",
       "    <tr>\n",
       "      <th>2404</th>\n",
       "      <td>-0.000138</td>\n",
       "      <td>0.001759</td>\n",
       "      <td>0.011643</td>\n",
       "      <td>0.013226</td>\n",
       "      <td>0.022624</td>\n",
       "      <td>0.003698</td>\n",
       "      <td>0.000232</td>\n",
       "    </tr>\n",
       "    <tr>\n",
       "      <th>2405</th>\n",
       "      <td>-0.006447</td>\n",
       "      <td>0.009032</td>\n",
       "      <td>-0.022908</td>\n",
       "      <td>-0.001575</td>\n",
       "      <td>0.003741</td>\n",
       "      <td>0.009221</td>\n",
       "      <td>0.000000</td>\n",
       "    </tr>\n",
       "    <tr>\n",
       "      <th>2406</th>\n",
       "      <td>-0.002855</td>\n",
       "      <td>-0.001744</td>\n",
       "      <td>0.011604</td>\n",
       "      <td>-0.000394</td>\n",
       "      <td>-0.000914</td>\n",
       "      <td>-0.001722</td>\n",
       "      <td>0.000232</td>\n",
       "    </tr>\n",
       "    <tr>\n",
       "      <th>2407</th>\n",
       "      <td>0.003064</td>\n",
       "      <td>0.000394</td>\n",
       "      <td>-0.006468</td>\n",
       "      <td>-0.012454</td>\n",
       "      <td>-0.008706</td>\n",
       "      <td>-0.004031</td>\n",
       "      <td>0.000000</td>\n",
       "    </tr>\n",
       "    <tr>\n",
       "      <th>2408</th>\n",
       "      <td>-0.000556</td>\n",
       "      <td>0.003763</td>\n",
       "      <td>-0.003250</td>\n",
       "      <td>-0.005362</td>\n",
       "      <td>0.001483</td>\n",
       "      <td>-0.001588</td>\n",
       "      <td>0.000000</td>\n",
       "    </tr>\n",
       "  </tbody>\n",
       "</table>\n",
       "<p>2409 rows × 7 columns</p>\n",
       "</div>"
      ],
      "text/plain": [
       "             0         1         2         3         4         5         6\n",
       "0    -0.017925  0.000239 -0.027919 -0.020643 -0.024326  0.032926  0.000095\n",
       "1     0.014072  0.009987  0.018655  0.002268  0.000769 -0.012553  0.000237\n",
       "2     0.018210  0.015612  0.019075  0.014142  0.019796 -0.013828  0.000118\n",
       "3    -0.004924 -0.005079 -0.004321 -0.007046 -0.010610  0.001203  0.000000\n",
       "4     0.005031  0.023886  0.010515 -0.001276  0.020736  0.006333 -0.000237\n",
       "...        ...       ...       ...       ...       ...       ...       ...\n",
       "2404 -0.000138  0.001759  0.011643  0.013226  0.022624  0.003698  0.000232\n",
       "2405 -0.006447  0.009032 -0.022908 -0.001575  0.003741  0.009221  0.000000\n",
       "2406 -0.002855 -0.001744  0.011604 -0.000394 -0.000914 -0.001722  0.000232\n",
       "2407  0.003064  0.000394 -0.006468 -0.012454 -0.008706 -0.004031  0.000000\n",
       "2408 -0.000556  0.003763 -0.003250 -0.005362  0.001483 -0.001588  0.000000\n",
       "\n",
       "[2409 rows x 7 columns]"
      ]
     },
     "execution_count": 129,
     "metadata": {},
     "output_type": "execute_result"
    }
   ],
   "source": [
    "return_vec = np.zeros(shape=(len(stocks),len(stocks[0].iloc[:,3])-1))\n",
    "\n",
    "for i in range(0,len(stocks)):\n",
    "    intArray = np.array(np.log(1+stocks[i].iloc[:,3].pct_change().dropna()))\n",
    "    extArray[i] = intArray\n",
    "    \n",
    "pd.DataFrame(return_vec.T)"
   ]
  },
  {
   "cell_type": "code",
   "execution_count": 135,
   "id": "f590ac3a-4233-42c1-b50e-d71ca5b196d5",
   "metadata": {},
   "outputs": [],
   "source": [
    "n_portfolios = 500\n",
    "means, stds = np.column_stack([\n",
    "    random_portfolio(extArray) \n",
    "    for _ in range(n_portfolios)\n",
    "])\n"
   ]
  },
  {
   "cell_type": "code",
   "execution_count": 136,
   "id": "67d01e38-fa40-4a07-b7a8-ef6248eaca4a",
   "metadata": {},
   "outputs": [
    {
     "name": "stderr",
     "output_type": "stream",
     "text": [
      "<ipython-input-125-be24d9d967e1>:9: RuntimeWarning:\n",
      "\n",
      "Degrees of freedom <= 0 for slice\n",
      "\n",
      "/mnt/distvol/Python-3.9.4/lib/python3.9/site-packages/numpy/lib/function_base.py:2480: RuntimeWarning:\n",
      "\n",
      "divide by zero encountered in true_divide\n",
      "\n",
      "/mnt/distvol/Python-3.9.4/lib/python3.9/site-packages/numpy/lib/function_base.py:2480: RuntimeWarning:\n",
      "\n",
      "invalid value encountered in multiply\n",
      "\n"
     ]
    },
    {
     "ename": "TypeError",
     "evalue": "imported array must have 1 or 2 dimensions",
     "output_type": "error",
     "traceback": [
      "\u001b[0;31m---------------------------------------------------------------------------\u001b[0m",
      "\u001b[0;31mTypeError\u001b[0m                                 Traceback (most recent call last)",
      "\u001b[0;32m<ipython-input-136-a18c955a0739>\u001b[0m in \u001b[0;36m<module>\u001b[0;34m\u001b[0m\n\u001b[1;32m      6\u001b[0m \u001b[0;31m#py.iplot_mpl(fig, filename='mean_std', strip_style=True)\u001b[0m\u001b[0;34m\u001b[0m\u001b[0;34m\u001b[0m\u001b[0;34m\u001b[0m\u001b[0m\n\u001b[1;32m      7\u001b[0m \u001b[0;34m\u001b[0m\u001b[0m\n\u001b[0;32m----> 8\u001b[0;31m \u001b[0mweights\u001b[0m\u001b[0;34m,\u001b[0m \u001b[0mreturns\u001b[0m\u001b[0;34m,\u001b[0m \u001b[0mrisks\u001b[0m \u001b[0;34m=\u001b[0m \u001b[0moptimal_portfolio\u001b[0m\u001b[0;34m(\u001b[0m\u001b[0mreturn_vec\u001b[0m\u001b[0;34m)\u001b[0m\u001b[0;34m\u001b[0m\u001b[0;34m\u001b[0m\u001b[0m\n\u001b[0m",
      "\u001b[0;32m<ipython-input-125-be24d9d967e1>\u001b[0m in \u001b[0;36moptimal_portfolio\u001b[0;34m(returns)\u001b[0m\n\u001b[1;32m      7\u001b[0m \u001b[0;34m\u001b[0m\u001b[0m\n\u001b[1;32m      8\u001b[0m     \u001b[0;31m# Convert to cvxopt matrices\u001b[0m\u001b[0;34m\u001b[0m\u001b[0;34m\u001b[0m\u001b[0;34m\u001b[0m\u001b[0m\n\u001b[0;32m----> 9\u001b[0;31m     \u001b[0mS\u001b[0m \u001b[0;34m=\u001b[0m \u001b[0mopt\u001b[0m\u001b[0;34m.\u001b[0m\u001b[0mmatrix\u001b[0m\u001b[0;34m(\u001b[0m\u001b[0mnp\u001b[0m\u001b[0;34m.\u001b[0m\u001b[0mcov\u001b[0m\u001b[0;34m(\u001b[0m\u001b[0mreturns\u001b[0m\u001b[0;34m)\u001b[0m\u001b[0;34m)\u001b[0m\u001b[0;34m\u001b[0m\u001b[0;34m\u001b[0m\u001b[0m\n\u001b[0m\u001b[1;32m     10\u001b[0m     \u001b[0mpbar\u001b[0m \u001b[0;34m=\u001b[0m \u001b[0mopt\u001b[0m\u001b[0;34m.\u001b[0m\u001b[0mmatrix\u001b[0m\u001b[0;34m(\u001b[0m\u001b[0mnp\u001b[0m\u001b[0;34m.\u001b[0m\u001b[0mmean\u001b[0m\u001b[0;34m(\u001b[0m\u001b[0mreturns\u001b[0m\u001b[0;34m,\u001b[0m \u001b[0maxis\u001b[0m\u001b[0;34m=\u001b[0m\u001b[0;36m1\u001b[0m\u001b[0;34m)\u001b[0m\u001b[0;34m)\u001b[0m\u001b[0;34m\u001b[0m\u001b[0;34m\u001b[0m\u001b[0m\n\u001b[1;32m     11\u001b[0m \u001b[0;34m\u001b[0m\u001b[0m\n",
      "\u001b[0;31mTypeError\u001b[0m: imported array must have 1 or 2 dimensions"
     ]
    },
    {
     "data": {
      "image/png": "[encoded data removed]",
      "text/plain": [
       "<Figure size 432x288 with 1 Axes>"
      ]
     },
     "metadata": {
      "needs_background": "light"
     },
     "output_type": "display_data"
    }
   ],
   "source": [
    "\n",
    "fig = plt.figure()\n",
    "plt.plot(stds, means, 'o', markersize=5)\n",
    "plt.xlabel('std')\n",
    "plt.ylabel('mean')\n",
    "plt.title('Mean and standard deviation of returns of randomly generated portfolios')\n",
    "#py.iplot_mpl(fig, filename='mean_std', strip_style=True)\n",
    "\n",
    "weights, returns, risks = optimal_portfolio(return_vec)\n",
    "\n",
    "fig = plt.figure()\n",
    "plt.plot(stds, means, 'o')\n",
    "plt.ylabel('mean')\n",
    "plt.xlabel('std')\n",
    "plt.plot(risks, returns, 'y-o')\n",
    "py.iplot_mpl(fig, filename='efficient_frontier', strip_style=True)"
   ]
  },
  {
   "cell_type": "code",
   "execution_count": 131,
   "id": "97213f07-81e8-4d74-998d-0b85325f00d7",
   "metadata": {},
   "outputs": [
    {
     "data": {
      "text/plain": [
       "Text(0, 0.5, 'returns')"
      ]
     },
     "execution_count": 131,
     "metadata": {},
     "output_type": "execute_result"
    },
    {
     "data": {
      "image/png": "[encoded data removed]",
      "text/plain": [
       "<Figure size 432x288 with 1 Axes>"
      ]
     },
     "metadata": {
      "needs_background": "light"
     },
     "output_type": "display_data"
    }
   ],
   "source": [
    "# (*) To communicate with Plotly's server, sign in with credentials file\n",
    "import chart_studio.plotly as py \n",
    "from plotly.graph_objs import *\n",
    "\n",
    "# (*) Useful Python/Plotly tools\n",
    "import plotly.tools as tls   \n",
    "\n",
    "# (*) Graph objects to piece together plots\n",
    "from plotly.graph_objs import *\n",
    "fig = plt.figure()\n",
    "plt.plot(extArray.T, alpha=.4);\n",
    "plt.xlabel('time')\n",
    "plt.ylabel('returns')\n",
    "#py.iplot_mpl(fig, filename='s6_damped_oscillation')"
   ]
  }
 ],
 "metadata": {
  "kernelspec": {
   "display_name": "Python 3",
   "language": "python",
   "name": "python3"
  },
  "language_info": {
   "codemirror_mode": {
    "name": "ipython",
    "version": 3
   },
   "file_extension": ".py",
   "mimetype": "text/x-python",
   "name": "python",
   "nbconvert_exporter": "python",
   "pygments_lexer": "ipython3",
   "version": "3.9.4"
  }
 },
 "nbformat": 4,
 "nbformat_minor": 5
}

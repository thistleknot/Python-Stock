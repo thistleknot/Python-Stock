{
 "cells": [
  {
   "cell_type": "code",
   "execution_count": 1,
   "id": "bdb9340b-1446-4f6a-b27e-ad83e4a15f02",
   "metadata": {},
   "outputs": [],
   "source": [
    "import os\n",
    "from datetime import datetime\n",
    "import concurrent\n",
    "import pandas_datareader.data as web\n",
    "import pandas as pd\n",
    "import datetime\n",
    "import concurrent.futures\n",
    "from concurrent.futures import wait, ALL_COMPLETED\n",
    "import yfinance as yf\n",
    "import urllib\n",
    "import urllib.request\n",
    "import time\n",
    "from datetime import timedelta"
   ]
  },
  {
   "cell_type": "code",
   "execution_count": null,
   "id": "7b0689d0-fa5e-43c2-8738-dd2ae26bf139",
   "metadata": {},
   "outputs": [],
   "source": []
  },
  {
   "cell_type": "code",
   "execution_count": 2,
   "id": "ca035454-7eea-4f8e-a4c4-b70fbaf6c7ab",
   "metadata": {},
   "outputs": [
    {
     "name": "stdout",
     "output_type": "stream",
     "text": [
      "2021-05-10\n",
      "2003-06-02\n"
     ]
    }
   ],
   "source": [
    "frequency = \"Q\"\n",
    "\n",
    "w=117*8\n",
    "#start = datetime.datetime(2010, 1, 1)\n",
    "\n",
    "#end = datetime.datetime(2013, 1, 27)\n",
    "end_date = datetime.date.today()\n",
    "\n",
    "start_date = end_date - timedelta(weeks=w)\n",
    "\n",
    "pd.set_option('display.max_columns', None) #replace n with the number of columns you want to see completely\n",
    "pd.set_option('display.max_rows', None) #replace n with the number of rows you want to see completely\n",
    "\n",
    "cores = int(len(os.sched_getaffinity(0)))\n",
    "\n",
    "print(end_date)\n",
    "print(start_date)"
   ]
  },
  {
   "cell_type": "code",
   "execution_count": 3,
   "id": "2594fc74-ab06-47bd-91fe-f59ff1df2526",
   "metadata": {},
   "outputs": [],
   "source": [
    "\n",
    "etf_commodities = ['DBO','CORN', 'WEAT', 'SOYB', 'JO', 'SGG', 'BAL', 'COW', 'MOO', 'TAGS', 'KOL' ]\n",
    "#Gold, Silver, Platinum, Copper, Paladium, Aluminum, Iron, Steel\n",
    "etf_metals = ['IAU', 'SLV', 'PGM', 'JJC', 'PALL', 'JJU', 'IFUNX', 'SLX']\n",
    "#US dollar, European Euro, Japanese yen, Pound sterling, Australian dollar, Canadian dollar, Swiss franc, Chinese Yuan Renminbi, Swedish Krona, Peso, India\n",
    "#defunct: Russia: XRU, Mexico: FXM\n",
    "etf_foreign_exchanges = ['UUP','FXE','FXY','FXB','FXA','FXC','FXF','CYB', 'FXS', 'INR']\n",
    "#residential, Ishares all NAmerica\n",
    "etf_real_estate = ['REZ', 'IYR']\n",
    "#Russia, Germany, UK, Japan, China, Euro, Euro, Brazil, Latin America, Mexico, India\n",
    "etf_economies = ['ERUS','EWG','EWU','EWJ','MCHI','EZU','IEUR','EWZ','ILF','EWW','INDA']\n",
    "#Ishares Investment Grade, IShares core aggregate Investment grade, Short, Total, 1-5 Years, 5-10 Years, 10 Years, Gov/Credit\n",
    "#defunct:  \n",
    "\n",
    "etf_spdr_indexes = ['XLC','XLY','XLP','XLE','XLF','XLV','XLI','XLB','XLRE','XLK','XLU']\n",
    "etf_dow_components = ['MMM','AXP','AMGN','AAPL','BA','CAT','CVX','CSCO','KO','DOW','GS','HD','HON','IBM','INTC','JNJ','JPM','MCD','MRK','MSFT','NKE','PG','CRM','TRV','UNH','VZ','V','WMT','WBA','DIS']\n",
    "\n",
    "etf_bonds = ['LQD', 'AGG', 'NEAR', 'IUSB', 'ISTB', 'IMTB', 'ILTB', 'GBF']\n",
    "etf_muni_bonds = ['MUB', 'SUB', 'MEAR']\n",
    "\n",
    "etf_treasuries = ['AGZ', 'GOVT', 'BIL', 'SHV', 'SHY', 'IEI', 'IEF', 'TLT']\n",
    "\n",
    "crypto = ['BTCUSD=X','ETH','RPL','BCH','EOS','LTC']\n",
    "\n",
    "#,'GOLDAMGBD228NLBM',\n",
    "FRED_Indicators = ['CPALTT01USQ657N','PAYEMS','IRLTLT01USM156N','MABMM301USM189S','LFWA64TTUSM647S','MANMM101USA189S','MICH','UMCSENT','CSCICP03USM665S','DGS10','DTB3','DGS3MO','CASTHPI','GDPC1','CIVPART','POPTOTUSA647NWDB','MEHOINUSA672N','HOSMEDUSM052N','MORTGAGE30US','TTLHH','CSUSHPINSA','EMRATIO','CPIAUCSL','PSAVERT','LRUN64TTUSQ156S','USSTHPI','NYSTHPI','M2V','GFDEBTN','DFII10','GFDEGDQ188S','CUSR0000SEHA','ETOTALUSQ176N','ERENTUSQ176N','RECPROUSM156N','T5YIFR','BAMLHYH0A0HYM2TRIV','BAMLCC0A1AAATRIV','GVZCLS','DGS1','BAMLCC0A4BBBTRIV','VXVCLS','IC4WSA','WILLMICROCAPPR','WILLLRGCAPVAL','CFNAIDIFF','MZMSL','KCFSI','T5YIE','TOTALSA','DCOILWTICO','USSLIND','AWHAETP','CES0500000003','TCU','WTB3MS','WGS3MO','TWEXB','DEXCHUS','DEXUSUK','CILACBQ158SBOG','CES4348400001','FEDFUNDS','TDSP','PERMIT','GFDEGDQ188S','CP','PRFI','DRSFRMACBS','DRCCLACBS','DRBLACBS','DALLCIACBEP','USROA','USROE','RSAHORUSQ156S','MEFAINUSA672N','COMREPUSQ159N','HDTGPDUSQ163N','POP','NROU','FGCCSAQ027S','TEDRATE', 'VIXCLS', 'NFCI','INDPRO','LES1252881600Q','CUUR0000SEHA','LEU0252918500Q','BAA10Y','BAMLC0A0CM','BAMLH0A3HYC','BOGMBASE','DCOILBRENTEU','DCOILWTICO','DFF','DGS1MO','DGS30','DGS5','FPCPITOTLZGUSA','ICSA','INTDSRUSM193N','M1','M1V','MPRIME','PPIACO','SPCS20RSA','STLFSI2','T10Y2Y','T10Y3M','TB3MS','TREAST','UNRATE','WPU0911']\n",
    "#FRED_Indicators = [\"CPALTT01USQ657N\",\"PAYEMS\",\"IRLTLT01USM156N\",\"MABMM301USM189S\",\"LFWA64TTUSM647S\",\"MANMM101USA189S\",\"MICH\",\"UMCSENT\",\"CSCICP03USM665S\",\"DGS10\",\"DTB3\",\"DGS3MO\",\"CASTHPI\",\"GDPC1\",\"CIVPART\",\"POPTOTUSA647NWDB\",\"MEHOINUSA672N\",\"HOSMEDUSM052N\",\"MORTGAGE30US\",\"TTLHH\",\"CSUSHPINSA\",\"EMRATIO\",\"CPIAUCSL\",\"PSAVERT\",\"LRUN64TTUSQ156S\",\"USSTHPI\",\"NYSTHPI\",\"M2V\",\"GFDEBTN\",\"DFII10\",\"GFDEGDQ188S\",\"CUSR0000SEHA\",\"ETOTALUSQ176N\",\"ERENTUSQ176N\",\"RECPROUSM156N\",\"T5YIFR\",\"BAMLHYH0A0HYM2TRIV\",\"BAMLCC0A1AAATRIV\",\"GVZCLS\",\"DGS1\",\"BAMLCC0A4BBBTRIV\",\"VXVCLS\",\"IC4WSA\",\"WILLMICROCAPPR\",\"WILLLRGCAPVAL\",\"CFNAIDIFF\",\"MZMSL\",\"KCFSI\",\"T5YIE\",\"TOTALSA\",\"DCOILWTICO\",\"USSLIND\",\"AWHAETP\",\"CES0500000003\",\"TCU\",\"WTB3MS\",\"WGS3MO\",\"TWEXB\",\"DEXCHUS\",\"DEXUSUK\",\"CILACBQ158SBOG\",\"CES4348400001\",\"FEDFUNDS\",\"TDSP\",\"PERMIT\",\"GFDEGDQ188S\",\"CP\",\"PRFI\",\"DRSFRMACBS\",\"DRCCLACBS\",\"DRBLACBS\",\"DALLCIACBEP\",\"USROA\",\"USROE\",\"RSAHORUSQ156S\",\"MEFAINUSA672N\",\"COMREPUSQ159N\",\"HDTGPDUSQ163N\",\"POP\",\"NROU\",\"FGCCSAQ027S\",\"TEDRATE\", \"VIXCLS\", \"NFCI\",\"INDPRO\",\"LES1252881600Q\",\"CUUR0000SEHA\",\"LEU0252918500Q\",\"BAA10Y\",\"BAMLC0A0CM\",\"BAMLH0A3HYC\",\"BOGMBASE\",\"DCOILBRENTEU\",\"DCOILWTICO\",\"DFF\",\"DGS1MO\",\"DGS30\",\"DGS5\",\"FPCPITOTLZGUSA\",\"GOLDAMGBD228NLBM\",\"ICSA\",\"INTDSRUSM193N\",\"M1\",\"M1V\",\"MPRIME\",\"PPIACO\",\"SPCS20RSA\",\"STLFSI2\",\"T10Y2Y\",\"T10Y3M\",\"TB3MS\",\"TREAST\",\"UNRATE\",\"WPU0911\"]\n",
    "\n",
    "Indexes = ['^SP500TR', 'QQQ', 'DIA', 'VTWO']\n",
    "\n",
    "etf_indexes_and_Crypto_list = [Indexes, etf_commodities, etf_metals, etf_foreign_exchanges, etf_real_estate, etf_economies, etf_bonds, etf_muni_bonds, etf_treasuries, crypto, etf_spdr_indexes, etf_dow_components]\n"
   ]
  },
  {
   "cell_type": "code",
   "execution_count": 4,
   "id": "2d6337f5-6103-4147-b70c-0acbb0678b27",
   "metadata": {},
   "outputs": [],
   "source": [
    "commodities = [] \n",
    "for sublist in etf_indexes_and_Crypto_list: \n",
    "    for val in sublist: \n",
    "        commodities.append(val) \n"
   ]
  },
  {
   "cell_type": "code",
   "execution_count": null,
   "id": "e7b2f4d8-f8ad-4da6-93f1-20479060c35d",
   "metadata": {},
   "outputs": [],
   "source": []
  },
  {
   "cell_type": "code",
   "execution_count": 5,
   "id": "5ef843d6-d666-445d-9ae5-e7cc6aed79c9",
   "metadata": {
    "tags": []
   },
   "outputs": [
    {
     "name": "stdout",
     "output_type": "stream",
     "text": [
      "[*********************100%***********************]  1 of 1 completed\n",
      "[*********************100%***********************]  1 of 1 completed\n",
      "[*********************100%***********************]  1 of 1 completed\n",
      "[*********************100%***********************]  1 of 1 completed\n",
      "[*********************100%***********************]  1 of 1 completed\n",
      "[*********************100%***********************]  1 of 1 completed\n",
      "[*********************100%***********************]  1 of 1 completed\n",
      "[*********************100%***********************]  1 of 1 completed\n",
      "[*********************100%***********************]  1 of 1 completed\n",
      "[*********************100%***********************]  1 of 1 completed\n",
      "[*********************100%***********************]  1 of 1 completed\n",
      "[*********************100%***********************]  1 of 1 completed\n",
      "[*********************100%***********************]  1 of 1 completed\n",
      "[*********************100%***********************]  1 of 1 completed\n",
      "[*********************100%***********************]  1 of 1 completed\n",
      "[*********************100%***********************]  1 of 1 completed\n",
      "[*********************100%***********************]  1 of 1 completed\n",
      "[*********************100%***********************]  1 of 1 completed\n",
      "[*********************100%***********************]  1 of 1 completed\n",
      "[*********************100%***********************]  1 of 1 completed\n",
      "[*********************100%***********************]  1 of 1 completed\n",
      "[*********************100%***********************]  1 of 1 completed\n",
      "[*********************100%***********************]  1 of 1 completed\n",
      "[*********************100%***********************]  1 of 1 completed\n",
      "[*********************100%***********************]  1 of 1 completed\n"
     ]
    },
    {
     "data": {
      "text/plain": [
       "DoneAndNotDoneFutures(done={<Future at 0x7f962b9d6850 state=finished returned DataFrame>, <Future at 0x7f962b9d6070 state=finished returned DataFrame>, <Future at 0x7f962b9d0880 state=finished returned DataFrame>, <Future at 0x7f962b9d00a0 state=finished returned DataFrame>, <Future at 0x7f966d8b3160 state=finished returned DataFrame>, <Future at 0x7f962b9d6970 state=finished returned DataFrame>, <Future at 0x7f962b9d6190 state=finished returned DataFrame>, <Future at 0x7f962b9d09a0 state=finished returned DataFrame>, <Future at 0x7f962bc809d0 state=finished returned DataFrame>, <Future at 0x7f962b9d01f0 state=finished returned DataFrame>, <Future at 0x7f962b9d62b0 state=finished returned DataFrame>, <Future at 0x7f962b9d02e0 state=finished returned DataFrame>, <Future at 0x7f962b9d63d0 state=finished returned DataFrame>, <Future at 0x7f962b9c4be0 state=finished returned DataFrame>, <Future at 0x7f962b9d0400 state=finished returned DataFrame>, <Future at 0x7f962b9d64f0 state=finished returned DataFrame>, <Future at 0x7f962b9d0520 state=finished returned DataFrame>, <Future at 0x7f962b9c4d60 state=finished returned DataFrame>, <Future at 0x7f962b9d6610 state=finished returned DataFrame>, <Future at 0x7f962b9d0e20 state=finished returned DataFrame>, <Future at 0x7f962b9d0640 state=finished returned DataFrame>, <Future at 0x7f962b9d0f10 state=finished returned DataFrame>, <Future at 0x7f962b9d6730 state=finished returned DataFrame>, <Future at 0x7f962b9d0760 state=finished returned DataFrame>, <Future at 0x7f962b9c4f70 state=finished returned DataFrame>}, not_done={<Future at 0x7f962c15e040 state=pending>, <Future at 0x7f962b9e0040 state=pending>, <Future at 0x7f962b9da070 state=running>, <Future at 0x7f962b9e0130 state=pending>, <Future at 0x7f962b9ea130 state=pending>, <Future at 0x7f962b9f2130 state=pending>, <Future at 0x7f962b9e5130 state=pending>, <Future at 0x7f962b9da190 state=running>, <Future at 0x7f962b9e5fd0 state=pending>, <Future at 0x7f962b9e0250 state=pending>, <Future at 0x7f962b9ea250 state=pending>, <Future at 0x7f962b9f2250 state=pending>, <Future at 0x7f962b9e5250 state=pending>, <Future at 0x7f962b9ef280 state=pending>, <Future at 0x7f962b9da2b0 state=running>, <Future at 0x7f962b9e0370 state=pending>, <Future at 0x7f962b9ea370 state=pending>, <Future at 0x7f962b9f2370 state=pending>, <Future at 0x7f962b9e5370 state=pending>, <Future at 0x7f962b9ef370 state=pending>, <Future at 0x7f962b9da3d0 state=running>, <Future at 0x7f962b9e0490 state=pending>, <Future at 0x7f962b9ea490 state=pending>, <Future at 0x7f962b9f2490 state=pending>, <Future at 0x7f962b9e5490 state=pending>, <Future at 0x7f962b9ef490 state=pending>, <Future at 0x7f962b9da4f0 state=pending>, <Future at 0x7f962b9e05b0 state=pending>, <Future at 0x7f962b9ea5b0 state=pending>, <Future at 0x7f962b9f25b0 state=pending>, <Future at 0x7f962b9e55b0 state=pending>, <Future at 0x7f962b9ef5b0 state=pending>, <Future at 0x7f962b9da610 state=pending>, <Future at 0x7f962b9e06d0 state=pending>, <Future at 0x7f962b9ea6d0 state=pending>, <Future at 0x7f962b9f26d0 state=pending>, <Future at 0x7f962b9e56d0 state=pending>, <Future at 0x7f962b9ef6d0 state=pending>, <Future at 0x7f962b9effd0 state=pending>, <Future at 0x7f962b9da730 state=pending>, <Future at 0x7f962b9e07f0 state=pending>, <Future at 0x7f962b9ea7f0 state=pending>, <Future at 0x7f962b9e57f0 state=pending>, <Future at 0x7f962b9ef7f0 state=pending>, <Future at 0x7f962b9da850 state=pending>, <Future at 0x7f962b9e0910 state=pending>, <Future at 0x7f962b9ea910 state=pending>, <Future at 0x7f962b9e5910 state=pending>, <Future at 0x7f962b9ef910 state=pending>, <Future at 0x7f962b9da970 state=pending>, <Future at 0x7f962b9e0a30 state=pending>, <Future at 0x7f962b9eaa30 state=pending>, <Future at 0x7f962b9e5a30 state=pending>, <Future at 0x7f962b9efa30 state=pending>, <Future at 0x7f962b9d6a90 state=running>, <Future at 0x7f962b9daa90 state=pending>, <Future at 0x7f962b9e0b50 state=pending>, <Future at 0x7f962b9d0b50 state=pending>, <Future at 0x7f962b9e5b50 state=pending>, <Future at 0x7f962b9eab80 state=pending>, <Future at 0x7f962b9efb50 state=pending>, <Future at 0x7f962b9d6bb0 state=running>, <Future at 0x7f962b9dabb0 state=pending>, <Future at 0x7f962c151c40 state=pending>, <Future at 0x7f962b9e0c70 state=pending>, <Future at 0x7f962b9d0c70 state=pending>, <Future at 0x7f962b9e5c70 state=pending>, <Future at 0x7f962b9eaca0 state=pending>, <Future at 0x7f962b9efc70 state=pending>, <Future at 0x7f962b9d6cd0 state=running>, <Future at 0x7f962b9dacd0 state=pending>, <Future at 0x7f962b9d0d30 state=pending>, <Future at 0x7f962b9e0d90 state=pending>, <Future at 0x7f962b9e5d90 state=pending>, <Future at 0x7f962b9efd90 state=pending>, <Future at 0x7f962b9eadc0 state=pending>, <Future at 0x7f962b9d6df0 state=running>, <Future at 0x7f962b9dae20 state=pending>, <Future at 0x7f962c151e20 state=pending>, <Future at 0x7f962b9e0eb0 state=pending>, <Future at 0x7f962b9e5eb0 state=pending>, <Future at 0x7f962b9efeb0 state=pending>, <Future at 0x7f962b9eaee0 state=pending>, <Future at 0x7f962b9d6f10 state=running>, <Future at 0x7f962b9daf10 state=pending>, <Future at 0x7f962c151f10 state=pending>, <Future at 0x7f962b9e0fd0 state=pending>})"
      ]
     },
     "execution_count": 5,
     "metadata": {},
     "output_type": "execute_result"
    },
    {
     "name": "stdout",
     "output_type": "stream",
     "text": [
      "[*********************100%***********************]  1 of 1 completed\n",
      "[*********************100%***********************]  1 of 1 completed\n",
      "[*********************100%***********************]  1 of 1 completed\n",
      "[*********************100%***********************]  1 of 1 completed\n",
      "[*********************100%***********************]  1 of 1 completed\n",
      "[*********************100%***********************]  1 of 1 completed\n",
      "[*********************100%***********************]  1 of 1 completed\n",
      "[*********************100%***********************]  1 of 1 completed\n",
      "[*********************100%***********************]  1 of 1 completed\n",
      "[*********************100%***********************]  1 of 1 completed\n",
      "[*********************100%***********************]  1 of 1 completed\n",
      "\n",
      "[*********************100%***********************]  1 of 1 completed\n",
      "[*********************100%***********************]  1 of 1 completed\n",
      "[*********************100%***********************]  1 of 1 completed\n",
      "[*********************100%***********************]  1 of 1 completed\n",
      "[*********************100%***********************]  1 of 1 completed\n",
      "[*********************100%***********************]  1 of 1 completed\n",
      "[*********************100%***********************]  1 of 1 completed\n",
      "[*********************100%***********************]  1 of 1 completed\n",
      "[*********************100%***********************]  1 of 1 completed\n",
      "[*********************100%***********************]  1 of 1 completed\n",
      "[*********************100%***********************]  1 of 1 completed\n",
      "[*********************100%***********************]  1 of 1 completed\n",
      "[*********************100%***********************]  1 of 1 completed\n",
      "[*********************100%***********************]  1 of 1 completed\n",
      "[*********************100%***********************]  1 of 1 completed\n",
      "[*********************100%***********************]  1 of 1 completed\n",
      "[*********************100%***********************]  1 of 1 completed\n",
      "[*********************100%***********************]  1 of 1 completed\n",
      "[*********************100%***********************]  1 of 1 completed\n",
      "[*********************100%***********************]  1 of 1 completed\n",
      "[*********************100%***********************]  1 of 1 completed\n",
      "[*********************100%***********************]  1 of 1 completed\n",
      "[*********************100%***********************]  1 of 1 completed\n",
      "[*********************100%***********************]  1 of 1 completed\n",
      "[*********************100%***********************]  1 of 1 completed\n",
      "[*********************100%***********************]  1 of 1 completed\n",
      "\n",
      "1 Failed download:\n",
      "- BTCUSD=X: No data found, symbol may be delisted\n",
      "[*********************100%***********************]  1 of 1 completed\n",
      "[*********************100%***********************]  1 of 1 completed\n",
      "[*********************100%***********************]  1 of 1 completed\n",
      "[*********************100%***********************]  1 of 1 completed\n",
      "[*********************100%***********************]  1 of 1 completed\n",
      "[*********************100%***********************]  1 of 1 completed\n",
      "[*********************100%***********************]  1 of 1 completed\n",
      "[*********************100%***********************]  1 of 1 completed\n",
      "[*********************100%***********************]  1 of 1 completed\n",
      "[*********************100%***********************]  1 of 1 completed\n",
      "[*********************100%***********************]  1 of 1 completed\n",
      "[*********************100%***********************]  1 of 1 completed\n",
      "[*********************100%***********************]  1 of 1 completed\n",
      "[*********************100%***********************]  1 of 1 completed\n",
      "[*********************100%***********************]  1 of 1 completed\n",
      "[*********************100%***********************]  1 of 1 completed\n",
      "[*********************100%***********************]  1 of 1 completed\n",
      "[*********************100%***********************]  1 of 1 completed\n",
      "[*********************100%***********************]  1 of 1 completed\n",
      "[*********************100%***********************]  1 of 1 completed\n",
      "[*********************100%***********************]  1 of 1 completed\n",
      "[*********************100%***********************]  1 of 1 completed\n",
      "[*********************100%***********************]  1 of 1 completed\n",
      "[*********************100%***********************]  1 of 1 completed\n",
      "[*********************100%***********************]  1 of 1 completed\n",
      "[*********************100%***********************]  1 of 1 completed\n",
      "[*********************100%***********************]  1 of 1 completed\n",
      "[*********************100%***********************]  1 of 1 completed\n",
      "[*********************100%***********************]  1 of 1 completed\n",
      "[*********************100%***********************]  1 of 1 completed\n",
      "[*********************100%***********************]  1 of 1 completed\n",
      "[*********************100%***********************]  1 of 1 completed\n",
      "[*********************100%***********************]  1 of 1 completed\n",
      "[*********************100%***********************]  1 of 1 completed\n",
      "[*********************100%***********************]  1 of 1 completed\n",
      "[*********************100%***********************]  1 of 1 completed\n",
      "[*********************100%***********************]  1 of 1 completed\n",
      "[*********************100%***********************]  1 of 1 completed\n",
      "[*********************100%***********************]  1 of 1 completed\n",
      "[*********************100%***********************]  1 of 1 completed\n",
      "[*********************100%***********************]  1 of 1 completed\n",
      "[*********************100%***********************]  1 of 1 completed\n",
      "[*********************100%***********************]  1 of 1 completed\n",
      "[*********************100%***********************]  1 of 1 completed\n",
      "[*********************100%***********************]  1 of 1 completed\n",
      "[*********************100%***********************]  1 of 1 completed\n",
      "[*********************100%***********************]  1 of 1 completed\n",
      "[*********************100%***********************]  1 of 1 completed\n",
      "[*********************100%***********************]  1 of 1 completed\n"
     ]
    }
   ],
   "source": [
    "\n",
    "pool2 = concurrent.futures.ProcessPoolExecutor(cores)\n",
    "\n",
    "def dl(name):\n",
    "    subset = yf.download(name, start=start_date, end=end_date, auto_adjust=True).iloc[:, :6].dropna(axis=0, how='any')\n",
    "    subset = subset[start_date.strftime('%Y-%m-%d'):end_date.strftime('%Y-%m-%d')]\n",
    "    #sleep(4)\n",
    "    if len(subset) != 0:\n",
    "        return (subset)\n",
    "\n",
    "pool2 = concurrent.futures.ProcessPoolExecutor(cores)\n",
    "\n",
    "futures2 = [pool2.submit(dl, args) for args in commodities]\n",
    "wait(futures2, timeout=4, return_when=ALL_COMPLETED)    \n",
    "\n",
    "    \n"
   ]
  },
  {
   "cell_type": "code",
   "execution_count": 7,
   "id": "a17681ff-ed43-4cba-abfd-cd91f8fd0562",
   "metadata": {},
   "outputs": [
    {
     "data": {
      "text/plain": [
       "'Q'"
      ]
     },
     "execution_count": 7,
     "metadata": {},
     "output_type": "execute_result"
    }
   ],
   "source": []
  },
  {
   "cell_type": "code",
   "execution_count": 8,
   "id": "b936df1e-cbe2-40ca-9f4c-71c9bf38af56",
   "metadata": {},
   "outputs": [],
   "source": [
    "\n",
    "commodities_ = pd.DataFrame()\n",
    "\n",
    "for x in range(0,len(commodities)):\n",
    "    values = pd.DataFrame(futures2[x].result())\n",
    "    values.index = pd.to_datetime(values.index)\n",
    "    values = values.resample(frequency).mean().dropna()\n",
    "    values['Symbol'] = commodities[x]\n",
    "    values = values.loc[~values.index.duplicated(keep='last')]        \n",
    "    values = values.reset_index()\n",
    "\n",
    "    commodities_ = pd.concat([commodities_,values])\n",
    "    \n"
   ]
  },
  {
   "cell_type": "code",
   "execution_count": 9,
   "id": "31feadcc-d379-4dc4-8a4c-bd9d1099d42c",
   "metadata": {},
   "outputs": [],
   "source": [
    "commodities_pvt = pd.pivot_table(commodities_, values='Close', index=['Date'],columns=['Symbol'])\n",
    "commodities_pvt.to_csv(\"/mnt/distvol/commodities.csv\")"
   ]
  },
  {
   "cell_type": "code",
   "execution_count": 10,
   "id": "4bf6181c-d2e2-4672-abd9-38ed62f24ca9",
   "metadata": {},
   "outputs": [
    {
     "data": {
      "text/plain": [
       "DoneAndNotDoneFutures(done={<Future at 0x7f962b648130 state=finished returned DataFrame>, <Future at 0x7f962b64c130 state=finished returned DataFrame>, <Future at 0x7f962b705fd0 state=finished returned DataFrame>, <Future at 0x7f962b648250 state=finished returned DataFrame>, <Future at 0x7f962b64c250 state=finished returned DataFrame>, <Future at 0x7f962b648370 state=finished returned DataFrame>, <Future at 0x7f962b64c370 state=finished returned DataFrame>, <Future at 0x7f962b648490 state=finished returned DataFrame>, <Future at 0x7f962b6485b0 state=finished returned DataFrame>, <Future at 0x7f962b6486d0 state=finished returned DataFrame>, <Future at 0x7f962b6487f0 state=finished returned DataFrame>, <Future at 0x7f962b64c7f0 state=finished returned DataFrame>, <Future at 0x7f962b988820 state=finished returned DataFrame>, <Future at 0x7f962b653fa0 state=finished returned DataFrame>, <Future at 0x7f962b64c8e0 state=finished returned DataFrame>, <Future at 0x7f962b648910 state=finished returned DataFrame>, <Future at 0x7f962b64ca00 state=finished returned DataFrame>, <Future at 0x7f962b648a30 state=finished returned DataFrame>, <Future at 0x7f962b64cb20 state=finished returned DataFrame>, <Future at 0x7f962b648b50 state=finished returned DataFrame>, <Future at 0x7f962b64cc40 state=finished returned DataFrame>, <Future at 0x7f962b648c70 state=finished returned DataFrame>, <Future at 0x7f962b988d60 state=finished returned DataFrame>, <Future at 0x7f962b64cd60 state=finished returned DataFrame>, <Future at 0x7f962b648d90 state=finished returned DataFrame>, <Future at 0x7f962b64ce80 state=finished returned DataFrame>, <Future at 0x7f962b648eb0 state=finished returned DataFrame>, <Future at 0x7f962b71ffd0 state=finished returned DataFrame>, <Future at 0x7f962b64cfa0 state=finished returned DataFrame>, <Future at 0x7f962b648fd0 state=finished returned DataFrame>, <Future at 0x7f962b73f070 state=finished returned DataFrame>, <Future at 0x7f962b64f100 state=finished returned DataFrame>, <Future at 0x7f962b653100 state=finished returned DataFrame>, <Future at 0x7f962b71f130 state=finished returned DataFrame>, <Future at 0x7f962b705130 state=finished returned DataFrame>, <Future at 0x7f962b643130 state=finished returned DataFrame>, <Future at 0x7f962b64f220 state=finished returned DataFrame>, <Future at 0x7f962b653220 state=finished returned DataFrame>, <Future at 0x7f962b71f250 state=finished returned DataFrame>, <Future at 0x7f962b705250 state=finished returned DataFrame>, <Future at 0x7f962b643250 state=finished returned DataFrame>, <Future at 0x7f962b73f280 state=finished returned DataFrame>, <Future at 0x7f962b73f340 state=finished returned DataFrame>, <Future at 0x7f962b64f340 state=finished returned DataFrame>, <Future at 0x7f962b653340 state=finished returned DataFrame>, <Future at 0x7f962b71f370 state=finished returned DataFrame>, <Future at 0x7f962b705370 state=finished returned DataFrame>, <Future at 0x7f962b643370 state=finished returned DataFrame>, <Future at 0x7f962b73f460 state=finished returned DataFrame>, <Future at 0x7f962b64f460 state=finished returned DataFrame>, <Future at 0x7f962b653460 state=finished returned DataFrame>, <Future at 0x7f962b71f490 state=finished returned DataFrame>, <Future at 0x7f962b705490 state=finished returned DataFrame>, <Future at 0x7f962b643490 state=finished returned DataFrame>, <Future at 0x7f962b8ef4c0 state=finished returned DataFrame>, <Future at 0x7f962b73f550 state=finished returned DataFrame>, <Future at 0x7f962b64f580 state=finished returned DataFrame>, <Future at 0x7f962b653580 state=finished returned DataFrame>, <Future at 0x7f962b71f5b0 state=finished returned DataFrame>, <Future at 0x7f962b7055b0 state=finished returned DataFrame>, <Future at 0x7f962b6435b0 state=finished returned DataFrame>, <Future at 0x7f962b73f640 state=finished returned DataFrame>, <Future at 0x7f962b64f6a0 state=finished returned DataFrame>, <Future at 0x7f962b6536a0 state=finished returned DataFrame>, <Future at 0x7f962b71f6d0 state=finished returned DataFrame>, <Future at 0x7f962b7056d0 state=finished returned DataFrame>, <Future at 0x7f962b6436d0 state=finished returned DataFrame>, <Future at 0x7f962b73f730 state=finished returned DataFrame>, <Future at 0x7f962b64f7c0 state=finished returned DataFrame>, <Future at 0x7f962b6537c0 state=finished returned DataFrame>, <Future at 0x7f962b6437f0 state=finished returned DataFrame>, <Future at 0x7f962b7057f0 state=finished returned DataFrame>, <Future at 0x7f962b71f7f0 state=finished returned DataFrame>, <Future at 0x7f962b73f820 state=finished returned DataFrame>, <Future at 0x7f962b64f8e0 state=finished returned DataFrame>, <Future at 0x7f962b6538e0 state=finished returned DataFrame>, <Future at 0x7f962b73f910 state=finished returned DataFrame>, <Future at 0x7f962b71f910 state=finished returned DataFrame>, <Future at 0x7f962b705910 state=finished returned DataFrame>, <Future at 0x7f962b643910 state=finished returned DataFrame>, <Future at 0x7f962b64fa00 state=finished returned DataFrame>, <Future at 0x7f962b653a00 state=finished returned DataFrame>, <Future at 0x7f962b73fa30 state=finished returned DataFrame>, <Future at 0x7f962b71fa30 state=finished returned DataFrame>, <Future at 0x7f962b705a30 state=finished returned DataFrame>, <Future at 0x7f962b643a30 state=finished returned DataFrame>, <Future at 0x7f962b64fb20 state=finished returned DataFrame>, <Future at 0x7f962b653b20 state=finished returned DataFrame>, <Future at 0x7f962b73fb50 state=finished returned DataFrame>, <Future at 0x7f962b71fb50 state=finished returned DataFrame>, <Future at 0x7f962b705b50 state=finished returned DataFrame>, <Future at 0x7f962b643b50 state=finished returned DataFrame>, <Future at 0x7f962b64fc40 state=finished returned DataFrame>, <Future at 0x7f962b653c40 state=finished returned DataFrame>, <Future at 0x7f962b73fc70 state=finished returned DataFrame>, <Future at 0x7f962b71fc70 state=finished returned DataFrame>, <Future at 0x7f962b705c70 state=finished returned DataFrame>, <Future at 0x7f962b643c70 state=finished returned DataFrame>, <Future at 0x7f962b64fd60 state=finished returned DataFrame>, <Future at 0x7f962b653d60 state=finished returned DataFrame>, <Future at 0x7f962b73fd90 state=finished returned DataFrame>, <Future at 0x7f962b71fd90 state=finished returned DataFrame>, <Future at 0x7f962b705d90 state=finished returned DataFrame>, <Future at 0x7f962b643d90 state=finished returned DataFrame>, <Future at 0x7f962b64fe80 state=finished returned DataFrame>, <Future at 0x7f962b653e80 state=finished returned DataFrame>, <Future at 0x7f962b73feb0 state=finished returned DataFrame>, <Future at 0x7f962b71feb0 state=finished returned DataFrame>, <Future at 0x7f962b705eb0 state=finished returned DataFrame>, <Future at 0x7f962b643eb0 state=finished returned DataFrame>, <Future at 0x7f962b73ffd0 state=finished returned DataFrame>, <Future at 0x7f962b64ffa0 state=finished returned DataFrame>, <Future at 0x7f962b643fd0 state=finished returned DataFrame>}, not_done=set())"
      ]
     },
     "execution_count": 10,
     "metadata": {},
     "output_type": "execute_result"
    }
   ],
   "source": [
    "\n",
    "pool1 = concurrent.futures.ProcessPoolExecutor(cores)\n",
    "\n",
    "def Fred_Data(name):\n",
    "#for i in FRED_Indicators:\n",
    "    temp = web.DataReader(str(name), 'fred', start_date, end_date)\n",
    "    temp.index = pd.to_datetime(temp.index)\n",
    "    temp = temp.resample(frequency).mean().dropna()\n",
    "    #set = pd.concat([set,temp],axis=1)\n",
    "    return(temp)\n",
    "\n",
    "pool1 = concurrent.futures.ProcessPoolExecutor(cores)\n",
    "\n",
    "futures1 = [pool1.submit(Fred_Data, args) for args in FRED_Indicators]\n",
    "wait(futures1, timeout=None, return_when=ALL_COMPLETED)    \n",
    "    "
   ]
  },
  {
   "cell_type": "code",
   "execution_count": 11,
   "id": "4bac1ab3-9a80-4102-9b7f-1e95132f0c55",
   "metadata": {},
   "outputs": [],
   "source": [
    "FRED_set = pd.DataFrame()\n",
    "\n",
    "for f in range(0,len(futures1)):\n",
    "    #print(f)\n",
    "    #print(len(futures1[f].result()))\n",
    "    temp = futures1[f].result()\n",
    "    FRED_set = pd.concat([FRED_set,temp],axis=1)\n",
    "    \n",
    "FRED_set.to_csv(\"/mnt/distvol/fred_data.csv\")"
   ]
  },
  {
   "cell_type": "code",
   "execution_count": 12,
   "id": "9d637817-8ce6-4bd5-af44-dab425a47939",
   "metadata": {},
   "outputs": [],
   "source": [
    "combined_set = pd.concat([FRED_set,commodities_pvt],axis=1)\n",
    "\n"
   ]
  },
  {
   "cell_type": "code",
   "execution_count": null,
   "id": "4e5c6942-be0a-4e3a-936c-2b820dbe79e7",
   "metadata": {},
   "outputs": [],
   "source": []
  },
  {
   "cell_type": "code",
   "execution_count": 14,
   "id": "1d68d826-a4c9-46ee-9a37-7d8883f48d92",
   "metadata": {},
   "outputs": [
    {
     "name": "stdout",
     "output_type": "stream",
     "text": [
      "224\n",
      "73\n",
      "Index(['dropsCPALTT01USQ657N', 'dropsPAYEMS', 'dropsIRLTLT01USM156N',\n",
      "       'dropsMABMM301USM189S', 'dropsLFWA64TTUSM647S', 'dropsMANMM101USA189S',\n",
      "       'dropsMICH', 'dropsUMCSENT', 'dropsCSCICP03USM665S', 'dropsCASTHPI',\n",
      "       ...\n",
      "       'dropsSLX', 'dropsSOYB', 'dropsSUB', 'dropsTAGS', 'dropsUUP', 'dropsV',\n",
      "       'dropsVTWO', 'dropsWEAT', 'dropsXLC', 'dropsXLRE'],\n",
      "      dtype='object', length=134)\n"
     ]
    }
   ],
   "source": [
    "print(len(combined_set.columns))\n",
    "print(len(combined_set))\n",
    "\n",
    "drops = combined_set.describe().loc['count'].index[combined_set.describe().loc['count']<len(combined_set)]\n",
    "print(\"drops\" + drops)\n",
    "filtered = combined_set.columns.tolist()\n",
    "\n",
    "for d in drops:\n",
    "    #print(d)\n",
    "    filtered.remove(d)\n",
    "#filtered.remove(drops.tolist())\n",
    "combined_set[filtered].describe()\n",
    "combined_set[filtered].to_csv(\"/mnt/distvol/combined_set.csv\")"
   ]
  }
 ],
 "metadata": {
  "kernelspec": {
   "display_name": "Python 3",
   "language": "python",
   "name": "python3"
  },
  "language_info": {
   "codemirror_mode": {
    "name": "ipython",
    "version": 3
   },
   "file_extension": ".py",
   "mimetype": "text/x-python",
   "name": "python",
   "nbconvert_exporter": "python",
   "pygments_lexer": "ipython3",
   "version": "3.9.4"
  }
 },
 "nbformat": 4,
 "nbformat_minor": 5
}

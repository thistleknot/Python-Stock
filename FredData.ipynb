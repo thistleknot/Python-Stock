{
 "cells": [
  {
   "cell_type": "code",
   "execution_count": 10,
   "id": "2594fc74-ab06-47bd-91fe-f59ff1df2526",
   "metadata": {},
   "outputs": [],
   "source": [
    "\n",
    "etf_commodities = ['DBO','CORN', 'WEAT', 'SOYB', 'JO', 'SGG', 'BAL', 'COW', 'MOO', 'TAGS', 'KOL' ]\n",
    "#Gold, Silver, Platinum, Copper, Paladium, Aluminum, Iron, Steel\n",
    "etf_metals = ['IAU', 'SLV', 'PGM', 'JJC', 'PALL', 'JJU', 'IFUNX', 'SLX']\n",
    "#US dollar, European Euro, Japanese yen, Pound sterling, Australian dollar, Canadian dollar, Swiss franc, Chinese Yuan Renminbi, Swedish Krona, Peso, India\n",
    "#defunct: Russia: XRU, Mexico: FXM\n",
    "etf_foreign_exchanges = ['UUP','FXE','FXY','FXB','FXA','FXC','FXF','CYB', 'FXS', 'INR']\n",
    "#residential, Ishares all NAmerica\n",
    "etf_real_estate = ['REZ', 'IYR']\n",
    "#Russia, Germany, UK, Japan, China, Euro, Euro, Brazil, Latin America, Mexico, India\n",
    "etf_economies = ['ERUS','EWG','EWU','EWJ','MCHI','EZU','IEUR','EWZ','ILF','EWW','INDA']\n",
    "#Ishares Investment Grade, IShares core aggregate Investment grade, Short, Total, 1-5 Years, 5-10 Years, 10 Years, Gov/Credit\n",
    "#defunct:  \n",
    "\n",
    "etf_spdr_indexes = ['XLC','XLY','XLP','XLE','XLF','XLV','XLI','XLB','XLRE','XLK','XLU']\n",
    "etf_dow_components = ['MMM','AXP','AMGN','AAPL','BA','CAT','CVX','CSCO','KO','DOW','GS','HD','HON','IBM','INTC','JNJ','JPM','MCD','MRK','MSFT','NKE','PG','CRM','TRV','UNH','VZ','V','WMT','WBA','DIS']\n",
    "\n",
    "etf_bonds = ['LQD', 'AGG', 'NEAR', 'IUSB', 'ISTB', 'IMTB', 'ILTB', 'GBF']\n",
    "etf_muni_bonds = ['MUB', 'SUB', 'MEAR']\n",
    "\n",
    "etf_treasuries = ['AGZ', 'GOVT', 'BIL', 'SHV', 'SHY', 'IEI', 'IEF', 'TLT']\n",
    "\n",
    "crypto = ['BTCUSD=X','ETH','RPL','BCH','EOS','LTC']\n",
    "\n",
    "etf_and_Crypto_list = [[etf_commodities, etf_metals, etf_foreign_exchanges, etf_real_estate, etf_economies, etf_bonds, etf_muni_bonds, etf_treasuries, crypto, etf_spdr_indexes, etf_dow_components]]\n",
    "#,'GOLDAMGBD228NLBM',\n",
    "FRED_Indicators = ['CPALTT01USQ657N','PAYEMS','IRLTLT01USM156N','MABMM301USM189S','LFWA64TTUSM647S','MANMM101USA189S','MICH','UMCSENT','CSCICP03USM665S','DGS10','DTB3','DGS3MO','CASTHPI','GDPC1','CIVPART','POPTOTUSA647NWDB','MEHOINUSA672N','HOSMEDUSM052N','MORTGAGE30US','TTLHH','CSUSHPINSA','EMRATIO','CPIAUCSL','PSAVERT','LRUN64TTUSQ156S','USSTHPI','NYSTHPI','M2V','GFDEBTN','DFII10','GFDEGDQ188S','CUSR0000SEHA','ETOTALUSQ176N','ERENTUSQ176N','RECPROUSM156N','T5YIFR','BAMLHYH0A0HYM2TRIV','BAMLCC0A1AAATRIV','GVZCLS','DGS1','BAMLCC0A4BBBTRIV','VXVCLS','IC4WSA','WILLMICROCAPPR','WILLLRGCAPVAL','CFNAIDIFF','MZMSL','KCFSI','T5YIE','TOTALSA','DCOILWTICO','USSLIND','AWHAETP','CES0500000003','TCU','WTB3MS','WGS3MO','TWEXB','DEXCHUS','DEXUSUK','CILACBQ158SBOG','CES4348400001','FEDFUNDS','TDSP','PERMIT','GFDEGDQ188S','CP','PRFI','DRSFRMACBS','DRCCLACBS','DRBLACBS','DALLCIACBEP','USROA','USROE','RSAHORUSQ156S','MEFAINUSA672N','COMREPUSQ159N','HDTGPDUSQ163N','POP','NROU','FGCCSAQ027S','TEDRATE', 'VIXCLS', 'NFCI','INDPRO','LES1252881600Q','CUUR0000SEHA','LEU0252918500Q','BAA10Y','BAMLC0A0CM','BAMLH0A3HYC','BOGMBASE','DCOILBRENTEU','DCOILWTICO','DFF','DGS1MO','DGS30','DGS5','FPCPITOTLZGUSA','ICSA','INTDSRUSM193N','M1','M1V','MPRIME','PPIACO','SPCS20RSA','STLFSI2','T10Y2Y','T10Y3M','TB3MS','TREAST','UNRATE','WPU0911']\n",
    "#FRED_Indicators = [\"CPALTT01USQ657N\",\"PAYEMS\",\"IRLTLT01USM156N\",\"MABMM301USM189S\",\"LFWA64TTUSM647S\",\"MANMM101USA189S\",\"MICH\",\"UMCSENT\",\"CSCICP03USM665S\",\"DGS10\",\"DTB3\",\"DGS3MO\",\"CASTHPI\",\"GDPC1\",\"CIVPART\",\"POPTOTUSA647NWDB\",\"MEHOINUSA672N\",\"HOSMEDUSM052N\",\"MORTGAGE30US\",\"TTLHH\",\"CSUSHPINSA\",\"EMRATIO\",\"CPIAUCSL\",\"PSAVERT\",\"LRUN64TTUSQ156S\",\"USSTHPI\",\"NYSTHPI\",\"M2V\",\"GFDEBTN\",\"DFII10\",\"GFDEGDQ188S\",\"CUSR0000SEHA\",\"ETOTALUSQ176N\",\"ERENTUSQ176N\",\"RECPROUSM156N\",\"T5YIFR\",\"BAMLHYH0A0HYM2TRIV\",\"BAMLCC0A1AAATRIV\",\"GVZCLS\",\"DGS1\",\"BAMLCC0A4BBBTRIV\",\"VXVCLS\",\"IC4WSA\",\"WILLMICROCAPPR\",\"WILLLRGCAPVAL\",\"CFNAIDIFF\",\"MZMSL\",\"KCFSI\",\"T5YIE\",\"TOTALSA\",\"DCOILWTICO\",\"USSLIND\",\"AWHAETP\",\"CES0500000003\",\"TCU\",\"WTB3MS\",\"WGS3MO\",\"TWEXB\",\"DEXCHUS\",\"DEXUSUK\",\"CILACBQ158SBOG\",\"CES4348400001\",\"FEDFUNDS\",\"TDSP\",\"PERMIT\",\"GFDEGDQ188S\",\"CP\",\"PRFI\",\"DRSFRMACBS\",\"DRCCLACBS\",\"DRBLACBS\",\"DALLCIACBEP\",\"USROA\",\"USROE\",\"RSAHORUSQ156S\",\"MEFAINUSA672N\",\"COMREPUSQ159N\",\"HDTGPDUSQ163N\",\"POP\",\"NROU\",\"FGCCSAQ027S\",\"TEDRATE\", \"VIXCLS\", \"NFCI\",\"INDPRO\",\"LES1252881600Q\",\"CUUR0000SEHA\",\"LEU0252918500Q\",\"BAA10Y\",\"BAMLC0A0CM\",\"BAMLH0A3HYC\",\"BOGMBASE\",\"DCOILBRENTEU\",\"DCOILWTICO\",\"DFF\",\"DGS1MO\",\"DGS30\",\"DGS5\",\"FPCPITOTLZGUSA\",\"GOLDAMGBD228NLBM\",\"ICSA\",\"INTDSRUSM193N\",\"M1\",\"M1V\",\"MPRIME\",\"PPIACO\",\"SPCS20RSA\",\"STLFSI2\",\"T10Y2Y\",\"T10Y3M\",\"TB3MS\",\"TREAST\",\"UNRATE\",\"WPU0911\"]\n",
    "\n",
    "Indexes = ['^SP500TR', 'QQQ', 'DIA', 'VTWO']\n"
   ]
  },
  {
   "cell_type": "code",
   "execution_count": null,
   "id": "e7b2f4d8-f8ad-4da6-93f1-20479060c35d",
   "metadata": {},
   "outputs": [],
   "source": [
    "\n",
    "fred_data = pd.DataFrame()\n",
    "\n",
    "for x in range(0,len(FRED_Indicators)):\n",
    "    name = FRED_Indicators[x]\n",
    "    values = pd.DataFrame(fred.get_series(name))\n",
    "    values['Symbol'] = name\n",
    "    #values['Date'] = values.index\n",
    "    values = values.loc[~values.index.duplicated(keep='last')]        \n",
    "    values = values.reset_index()\n",
    "    values.columns = ['date','value','symbol']\n",
    "    #prices = prices.loc[~prices.index.duplicated(keep='last')]        \n",
    "    #\n",
    "                \n",
    "    fred_data = pd.concat([fred_data,values])    \n"
   ]
  },
  {
   "cell_type": "code",
   "execution_count": 20,
   "id": "5ef843d6-d666-445d-9ae5-e7cc6aed79c9",
   "metadata": {},
   "outputs": [
    {
     "name": "stdout",
     "output_type": "stream",
     "text": [
      "0\n"
     ]
    },
    {
     "ename": "UnboundLocalError",
     "evalue": "local variable 'set' referenced before assignment",
     "output_type": "error",
     "traceback": [
      "\u001b[0;31m---------------------------------------------------------------------------\u001b[0m",
      "\u001b[0;31m_RemoteTraceback\u001b[0m                          Traceback (most recent call last)",
      "\u001b[0;31m_RemoteTraceback\u001b[0m: \n\"\"\"\nTraceback (most recent call last):\n  File \"/mnt/distvol/Python-3.9.4/lib/python3.9/concurrent/futures/process.py\", line 243, in _process_worker\n    r = call_item.fn(*call_item.args, **call_item.kwargs)\n  File \"<ipython-input-19-da79062adf51>\", line 25, in Fred_Data\n    set = pd.concat([set,temp],axis=1)\nUnboundLocalError: local variable 'set' referenced before assignment\n\"\"\"",
      "\nThe above exception was the direct cause of the following exception:\n",
      "\u001b[0;31mUnboundLocalError\u001b[0m                         Traceback (most recent call last)",
      "\u001b[0;32m<ipython-input-20-e97f4a5dda5d>\u001b[0m in \u001b[0;36m<module>\u001b[0;34m\u001b[0m\n\u001b[1;32m      1\u001b[0m \u001b[0;32mfor\u001b[0m \u001b[0mf\u001b[0m \u001b[0;32min\u001b[0m \u001b[0mrange\u001b[0m\u001b[0;34m(\u001b[0m\u001b[0;36m0\u001b[0m\u001b[0;34m,\u001b[0m\u001b[0mlen\u001b[0m\u001b[0;34m(\u001b[0m\u001b[0mfutures1\u001b[0m\u001b[0;34m)\u001b[0m\u001b[0;34m)\u001b[0m\u001b[0;34m:\u001b[0m\u001b[0;34m\u001b[0m\u001b[0;34m\u001b[0m\u001b[0m\n\u001b[1;32m      2\u001b[0m     \u001b[0mprint\u001b[0m\u001b[0;34m(\u001b[0m\u001b[0mf\u001b[0m\u001b[0;34m)\u001b[0m\u001b[0;34m\u001b[0m\u001b[0;34m\u001b[0m\u001b[0m\n\u001b[0;32m----> 3\u001b[0;31m     \u001b[0mprint\u001b[0m\u001b[0;34m(\u001b[0m\u001b[0mlen\u001b[0m\u001b[0;34m(\u001b[0m\u001b[0mfutures1\u001b[0m\u001b[0;34m[\u001b[0m\u001b[0mf\u001b[0m\u001b[0;34m]\u001b[0m\u001b[0;34m.\u001b[0m\u001b[0mresult\u001b[0m\u001b[0;34m(\u001b[0m\u001b[0;34m)\u001b[0m\u001b[0;34m)\u001b[0m\u001b[0;34m)\u001b[0m\u001b[0;34m\u001b[0m\u001b[0;34m\u001b[0m\u001b[0m\n\u001b[0m\u001b[1;32m      4\u001b[0m     \u001b[0mprint\u001b[0m\u001b[0;34m(\u001b[0m\u001b[0mfutures1\u001b[0m\u001b[0;34m[\u001b[0m\u001b[0mf\u001b[0m\u001b[0;34m]\u001b[0m\u001b[0;34m.\u001b[0m\u001b[0mresult\u001b[0m\u001b[0;34m(\u001b[0m\u001b[0;34m)\u001b[0m\u001b[0;34m)\u001b[0m\u001b[0;34m\u001b[0m\u001b[0;34m\u001b[0m\u001b[0m\n",
      "\u001b[0;32m/mnt/distvol/Python-3.9.4/lib/python3.9/concurrent/futures/_base.py\u001b[0m in \u001b[0;36mresult\u001b[0;34m(self, timeout)\u001b[0m\n\u001b[1;32m    436\u001b[0m                     \u001b[0;32mraise\u001b[0m \u001b[0mCancelledError\u001b[0m\u001b[0;34m(\u001b[0m\u001b[0;34m)\u001b[0m\u001b[0;34m\u001b[0m\u001b[0;34m\u001b[0m\u001b[0m\n\u001b[1;32m    437\u001b[0m                 \u001b[0;32melif\u001b[0m \u001b[0mself\u001b[0m\u001b[0;34m.\u001b[0m\u001b[0m_state\u001b[0m \u001b[0;34m==\u001b[0m \u001b[0mFINISHED\u001b[0m\u001b[0;34m:\u001b[0m\u001b[0;34m\u001b[0m\u001b[0;34m\u001b[0m\u001b[0m\n\u001b[0;32m--> 438\u001b[0;31m                     \u001b[0;32mreturn\u001b[0m \u001b[0mself\u001b[0m\u001b[0;34m.\u001b[0m\u001b[0m__get_result\u001b[0m\u001b[0;34m(\u001b[0m\u001b[0;34m)\u001b[0m\u001b[0;34m\u001b[0m\u001b[0;34m\u001b[0m\u001b[0m\n\u001b[0m\u001b[1;32m    439\u001b[0m \u001b[0;34m\u001b[0m\u001b[0m\n\u001b[1;32m    440\u001b[0m                 \u001b[0mself\u001b[0m\u001b[0;34m.\u001b[0m\u001b[0m_condition\u001b[0m\u001b[0;34m.\u001b[0m\u001b[0mwait\u001b[0m\u001b[0;34m(\u001b[0m\u001b[0mtimeout\u001b[0m\u001b[0;34m)\u001b[0m\u001b[0;34m\u001b[0m\u001b[0;34m\u001b[0m\u001b[0m\n",
      "\u001b[0;32m/mnt/distvol/Python-3.9.4/lib/python3.9/concurrent/futures/_base.py\u001b[0m in \u001b[0;36m__get_result\u001b[0;34m(self)\u001b[0m\n\u001b[1;32m    388\u001b[0m         \u001b[0;32mif\u001b[0m \u001b[0mself\u001b[0m\u001b[0;34m.\u001b[0m\u001b[0m_exception\u001b[0m\u001b[0;34m:\u001b[0m\u001b[0;34m\u001b[0m\u001b[0;34m\u001b[0m\u001b[0m\n\u001b[1;32m    389\u001b[0m             \u001b[0;32mtry\u001b[0m\u001b[0;34m:\u001b[0m\u001b[0;34m\u001b[0m\u001b[0;34m\u001b[0m\u001b[0m\n\u001b[0;32m--> 390\u001b[0;31m                 \u001b[0;32mraise\u001b[0m \u001b[0mself\u001b[0m\u001b[0;34m.\u001b[0m\u001b[0m_exception\u001b[0m\u001b[0;34m\u001b[0m\u001b[0;34m\u001b[0m\u001b[0m\n\u001b[0m\u001b[1;32m    391\u001b[0m             \u001b[0;32mfinally\u001b[0m\u001b[0;34m:\u001b[0m\u001b[0;34m\u001b[0m\u001b[0;34m\u001b[0m\u001b[0m\n\u001b[1;32m    392\u001b[0m                 \u001b[0;31m# Break a reference cycle with the exception in self._exception\u001b[0m\u001b[0;34m\u001b[0m\u001b[0;34m\u001b[0m\u001b[0;34m\u001b[0m\u001b[0m\n",
      "\u001b[0;31mUnboundLocalError\u001b[0m: local variable 'set' referenced before assignment"
     ]
    }
   ],
   "source": []
  },
  {
   "cell_type": "code",
   "execution_count": 23,
   "id": "4bf6181c-d2e2-4672-abd9-38ed62f24ca9",
   "metadata": {},
   "outputs": [
    {
     "data": {
      "text/plain": [
       "DoneAndNotDoneFutures(done={<Future at 0x7fa4bfbac040 state=finished returned DataFrame>, <Future at 0x7fa4bfbb00a0 state=finished returned DataFrame>, <Future at 0x7fa4bfbb40a0 state=finished returned DataFrame>, <Future at 0x7fa4bfbb80a0 state=finished returned DataFrame>, <Future at 0x7fa4bfbac0d0 state=finished returned DataFrame>, <Future at 0x7fa4bfbbc0a0 state=finished returned DataFrame>, <Future at 0x7fa4bfbc00a0 state=finished returned DataFrame>, <Future at 0x7fa4bfb44160 state=finished returned DataFrame>, <Future at 0x7fa4bfbac1c0 state=finished returned DataFrame>, <Future at 0x7fa4bfbb01c0 state=finished returned DataFrame>, <Future at 0x7fa4bfbb41c0 state=finished returned DataFrame>, <Future at 0x7fa4bfbb81c0 state=finished returned DataFrame>, <Future at 0x7fa4bfbbc1c0 state=finished returned DataFrame>, <Future at 0x7fa4bfbc01c0 state=finished returned DataFrame>, <Future at 0x7fa4bfbac2e0 state=finished returned DataFrame>, <Future at 0x7fa4bfbb02e0 state=finished returned DataFrame>, <Future at 0x7fa4bfbb42e0 state=finished returned DataFrame>, <Future at 0x7fa4bfbb82e0 state=finished returned DataFrame>, <Future at 0x7fa4bfbbc2e0 state=finished returned DataFrame>, <Future at 0x7fa4bfbc02e0 state=finished returned DataFrame>, <Future at 0x7fa4bfbac400 state=finished returned DataFrame>, <Future at 0x7fa4bfbb0400 state=finished returned DataFrame>, <Future at 0x7fa4bfbb4400 state=finished returned DataFrame>, <Future at 0x7fa4bfbb8400 state=finished returned DataFrame>, <Future at 0x7fa4bfbbc400 state=finished returned DataFrame>, <Future at 0x7fa4bfbc0400 state=finished returned DataFrame>, <Future at 0x7fa4bfbac520 state=finished returned DataFrame>, <Future at 0x7fa4bfbb0520 state=finished returned DataFrame>, <Future at 0x7fa4bfbb4520 state=finished returned DataFrame>, <Future at 0x7fa4bfbb8520 state=finished returned DataFrame>, <Future at 0x7fa4bfbbc520 state=finished returned DataFrame>, <Future at 0x7fa4bfbc0520 state=finished returned DataFrame>, <Future at 0x7fa4bfbac640 state=finished returned DataFrame>, <Future at 0x7fa4bfbb0640 state=finished returned DataFrame>, <Future at 0x7fa4bfbb4640 state=finished returned DataFrame>, <Future at 0x7fa4bfbb8640 state=finished returned DataFrame>, <Future at 0x7fa4bfbbc640 state=finished returned DataFrame>, <Future at 0x7fa4bfbc0640 state=finished returned DataFrame>, <Future at 0x7fa4bfb7c6a0 state=finished returned DataFrame>, <Future at 0x7fa4bfb8c700 state=finished returned DataFrame>, <Future at 0x7fa4c076e760 state=finished returned DataFrame>, <Future at 0x7fa4bfbac760 state=finished returned DataFrame>, <Future at 0x7fa4bfbb0760 state=finished returned DataFrame>, <Future at 0x7fa4bfb7c790 state=finished returned DataFrame>, <Future at 0x7fa4bfbb4760 state=finished returned DataFrame>, <Future at 0x7fa4bfbb8760 state=finished returned DataFrame>, <Future at 0x7fa4bfbbc760 state=finished returned DataFrame>, <Future at 0x7fa4bfbc0760 state=finished returned DataFrame>, <Future at 0x7fa4bfb7c820 state=finished returned DataFrame>, <Future at 0x7fa4bfb7c850 state=finished returned DataFrame>, <Future at 0x7fa4bfbac880 state=finished returned DataFrame>, <Future at 0x7fa4bfbb0880 state=finished returned DataFrame>, <Future at 0x7fa4bfbb4880 state=finished returned DataFrame>, <Future at 0x7fa4bfbb8880 state=finished returned DataFrame>, <Future at 0x7fa4bfbbc880 state=finished returned DataFrame>, <Future at 0x7fa4bfbc0880 state=finished returned DataFrame>, <Future at 0x7fa4bfb5a940 state=finished returned DataFrame>, <Future at 0x7fa4bfbac9a0 state=finished returned DataFrame>, <Future at 0x7fa4bfbb09a0 state=finished returned DataFrame>, <Future at 0x7fa4bfbb49a0 state=finished returned DataFrame>, <Future at 0x7fa4bfbb89a0 state=finished returned DataFrame>, <Future at 0x7fa4bfbbc9a0 state=finished returned DataFrame>, <Future at 0x7fa4bfbc09a0 state=finished returned DataFrame>, <Future at 0x7fa4bfb7ca30 state=finished returned DataFrame>, <Future at 0x7fa4bfbacac0 state=finished returned DataFrame>, <Future at 0x7fa4bfbb0ac0 state=finished returned DataFrame>, <Future at 0x7fa4bfbb4ac0 state=finished returned DataFrame>, <Future at 0x7fa4bfbb8ac0 state=finished returned DataFrame>, <Future at 0x7fa4bfbbcac0 state=finished returned DataFrame>, <Future at 0x7fa4bfbc0ac0 state=finished returned DataFrame>, <Future at 0x7fa4bfb8cbb0 state=finished returned DataFrame>, <Future at 0x7fa4bfbacbe0 state=finished returned DataFrame>, <Future at 0x7fa4bfbb0be0 state=finished returned DataFrame>, <Future at 0x7fa4bfbb4be0 state=finished returned DataFrame>, <Future at 0x7fa4bfbb8be0 state=finished returned DataFrame>, <Future at 0x7fa4bfbbcbe0 state=finished returned DataFrame>, <Future at 0x7fa4bfbc0be0 state=finished returned DataFrame>, <Future at 0x7fa4bfbacd00 state=finished returned DataFrame>, <Future at 0x7fa4bfbb0d00 state=finished returned DataFrame>, <Future at 0x7fa4bfbb4d00 state=finished returned DataFrame>, <Future at 0x7fa4bfbb8d00 state=finished returned DataFrame>, <Future at 0x7fa4bfbbcd00 state=finished returned DataFrame>, <Future at 0x7fa4bfbc0d00 state=finished returned DataFrame>, <Future at 0x7fa4bfb7cdc0 state=finished returned DataFrame>, <Future at 0x7fa4bfbace20 state=finished returned DataFrame>, <Future at 0x7fa4bfbb0e20 state=finished returned DataFrame>, <Future at 0x7fa4bfbb4e20 state=finished returned DataFrame>, <Future at 0x7fa4bfbb8e20 state=finished returned DataFrame>, <Future at 0x7fa4bfbbce20 state=finished returned DataFrame>, <Future at 0x7fa4bfbc0e20 state=finished returned DataFrame>, <Future at 0x7fa4bfbb4f40 state=finished returned DataFrame>, <Future at 0x7fa4bfb7cf40 state=finished returned DataFrame>, <Future at 0x7fa4bfbacf40 state=finished returned DataFrame>, <Future at 0x7fa4bfbb0f40 state=finished returned DataFrame>, <Future at 0x7fa4bfbb8f40 state=finished returned DataFrame>, <Future at 0x7fa4bfbbcf40 state=finished returned DataFrame>, <Future at 0x7fa4bfb7cfa0 state=finished returned DataFrame>, <Future at 0x7fa4bfb44fa0 state=finished returned DataFrame>, <Future at 0x7fa4bfb7cfd0 state=finished returned DataFrame>, <Future at 0x7fa4bfb8b3a0 state=finished returned DataFrame>, <Future at 0x7fa4bfb433a0 state=finished returned DataFrame>, <Future at 0x7fa4bfb433d0 state=finished returned DataFrame>, <Future at 0x7fa4bfb917f0 state=finished returned DataFrame>, <Future at 0x7fa4bfb01850 state=finished returned DataFrame>, <Future at 0x7fa4bfb43850 state=finished returned DataFrame>, <Future at 0x7fa4bfb439d0 state=finished returned DataFrame>, <Future at 0x7fa4bfb91c70 state=finished returned DataFrame>, <Future at 0x7fa4bfb43cd0 state=finished returned DataFrame>, <Future at 0x7fa4bfb01d30 state=finished returned DataFrame>, <Future at 0x7fa4bfb43dc0 state=finished returned DataFrame>, <Future at 0x7fa4bfb01df0 state=finished returned DataFrame>, <Future at 0x7fa4bfb01f70 state=finished returned DataFrame>, <Future at 0x7fa4bfb01fd0 state=finished returned DataFrame>}, not_done=set())"
      ]
     },
     "execution_count": 23,
     "metadata": {},
     "output_type": "execute_result"
    }
   ],
   "source": [
    "import os\n",
    "from datetime import datetime\n",
    "import concurrent\n",
    "import pandas_datareader.data as web\n",
    "import pandas as pd\n",
    "import datetime\n",
    "import concurrent.futures\n",
    "from concurrent.futures import wait, ALL_COMPLETED\n",
    "\n",
    "\n",
    "start = datetime.datetime(2010, 1, 1)\n",
    "end = datetime.datetime(2013, 1, 27)\n",
    "\n",
    "cores = int(len(os.sched_getaffinity(0)))\n",
    "\n",
    "pool1 = concurrent.futures.ProcessPoolExecutor(cores)\n",
    "\n",
    "def Fred_Data(name):\n",
    "#for i in FRED_Indicators:\n",
    "    temp = web.DataReader(str(name), 'fred', start, end)\n",
    "    temp.index = pd.to_datetime(temp.index)\n",
    "    temp = temp.resample('Q').mean().dropna()\n",
    "    #set = pd.concat([set,temp],axis=1)\n",
    "    return(temp)\n",
    "\n",
    "pool1 = concurrent.futures.ProcessPoolExecutor(cores)\n",
    "\n",
    "futures1 = [pool1.submit(Fred_Data, args) for args in FRED_Indicators]\n",
    "wait(futures1, timeout=None, return_when=ALL_COMPLETED)    \n",
    "    "
   ]
  },
  {
   "cell_type": "code",
   "execution_count": 22,
   "id": "4bac1ab3-9a80-4102-9b7f-1e95132f0c55",
   "metadata": {},
   "outputs": [
    {
     "name": "stdout",
     "output_type": "stream",
     "text": [
      "0\n"
     ]
    },
    {
     "ename": "UnboundLocalError",
     "evalue": "local variable 'set' referenced before assignment",
     "output_type": "error",
     "traceback": [
      "\u001b[0;31m---------------------------------------------------------------------------\u001b[0m",
      "\u001b[0;31m_RemoteTraceback\u001b[0m                          Traceback (most recent call last)",
      "\u001b[0;31m_RemoteTraceback\u001b[0m: \n\"\"\"\nTraceback (most recent call last):\n  File \"/mnt/distvol/Python-3.9.4/lib/python3.9/concurrent/futures/process.py\", line 243, in _process_worker\n    r = call_item.fn(*call_item.args, **call_item.kwargs)\n  File \"<ipython-input-21-51390e07cd4d>\", line 23, in Fred_Data\n    set = pd.concat([set,temp],axis=1)\nUnboundLocalError: local variable 'set' referenced before assignment\n\"\"\"",
      "\nThe above exception was the direct cause of the following exception:\n",
      "\u001b[0;31mUnboundLocalError\u001b[0m                         Traceback (most recent call last)",
      "\u001b[0;32m<ipython-input-22-e97f4a5dda5d>\u001b[0m in \u001b[0;36m<module>\u001b[0;34m\u001b[0m\n\u001b[1;32m      1\u001b[0m \u001b[0;32mfor\u001b[0m \u001b[0mf\u001b[0m \u001b[0;32min\u001b[0m \u001b[0mrange\u001b[0m\u001b[0;34m(\u001b[0m\u001b[0;36m0\u001b[0m\u001b[0;34m,\u001b[0m\u001b[0mlen\u001b[0m\u001b[0;34m(\u001b[0m\u001b[0mfutures1\u001b[0m\u001b[0;34m)\u001b[0m\u001b[0;34m)\u001b[0m\u001b[0;34m:\u001b[0m\u001b[0;34m\u001b[0m\u001b[0;34m\u001b[0m\u001b[0m\n\u001b[1;32m      2\u001b[0m     \u001b[0mprint\u001b[0m\u001b[0;34m(\u001b[0m\u001b[0mf\u001b[0m\u001b[0;34m)\u001b[0m\u001b[0;34m\u001b[0m\u001b[0;34m\u001b[0m\u001b[0m\n\u001b[0;32m----> 3\u001b[0;31m     \u001b[0mprint\u001b[0m\u001b[0;34m(\u001b[0m\u001b[0mlen\u001b[0m\u001b[0;34m(\u001b[0m\u001b[0mfutures1\u001b[0m\u001b[0;34m[\u001b[0m\u001b[0mf\u001b[0m\u001b[0;34m]\u001b[0m\u001b[0;34m.\u001b[0m\u001b[0mresult\u001b[0m\u001b[0;34m(\u001b[0m\u001b[0;34m)\u001b[0m\u001b[0;34m)\u001b[0m\u001b[0;34m)\u001b[0m\u001b[0;34m\u001b[0m\u001b[0;34m\u001b[0m\u001b[0m\n\u001b[0m\u001b[1;32m      4\u001b[0m     \u001b[0mprint\u001b[0m\u001b[0;34m(\u001b[0m\u001b[0mfutures1\u001b[0m\u001b[0;34m[\u001b[0m\u001b[0mf\u001b[0m\u001b[0;34m]\u001b[0m\u001b[0;34m.\u001b[0m\u001b[0mresult\u001b[0m\u001b[0;34m(\u001b[0m\u001b[0;34m)\u001b[0m\u001b[0;34m)\u001b[0m\u001b[0;34m\u001b[0m\u001b[0;34m\u001b[0m\u001b[0m\n",
      "\u001b[0;32m/mnt/distvol/Python-3.9.4/lib/python3.9/concurrent/futures/_base.py\u001b[0m in \u001b[0;36mresult\u001b[0;34m(self, timeout)\u001b[0m\n\u001b[1;32m    436\u001b[0m                     \u001b[0;32mraise\u001b[0m \u001b[0mCancelledError\u001b[0m\u001b[0;34m(\u001b[0m\u001b[0;34m)\u001b[0m\u001b[0;34m\u001b[0m\u001b[0;34m\u001b[0m\u001b[0m\n\u001b[1;32m    437\u001b[0m                 \u001b[0;32melif\u001b[0m \u001b[0mself\u001b[0m\u001b[0;34m.\u001b[0m\u001b[0m_state\u001b[0m \u001b[0;34m==\u001b[0m \u001b[0mFINISHED\u001b[0m\u001b[0;34m:\u001b[0m\u001b[0;34m\u001b[0m\u001b[0;34m\u001b[0m\u001b[0m\n\u001b[0;32m--> 438\u001b[0;31m                     \u001b[0;32mreturn\u001b[0m \u001b[0mself\u001b[0m\u001b[0;34m.\u001b[0m\u001b[0m__get_result\u001b[0m\u001b[0;34m(\u001b[0m\u001b[0;34m)\u001b[0m\u001b[0;34m\u001b[0m\u001b[0;34m\u001b[0m\u001b[0m\n\u001b[0m\u001b[1;32m    439\u001b[0m \u001b[0;34m\u001b[0m\u001b[0m\n\u001b[1;32m    440\u001b[0m                 \u001b[0mself\u001b[0m\u001b[0;34m.\u001b[0m\u001b[0m_condition\u001b[0m\u001b[0;34m.\u001b[0m\u001b[0mwait\u001b[0m\u001b[0;34m(\u001b[0m\u001b[0mtimeout\u001b[0m\u001b[0;34m)\u001b[0m\u001b[0;34m\u001b[0m\u001b[0;34m\u001b[0m\u001b[0m\n",
      "\u001b[0;32m/mnt/distvol/Python-3.9.4/lib/python3.9/concurrent/futures/_base.py\u001b[0m in \u001b[0;36m__get_result\u001b[0;34m(self)\u001b[0m\n\u001b[1;32m    388\u001b[0m         \u001b[0;32mif\u001b[0m \u001b[0mself\u001b[0m\u001b[0;34m.\u001b[0m\u001b[0m_exception\u001b[0m\u001b[0;34m:\u001b[0m\u001b[0;34m\u001b[0m\u001b[0;34m\u001b[0m\u001b[0m\n\u001b[1;32m    389\u001b[0m             \u001b[0;32mtry\u001b[0m\u001b[0;34m:\u001b[0m\u001b[0;34m\u001b[0m\u001b[0;34m\u001b[0m\u001b[0m\n\u001b[0;32m--> 390\u001b[0;31m                 \u001b[0;32mraise\u001b[0m \u001b[0mself\u001b[0m\u001b[0;34m.\u001b[0m\u001b[0m_exception\u001b[0m\u001b[0;34m\u001b[0m\u001b[0;34m\u001b[0m\u001b[0m\n\u001b[0m\u001b[1;32m    391\u001b[0m             \u001b[0;32mfinally\u001b[0m\u001b[0;34m:\u001b[0m\u001b[0;34m\u001b[0m\u001b[0;34m\u001b[0m\u001b[0m\n\u001b[1;32m    392\u001b[0m                 \u001b[0;31m# Break a reference cycle with the exception in self._exception\u001b[0m\u001b[0;34m\u001b[0m\u001b[0;34m\u001b[0m\u001b[0;34m\u001b[0m\u001b[0m\n",
      "\u001b[0;31mUnboundLocalError\u001b[0m: local variable 'set' referenced before assignment"
     ]
    }
   ],
   "source": [
    "set = pd.DataFrame()\n",
    "\n",
    "for f in range(0,len(futures1)):\n",
    "    #print(f)\n",
    "    #print(len(futures1[f].result()))\n",
    "    temp = futures1[f].result()\n",
    "    set = pd."
   ]
  }
 ],
 "metadata": {
  "kernelspec": {
   "display_name": "Python 3",
   "language": "python",
   "name": "python3"
  },
  "language_info": {
   "codemirror_mode": {
    "name": "ipython",
    "version": 3
   },
   "file_extension": ".py",
   "mimetype": "text/x-python",
   "name": "python",
   "nbconvert_exporter": "python",
   "pygments_lexer": "ipython3",
   "version": "3.9.4"
  }
 },
 "nbformat": 4,
 "nbformat_minor": 5
}

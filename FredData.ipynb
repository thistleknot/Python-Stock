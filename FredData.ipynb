{
 "cells": [
  {
   "cell_type": "code",
   "execution_count": 12,
   "id": "bdb9340b-1446-4f6a-b27e-ad83e4a15f02",
   "metadata": {},
   "outputs": [],
   "source": [
    "import os\n",
    "from datetime import datetime\n",
    "import concurrent\n",
    "import pandas_datareader.data as web\n",
    "import pandas as pd\n",
    "import datetime\n",
    "import concurrent.futures\n",
    "from concurrent.futures import wait, ALL_COMPLETED\n",
    "import yfinance as yf\n",
    "import urllib\n",
    "import urllib.request\n",
    "import time\n",
    "from datetime import timedelta"
   ]
  },
  {
   "cell_type": "code",
   "execution_count": 13,
   "id": "7b0689d0-fa5e-43c2-8738-dd2ae26bf139",
   "metadata": {},
   "outputs": [
    {
     "name": "stdout",
     "output_type": "stream",
     "text": [
      "choose frequency\n"
     ]
    },
    {
     "data": {
      "application/vnd.jupyter.widget-view+json": {
       "model_id": "e86af5139cf54d3a975082ee10b971f6",
       "version_major": 2,
       "version_minor": 0
      },
      "text/plain": [
       "interactive(children=(Dropdown(description='x', options=('Q', 'M', 'W'), value='Q'), Output()), _dom_classes=(…"
      ]
     },
     "metadata": {},
     "output_type": "display_data"
    }
   ],
   "source": [
    "%matplotlib inline\n",
    "from ipywidgets import interactive\n",
    "import matplotlib.pyplot as plt\n",
    "import numpy as np\n",
    "\n",
    "from __future__ import print_function\n",
    "from ipywidgets import interact, interactive, fixed, interact_manual\n",
    "import ipywidgets as widgets\n",
    "\n",
    "output_variable = widgets.Text()\n",
    "\n",
    "def f2(x):    \n",
    "    output_variable.value = str(x)\n",
    "\n",
    "print(\"choose frequency\")\n",
    "value = interact(f2, x=['Q','M','W']);\n"
   ]
  },
  {
   "cell_type": "code",
   "execution_count": 14,
   "id": "2469869c-fb2d-476f-bfca-b8aa4a1b378e",
   "metadata": {},
   "outputs": [],
   "source": [
    "frequency = output_variable.value\n"
   ]
  },
  {
   "cell_type": "code",
   "execution_count": 15,
   "id": "ca035454-7eea-4f8e-a4c4-b70fbaf6c7ab",
   "metadata": {},
   "outputs": [
    {
     "name": "stdout",
     "output_type": "stream",
     "text": [
      "2021-05-11\n",
      "2003-06-03\n"
     ]
    }
   ],
   "source": [
    "\n",
    "\n",
    "w=117*8\n",
    "#start = datetime.datetime(2010, 1, 1)\n",
    "\n",
    "#end = datetime.datetime(2013, 1, 27)\n",
    "end_date = datetime.date.today()\n",
    "\n",
    "start_date = end_date - timedelta(weeks=w)\n",
    "\n",
    "pd.set_option('display.max_columns', None) #replace n with the number of columns you want to see completely\n",
    "pd.set_option('display.max_rows', None) #replace n with the number of rows you want to see completely\n",
    "\n",
    "cores = int(len(os.sched_getaffinity(0)))\n",
    "\n",
    "print(end_date)\n",
    "print(start_date)"
   ]
  },
  {
   "cell_type": "code",
   "execution_count": 16,
   "id": "2594fc74-ab06-47bd-91fe-f59ff1df2526",
   "metadata": {},
   "outputs": [],
   "source": [
    "\n",
    "etf_commodities = ['DBO','CORN', 'WEAT', 'SOYB', 'JO', 'SGG', 'BAL', 'COW', 'MOO', 'TAGS', 'KOL' ]\n",
    "#Gold, Silver, Platinum, Copper, Paladium, Aluminum, Iron, Steel\n",
    "etf_metals = ['IAU', 'SLV', 'PGM', 'JJC', 'PALL', 'JJU', 'IFUNX', 'SLX']\n",
    "#US dollar, European Euro, Japanese yen, Pound sterling, Australian dollar, Canadian dollar, Swiss franc, Chinese Yuan Renminbi, Swedish Krona, Peso, India\n",
    "#defunct: Russia: XRU, Mexico: FXM\n",
    "etf_foreign_exchanges = ['UUP','FXE','FXY','FXB','FXA','FXC','FXF','CYB', 'FXS', 'INR']\n",
    "#residential, Ishares all NAmerica\n",
    "etf_real_estate = ['REZ', 'IYR']\n",
    "#Russia, Germany, UK, Japan, China, Euro, Euro, Brazil, Latin America, Mexico, India\n",
    "etf_economies = ['ERUS','EWG','EWU','EWJ','MCHI','EZU','IEUR','EWZ','ILF','EWW','INDA']\n",
    "#Ishares Investment Grade, IShares core aggregate Investment grade, Short, Total, 1-5 Years, 5-10 Years, 10 Years, Gov/Credit\n",
    "#defunct:  \n",
    "\n",
    "etf_spdr_indexes = ['XLC','XLY','XLP','XLE','XLF','XLV','XLI','XLB','XLRE','XLK','XLU']\n",
    "etf_dow_components = ['MMM','AXP','AMGN','AAPL','BA','CAT','CVX','CSCO','KO','DOW','GS','HD','HON','IBM','INTC','JNJ','JPM','MCD','MRK','MSFT','NKE','PG','CRM','TRV','UNH','VZ','V','WMT','WBA','DIS']\n",
    "\n",
    "etf_bonds = ['LQD', 'AGG', 'NEAR', 'IUSB', 'ISTB', 'IMTB', 'ILTB', 'GBF']\n",
    "etf_muni_bonds = ['MUB', 'SUB', 'MEAR']\n",
    "\n",
    "etf_treasuries = ['AGZ', 'GOVT', 'BIL', 'SHV', 'SHY', 'IEI', 'IEF', 'TLT']\n",
    "\n",
    "crypto = ['BTCUSD=X','ETH','RPL','BCH','EOS','LTC']\n",
    "\n",
    "#,'GOLDAMGBD228NLBM',\n",
    "FRED_Indicators = ['CPALTT01USQ657N','PAYEMS','IRLTLT01USM156N','MABMM301USM189S','LFWA64TTUSM647S','MANMM101USA189S','MICH','UMCSENT','CSCICP03USM665S','DGS10','DTB3','DGS3MO','CASTHPI','GDPC1','CIVPART','POPTOTUSA647NWDB','MEHOINUSA672N','HOSMEDUSM052N','MORTGAGE30US','TTLHH','CSUSHPINSA','EMRATIO','CPIAUCSL','PSAVERT','LRUN64TTUSQ156S','USSTHPI','NYSTHPI','M2V','GFDEBTN','DFII10','GFDEGDQ188S','CUSR0000SEHA','ETOTALUSQ176N','ERENTUSQ176N','RECPROUSM156N','T5YIFR','BAMLHYH0A0HYM2TRIV','BAMLCC0A1AAATRIV','GVZCLS','DGS1','BAMLCC0A4BBBTRIV','VXVCLS','IC4WSA','WILLMICROCAPPR','WILLLRGCAPVAL','CFNAIDIFF','MZMSL','KCFSI','T5YIE','TOTALSA','USSLIND','AWHAETP','CES0500000003','TCU','WTB3MS','WGS3MO','TWEXB','DEXCHUS','DEXUSUK','CILACBQ158SBOG','CES4348400001','FEDFUNDS','TDSP','PERMIT','GFDEGDQ188S','CP','PRFI','DRSFRMACBS','DRCCLACBS','DRBLACBS','DALLCIACBEP','USROA','USROE','RSAHORUSQ156S','MEFAINUSA672N','COMREPUSQ159N','HDTGPDUSQ163N','POP','NROU','FGCCSAQ027S','TEDRATE', 'VIXCLS', 'NFCI','INDPRO','LES1252881600Q','CUUR0000SEHA','LEU0252918500Q','BAA10Y','BAMLC0A0CM','BAMLH0A3HYC','BOGMBASE','DCOILBRENTEU','DCOILWTICO','DFF','DGS1MO','DGS30','DGS5','FPCPITOTLZGUSA','ICSA','INTDSRUSM193N','M1','M1V','MPRIME','PPIACO','SPCS20RSA','STLFSI2','T10Y2Y','T10Y3M','TB3MS','TREAST','UNRATE','WPU0911']\n",
    "#FRED_Indicators = [\"CPALTT01USQ657N\",\"PAYEMS\",\"IRLTLT01USM156N\",\"MABMM301USM189S\",\"LFWA64TTUSM647S\",\"MANMM101USA189S\",\"MICH\",\"UMCSENT\",\"CSCICP03USM665S\",\"DGS10\",\"DTB3\",\"DGS3MO\",\"CASTHPI\",\"GDPC1\",\"CIVPART\",\"POPTOTUSA647NWDB\",\"MEHOINUSA672N\",\"HOSMEDUSM052N\",\"MORTGAGE30US\",\"TTLHH\",\"CSUSHPINSA\",\"EMRATIO\",\"CPIAUCSL\",\"PSAVERT\",\"LRUN64TTUSQ156S\",\"USSTHPI\",\"NYSTHPI\",\"M2V\",\"GFDEBTN\",\"DFII10\",\"GFDEGDQ188S\",\"CUSR0000SEHA\",\"ETOTALUSQ176N\",\"ERENTUSQ176N\",\"RECPROUSM156N\",\"T5YIFR\",\"BAMLHYH0A0HYM2TRIV\",\"BAMLCC0A1AAATRIV\",\"GVZCLS\",\"DGS1\",\"BAMLCC0A4BBBTRIV\",\"VXVCLS\",\"IC4WSA\",\"WILLMICROCAPPR\",\"WILLLRGCAPVAL\",\"CFNAIDIFF\",\"MZMSL\",\"KCFSI\",\"T5YIE\",\"TOTALSA\",\"USSLIND\",\"AWHAETP\",\"CES0500000003\",\"TCU\",\"WTB3MS\",\"WGS3MO\",\"TWEXB\",\"DEXCHUS\",\"DEXUSUK\",\"CILACBQ158SBOG\",\"CES4348400001\",\"FEDFUNDS\",\"TDSP\",\"PERMIT\",\"GFDEGDQ188S\",\"CP\",\"PRFI\",\"DRSFRMACBS\",\"DRCCLACBS\",\"DRBLACBS\",\"DALLCIACBEP\",\"USROA\",\"USROE\",\"RSAHORUSQ156S\",\"MEFAINUSA672N\",\"COMREPUSQ159N\",\"HDTGPDUSQ163N\",\"POP\",\"NROU\",\"FGCCSAQ027S\",\"TEDRATE\", \"VIXCLS\", \"NFCI\",\"INDPRO\",\"LES1252881600Q\",\"CUUR0000SEHA\",\"LEU0252918500Q\",\"BAA10Y\",\"BAMLC0A0CM\",\"BAMLH0A3HYC\",\"BOGMBASE\",\"DCOILBRENTEU\",\"DCOILWTICO\",\"DFF\",\"DGS1MO\",\"DGS30\",\"DGS5\",\"FPCPITOTLZGUSA\",\"GOLDAMGBD228NLBM\",\"ICSA\",\"INTDSRUSM193N\",\"M1\",\"M1V\",\"MPRIME\",\"PPIACO\",\"SPCS20RSA\",\"STLFSI2\",\"T10Y2Y\",\"T10Y3M\",\"TB3MS\",\"TREAST\",\"UNRATE\",\"WPU0911\"]\n",
    "\n",
    "Indexes = ['^SP500TR', 'QQQ', 'DIA', 'VTWO']\n",
    "\n",
    "etf_indexes_and_Crypto_list = [Indexes, etf_commodities, etf_metals, etf_foreign_exchanges, etf_real_estate, etf_economies, etf_bonds, etf_muni_bonds, etf_treasuries, crypto, etf_spdr_indexes, etf_dow_components]\n"
   ]
  },
  {
   "cell_type": "code",
   "execution_count": 17,
   "id": "2d6337f5-6103-4147-b70c-0acbb0678b27",
   "metadata": {},
   "outputs": [],
   "source": [
    "commodities = [] \n",
    "for sublist in etf_indexes_and_Crypto_list: \n",
    "    for val in sublist: \n",
    "        commodities.append(val) \n"
   ]
  },
  {
   "cell_type": "code",
   "execution_count": null,
   "id": "e7b2f4d8-f8ad-4da6-93f1-20479060c35d",
   "metadata": {},
   "outputs": [],
   "source": []
  },
  {
   "cell_type": "code",
   "execution_count": 18,
   "id": "5ef843d6-d666-445d-9ae5-e7cc6aed79c9",
   "metadata": {
    "tags": []
   },
   "outputs": [
    {
     "name": "stdout",
     "output_type": "stream",
     "text": [
      "[*********************100%***********************]  1 of 1 completed\n",
      "[*********************100%***********************]  1 of 1 completed\n",
      "\n",
      "\n",
      "[*********************100%***********************]  1 of 1 completed\n",
      "[*********************100%***********************]  1 of 1 completed\n",
      "[*********************100%***********************]  1 of 1 completed\n",
      "[*********************100%***********************]  1 of 1 completed\n",
      "[*********************100%***********************]  1 of 1 completed\n",
      "[*********************100%***********************]  1 of 1 completed\n",
      "[*********************100%***********************]  1 of 1 completed\n",
      "[*********************100%***********************]  1 of 1 completed\n",
      "[*********************100%***********************]  1 of 1 completed\n",
      "[*********************100%***********************]  1 of 1 completed\n",
      "[*********************100%***********************]  1 of 1 completed\n"
     ]
    },
    {
     "data": {
      "text/plain": [
       "DoneAndNotDoneFutures(done={<Future at 0x7f3625af1e20 state=finished returned DataFrame>, <Future at 0x7f3625afe3d0 state=finished returned DataFrame>, <Future at 0x7f3625afe070 state=finished returned DataFrame>, <Future at 0x7f3625e4c8b0 state=finished returned DataFrame>, <Future at 0x7f3625afe2b0 state=finished returned DataFrame>, <Future at 0x7f3625af1cd0 state=finished returned DataFrame>, <Future at 0x7f3625ae88e0 state=finished returned DataFrame>, <Future at 0x7f3625af18e0 state=finished returned DataFrame>, <Future at 0x7f3625afe4f0 state=finished returned DataFrame>, <Future at 0x7f3625af1f10 state=finished returned DataFrame>, <Future at 0x7f3625afe730 state=finished returned DataFrame>, <Future at 0x7f3625afe970 state=finished returned DataFrame>, <Future at 0x7f3625afe190 state=finished returned DataFrame>, <Future at 0x7f3625af19d0 state=finished returned DataFrame>, <Future at 0x7f3625af1be0 state=finished returned DataFrame>}, not_done={<Future at 0x7f3625b14040 state=pending>, <Future at 0x7f3625a9e040 state=pending>, <Future at 0x7f3625b19040 state=pending>, <Future at 0x7f3625b0e070 state=pending>, <Future at 0x7f3625aa3040 state=pending>, <Future at 0x7f3625b03070 state=running>, <Future at 0x7f3625b09070 state=pending>, <Future at 0x7f3625b14160 state=pending>, <Future at 0x7f3625a9e160 state=pending>, <Future at 0x7f3625b19160 state=pending>, <Future at 0x7f3625b0e190 state=pending>, <Future at 0x7f3625aa3160 state=pending>, <Future at 0x7f3625b03190 state=running>, <Future at 0x7f3625b09190 state=pending>, <Future at 0x7f3625b14280 state=pending>, <Future at 0x7f3625a9e280 state=pending>, <Future at 0x7f3625b19280 state=pending>, <Future at 0x7f3625b0e2b0 state=pending>, <Future at 0x7f3625aa3280 state=pending>, <Future at 0x7f3625b032b0 state=pending>, <Future at 0x7f3625b092b0 state=pending>, <Future at 0x7f3625b143a0 state=pending>, <Future at 0x7f3625a9e3a0 state=pending>, <Future at 0x7f3625b193a0 state=pending>, <Future at 0x7f3625b0e3d0 state=pending>, <Future at 0x7f3625aa33a0 state=pending>, <Future at 0x7f3625b033d0 state=pending>, <Future at 0x7f3625b093d0 state=pending>, <Future at 0x7f3625b144c0 state=pending>, <Future at 0x7f3625a9e4c0 state=pending>, <Future at 0x7f3625b194c0 state=pending>, <Future at 0x7f3625b0e4f0 state=pending>, <Future at 0x7f3625aa34c0 state=pending>, <Future at 0x7f3625b034f0 state=pending>, <Future at 0x7f3625b094f0 state=pending>, <Future at 0x7f3625b145e0 state=pending>, <Future at 0x7f3625a9e5e0 state=pending>, <Future at 0x7f3625b195e0 state=pending>, <Future at 0x7f3625afe610 state=running>, <Future at 0x7f3625b0e610 state=pending>, <Future at 0x7f3625aa35e0 state=pending>, <Future at 0x7f3625b03610 state=pending>, <Future at 0x7f3625b09610 state=pending>, <Future at 0x7f3625b14700 state=pending>, <Future at 0x7f3625a9e700 state=pending>, <Future at 0x7f3625b19700 state=pending>, <Future at 0x7f3625b0e730 state=pending>, <Future at 0x7f3625aa3700 state=pending>, <Future at 0x7f3625b03730 state=pending>, <Future at 0x7f3625b09730 state=pending>, <Future at 0x7f3625b14820 state=pending>, <Future at 0x7f3625a9e820 state=pending>, <Future at 0x7f3625b19820 state=pending>, <Future at 0x7f3625afe850 state=running>, <Future at 0x7f3625b0e850 state=pending>, <Future at 0x7f3625aa3820 state=pending>, <Future at 0x7f3625b03850 state=pending>, <Future at 0x7f3625b09850 state=pending>, <Future at 0x7f3625b14940 state=pending>, <Future at 0x7f3625a9e940 state=pending>, <Future at 0x7f3625b19940 state=pending>, <Future at 0x7f3625b0e970 state=pending>, <Future at 0x7f3625aa3940 state=pending>, <Future at 0x7f3625b03970 state=pending>, <Future at 0x7f3625b09970 state=pending>, <Future at 0x7f3625b14a60 state=pending>, <Future at 0x7f3625a9ea60 state=pending>, <Future at 0x7f3625b19a60 state=pending>, <Future at 0x7f3625afea90 state=running>, <Future at 0x7f3625b0ea90 state=pending>, <Future at 0x7f3625b03a90 state=pending>, <Future at 0x7f3625b09a90 state=pending>, <Future at 0x7f3625b14b80 state=pending>, <Future at 0x7f3625a9eb80 state=pending>, <Future at 0x7f3625b19b80 state=pending>, <Future at 0x7f3625afebb0 state=running>, <Future at 0x7f3625b03bb0 state=pending>, <Future at 0x7f3625b09bb0 state=pending>, <Future at 0x7f3625b14ca0 state=pending>, <Future at 0x7f3625a9eca0 state=pending>, <Future at 0x7f3625b19ca0 state=pending>, <Future at 0x7f3625afecd0 state=running>, <Future at 0x7f3625b03cd0 state=pending>, <Future at 0x7f3625b09cd0 state=pending>, <Future at 0x7f3625b14dc0 state=pending>, <Future at 0x7f3625a9edc0 state=pending>, <Future at 0x7f3625b19dc0 state=pending>, <Future at 0x7f3625afedf0 state=running>, <Future at 0x7f3625b03df0 state=pending>, <Future at 0x7f3625b09df0 state=pending>, <Future at 0x7f3625b14ee0 state=pending>, <Future at 0x7f3625a9eee0 state=pending>, <Future at 0x7f3625b19ee0 state=pending>, <Future at 0x7f3625afef10 state=running>, <Future at 0x7f3625b0ef10 state=pending>, <Future at 0x7f3625b03f10 state=pending>, <Future at 0x7f3625b09f10 state=pending>})"
      ]
     },
     "execution_count": 18,
     "metadata": {},
     "output_type": "execute_result"
    },
    {
     "name": "stdout",
     "output_type": "stream",
     "text": [
      "[*********************100%***********************]  1 of 1 completed\n",
      "[*********************100%***********************]  1 of 1 completed\n",
      "[*********************100%***********************]  1 of 1 completed\n",
      "[*********************100%***********************]  1 of 1 completed\n",
      "[*********************100%***********************]  1 of 1 completed\n",
      "[*********************100%***********************]  1 of 1 completed\n",
      "[*********************100%***********************]  1 of 1 completed\n",
      "[*********************100%***********************]  1 of 1 completed\n",
      "[*********************100%***********************]  1 of 1 completed\n",
      "[*********************100%***********************]  1 of 1 completed\n",
      "[*********************100%***********************]  1 of 1 completed\n",
      "[*********************100%***********************]  1 of 1 completed\n",
      "[*********************100%***********************]  1 of 1 completed\n",
      "[*********************100%***********************]  1 of 1 completed\n",
      "[*********************100%***********************]  1 of 1 completed\n",
      "[*********************100%***********************]  1 of 1 completed\n",
      "[*********************100%***********************]  1 of 1 completed\n",
      "[*********************100%***********************]  1 of 1 completed\n",
      "[*********************100%***********************]  1 of 1 completed\n",
      "[*********************100%***********************]  1 of 1 completed\n",
      "[*********************100%***********************]  1 of 1 completed\n",
      "[*********************100%***********************]  1 of 1 completed\n",
      "[*********************100%***********************]  1 of 1 completed\n",
      "[*********************100%***********************]  1 of 1 completed\n",
      "[*********************100%***********************]  1 of 1 completed\n",
      "[*********************100%***********************]  1 of 1 completed\n",
      "[*********************100%***********************]  1 of 1 completed\n",
      "[*********************100%***********************]  1 of 1 completed\n",
      "[*********************100%***********************]  1 of 1 completed\n",
      "[*********************100%***********************]  1 of 1 completed\n",
      "[*********************100%***********************]  1 of 1 completed\n",
      "[*********************100%***********************]  1 of 1 completed\n",
      "[*********************100%***********************]  1 of 1 completed\n",
      "[*********************100%***********************]  1 of 1 completed\n",
      "[*********************100%***********************]  1 of 1 completed\n",
      "[*********************100%***********************]  1 of 1 completed\n",
      "[*********************100%***********************]  1 of 1 completed\n",
      "[*********************100%***********************]  1 of 1 completed\n",
      "[*********************100%***********************]  1 of 1 completed\n",
      "[*********************100%***********************]  1 of 1 completed\n",
      "[*********************100%***********************]  1 of 1 completed\n",
      "[*********************100%***********************]  1 of 1 completed\n",
      "[*********************100%***********************]  1 of 1 completed\n",
      "[*********************100%***********************]  1 of 1 completed\n",
      "[*********************100%***********************]  1 of 1 completed\n",
      "[*********************100%***********************]  1 of 1 completed\n",
      "[*********************100%***********************]  1 of 1 completed\n",
      "[*********************100%***********************]  1 of 1 completed\n",
      "[*********************100%***********************]  1 of 1 completed\n",
      "[*********************100%***********************]  1 of 1 completed\n",
      "[*********************100%***********************]  1 of 1 completed\n",
      "[*********************100%***********************]  1 of 1 completed\n",
      "[*********************100%***********************]  1 of 1 completed\n",
      "[*********************100%***********************]  1 of 1 completed\n",
      "[*********************100%***********************]  1 of 1 completed\n",
      "[*********************100%***********************]  1 of 1 completed\n",
      "[*********************100%***********************]  1 of 1 completed\n",
      "[*********************100%***********************]  1 of 1 completed\n",
      "[*********************100%***********************]  1 of 1 completed\n",
      "[*********************100%***********************]  1 of 1 completed\n",
      "[*********************100%***********************]  1 of 1 completed\n",
      "[*********************100%***********************]  1 of 1 completed\n",
      "[*********************100%***********************]  1 of 1 completed\n",
      "[*********************100%***********************]  1 of 1 completed\n",
      "[*********************100%***********************]  1 of 1 completed\n",
      "[*********************100%***********************]  1 of 1 completed\n",
      "[*********************100%***********************]  1 of 1 completed\n",
      "[*********************100%***********************]  1 of 1 completed\n",
      "[*********************100%***********************]  1 of 1 completed\n",
      "[*********************100%***********************]  1 of 1 completed\n",
      "[*********************100%***********************]  1 of 1 completed\n",
      "[*********************100%***********************]  1 of 1 completed\n",
      "[*********************100%***********************]  1 of 1 completed\n",
      "[*********************100%***********************]  1 of 1 completed\n",
      "[*********************100%***********************]  1 of 1 completed\n",
      "[*********************100%***********************]  1 of 1 completed\n",
      "\n",
      "1 Failed download:\n",
      "- BTCUSD=X: No data found, symbol may be delisted\n",
      "[*********************100%***********************]  1 of 1 completed\n",
      "[*********************100%***********************]  1 of 1 completed\n",
      "[*********************100%***********************]  1 of 1 completed\n",
      "[*********************100%***********************]  1 of 1 completed\n",
      "[*********************100%***********************]  1 of 1 completed\n",
      "[*********************100%***********************]  1 of 1 completed\n",
      "[*********************100%***********************]  1 of 1 completed\n",
      "[*********************100%***********************]  1 of 1 completed\n",
      "[*********************100%***********************]  1 of 1 completed\n",
      "[*********************100%***********************]  1 of 1 completed\n",
      "[*********************100%***********************]  1 of 1 completed\n",
      "[*********************100%***********************]  1 of 1 completed\n",
      "[*********************100%***********************]  1 of 1 completed\n",
      "[*********************100%***********************]  1 of 1 completed\n",
      "[*********************100%***********************]  1 of 1 completed\n",
      "[*********************100%***********************]  1 of 1 completed\n",
      "[*********************100%***********************]  1 of 1 completed\n",
      "[*********************100%***********************]  1 of 1 completed\n",
      "[*********************100%***********************]  1 of 1 completed\n",
      "[*********************100%***********************]  1 of 1 completed\n",
      "[*********************100%***********************]  1 of 1 completed\n"
     ]
    }
   ],
   "source": [
    "\n",
    "pool2 = concurrent.futures.ProcessPoolExecutor(cores)\n",
    "\n",
    "def dl(name):\n",
    "    subset = yf.download(name, start=start_date, end=end_date, auto_adjust=True).iloc[:, :6].dropna(axis=0, how='any')\n",
    "    subset = subset[start_date.strftime('%Y-%m-%d'):end_date.strftime('%Y-%m-%d')]\n",
    "    #sleep(4)\n",
    "    if len(subset) != 0:\n",
    "        return (subset)\n",
    "\n",
    "pool2 = concurrent.futures.ProcessPoolExecutor(cores)\n",
    "\n",
    "futures2 = [pool2.submit(dl, args) for args in commodities]\n",
    "wait(futures2, timeout=4, return_when=ALL_COMPLETED)    \n",
    "\n",
    "    \n"
   ]
  },
  {
   "cell_type": "code",
   "execution_count": null,
   "id": "a17681ff-ed43-4cba-abfd-cd91f8fd0562",
   "metadata": {},
   "outputs": [],
   "source": []
  },
  {
   "cell_type": "code",
   "execution_count": 19,
   "id": "b936df1e-cbe2-40ca-9f4c-71c9bf38af56",
   "metadata": {},
   "outputs": [],
   "source": [
    "\n",
    "commodities_ = pd.DataFrame()\n",
    "\n",
    "for x in range(0,len(commodities)):\n",
    "    values = pd.DataFrame(futures2[x].result())\n",
    "    values.index = pd.to_datetime(values.index)\n",
    "    values = values.resample(frequency).mean().dropna()\n",
    "    values['Symbol'] = commodities[x]\n",
    "    values = values.loc[~values.index.duplicated(keep='last')]        \n",
    "    values = values.reset_index()\n",
    "\n",
    "    commodities_ = pd.concat([commodities_,values])\n",
    "    \n"
   ]
  },
  {
   "cell_type": "code",
   "execution_count": 20,
   "id": "31feadcc-d379-4dc4-8a4c-bd9d1099d42c",
   "metadata": {},
   "outputs": [],
   "source": [
    "commodities_pvt = pd.pivot_table(commodities_, values='Close', index=['Date'],columns=['Symbol'])\n",
    "commodities_pvt.to_csv(\"/mnt/distvol/commodities.csv\")"
   ]
  },
  {
   "cell_type": "code",
   "execution_count": 21,
   "id": "4bf6181c-d2e2-4672-abd9-38ed62f24ca9",
   "metadata": {},
   "outputs": [
    {
     "data": {
      "text/plain": [
       "DoneAndNotDoneFutures(done={<Future at 0x7f362596e070 state=finished returned DataFrame>, <Future at 0x7f36258de0a0 state=finished returned DataFrame>, <Future at 0x7f36258e40a0 state=finished returned DataFrame>, <Future at 0x7f36258ea0a0 state=finished returned DataFrame>, <Future at 0x7f362596e190 state=finished returned DataFrame>, <Future at 0x7f36258de1c0 state=finished returned DataFrame>, <Future at 0x7f36258e41c0 state=finished returned DataFrame>, <Future at 0x7f36258ea1c0 state=finished returned DataFrame>, <Future at 0x7f362596e2b0 state=finished returned DataFrame>, <Future at 0x7f36258de2e0 state=finished returned DataFrame>, <Future at 0x7f36258e42e0 state=finished returned DataFrame>, <Future at 0x7f36258ea2e0 state=finished returned DataFrame>, <Future at 0x7f362596e3d0 state=finished returned DataFrame>, <Future at 0x7f36258de400 state=finished returned DataFrame>, <Future at 0x7f36258e4400 state=finished returned DataFrame>, <Future at 0x7f36258ea400 state=finished returned DataFrame>, <Future at 0x7f362596e4f0 state=finished returned DataFrame>, <Future at 0x7f36258de520 state=finished returned DataFrame>, <Future at 0x7f36258e4520 state=finished returned DataFrame>, <Future at 0x7f36258ea520 state=finished returned DataFrame>, <Future at 0x7f362596e610 state=finished returned DataFrame>, <Future at 0x7f36258de640 state=finished returned DataFrame>, <Future at 0x7f36258e4640 state=finished returned DataFrame>, <Future at 0x7f36258ea640 state=finished returned DataFrame>, <Future at 0x7f362596e730 state=finished returned DataFrame>, <Future at 0x7f36258de760 state=finished returned DataFrame>, <Future at 0x7f36258e4760 state=finished returned DataFrame>, <Future at 0x7f36258ea760 state=finished returned DataFrame>, <Future at 0x7f362596e850 state=finished returned DataFrame>, <Future at 0x7f36258de880 state=finished returned DataFrame>, <Future at 0x7f36258e4880 state=finished returned DataFrame>, <Future at 0x7f36258ea880 state=finished returned DataFrame>, <Future at 0x7f362596e970 state=finished returned DataFrame>, <Future at 0x7f36258de9a0 state=finished returned DataFrame>, <Future at 0x7f36258e49a0 state=finished returned DataFrame>, <Future at 0x7f36258ea9a0 state=finished returned DataFrame>, <Future at 0x7f362596ea90 state=finished returned DataFrame>, <Future at 0x7f36258deac0 state=finished returned DataFrame>, <Future at 0x7f36258e4ac0 state=finished returned DataFrame>, <Future at 0x7f36258eaac0 state=finished returned DataFrame>, <Future at 0x7f362596ebb0 state=finished returned DataFrame>, <Future at 0x7f36258debe0 state=finished returned DataFrame>, <Future at 0x7f36258e4be0 state=finished returned DataFrame>, <Future at 0x7f36258eabe0 state=finished returned DataFrame>, <Future at 0x7f362596ecd0 state=finished returned DataFrame>, <Future at 0x7f36258ded00 state=finished returned DataFrame>, <Future at 0x7f36258e4d00 state=finished returned DataFrame>, <Future at 0x7f36258ead00 state=finished returned DataFrame>, <Future at 0x7f362596edf0 state=finished returned DataFrame>, <Future at 0x7f36258dee20 state=finished returned DataFrame>, <Future at 0x7f36258e4e20 state=finished returned DataFrame>, <Future at 0x7f36258eae20 state=finished returned DataFrame>, <Future at 0x7f362596ef10 state=finished returned DataFrame>, <Future at 0x7f36258def40 state=finished returned DataFrame>, <Future at 0x7f36258e4f40 state=finished returned DataFrame>, <Future at 0x7f36258eaf40 state=finished returned DataFrame>, <Future at 0x7f36259630a0 state=finished returned DataFrame>, <Future at 0x7f36258ef0a0 state=finished returned DataFrame>, <Future at 0x7f36258f50a0 state=finished returned DataFrame>, <Future at 0x7f3625969190 state=finished returned DataFrame>, <Future at 0x7f36259631c0 state=finished returned DataFrame>, <Future at 0x7f36258ef1c0 state=finished returned DataFrame>, <Future at 0x7f36258f51c0 state=finished returned DataFrame>, <Future at 0x7f3625969220 state=finished returned DataFrame>, <Future at 0x7f36259632e0 state=finished returned DataFrame>, <Future at 0x7f36258ef2e0 state=finished returned DataFrame>, <Future at 0x7f36258f52e0 state=finished returned DataFrame>, <Future at 0x7f3625969400 state=finished returned DataFrame>, <Future at 0x7f3625963400 state=finished returned DataFrame>, <Future at 0x7f36258ef400 state=finished returned DataFrame>, <Future at 0x7f36258f5400 state=finished returned DataFrame>, <Future at 0x7f36259874c0 state=finished returned DataFrame>, <Future at 0x7f3625969520 state=finished returned DataFrame>, <Future at 0x7f3625963520 state=finished returned DataFrame>, <Future at 0x7f36258ef520 state=finished returned DataFrame>, <Future at 0x7f36258f5520 state=finished returned DataFrame>, <Future at 0x7f3625969640 state=finished returned DataFrame>, <Future at 0x7f3625963640 state=finished returned DataFrame>, <Future at 0x7f36258ef640 state=finished returned DataFrame>, <Future at 0x7f3625d95760 state=finished returned DataFrame>, <Future at 0x7f3625969760 state=finished returned DataFrame>, <Future at 0x7f3625963760 state=finished returned DataFrame>, <Future at 0x7f36258ef760 state=finished returned DataFrame>, <Future at 0x7f36259737f0 state=finished returned DataFrame>, <Future at 0x7f3625969880 state=finished returned DataFrame>, <Future at 0x7f3625963880 state=finished returned DataFrame>, <Future at 0x7f36258ef880 state=finished returned DataFrame>, <Future at 0x7f36259699a0 state=finished returned DataFrame>, <Future at 0x7f36259639a0 state=finished returned DataFrame>, <Future at 0x7f36258ef9a0 state=finished returned DataFrame>, <Future at 0x7f3625973a60 state=finished returned DataFrame>, <Future at 0x7f3625969ac0 state=finished returned DataFrame>, <Future at 0x7f3625963ac0 state=finished returned DataFrame>, <Future at 0x7f36258efac0 state=finished returned DataFrame>, <Future at 0x7f3625aa3af0 state=finished returned DataFrame>, <Future at 0x7f3625969be0 state=finished returned DataFrame>, <Future at 0x7f3625963be0 state=finished returned DataFrame>, <Future at 0x7f36258efbe0 state=finished returned DataFrame>, <Future at 0x7f3625973c40 state=finished returned DataFrame>, <Future at 0x7f3625973c70 state=finished returned DataFrame>, <Future at 0x7f3625969d00 state=finished returned DataFrame>, <Future at 0x7f3625963d00 state=finished returned DataFrame>, <Future at 0x7f36258efd00 state=finished returned DataFrame>, <Future at 0x7f3625973d60 state=finished returned DataFrame>, <Future at 0x7f3625973e20 state=finished returned DataFrame>, <Future at 0x7f3625969e20 state=finished returned DataFrame>, <Future at 0x7f3625963e20 state=finished returned DataFrame>, <Future at 0x7f36258efe20 state=finished returned DataFrame>, <Future at 0x7f3625973f10 state=finished returned DataFrame>, <Future at 0x7f3625969f40 state=finished returned DataFrame>, <Future at 0x7f3625963f40 state=finished returned DataFrame>, <Future at 0x7f36258eff40 state=finished returned DataFrame>}, not_done=set())"
      ]
     },
     "execution_count": 21,
     "metadata": {},
     "output_type": "execute_result"
    }
   ],
   "source": [
    "\n",
    "pool1 = concurrent.futures.ProcessPoolExecutor(cores)\n",
    "\n",
    "def Fred_Data(name):\n",
    "#for i in FRED_Indicators:\n",
    "    temp = web.DataReader(str(name), 'fred', start_date, end_date)\n",
    "    temp.index = pd.to_datetime(temp.index)\n",
    "    temp = temp.resample(frequency).mean().dropna()\n",
    "    #set = pd.concat([set,temp],axis=1)\n",
    "    return(temp)\n",
    "\n",
    "pool1 = concurrent.futures.ProcessPoolExecutor(cores)\n",
    "\n",
    "futures1 = [pool1.submit(Fred_Data, args) for args in FRED_Indicators]\n",
    "wait(futures1, timeout=None, return_when=ALL_COMPLETED)    \n",
    "    "
   ]
  },
  {
   "cell_type": "code",
   "execution_count": 22,
   "id": "4bac1ab3-9a80-4102-9b7f-1e95132f0c55",
   "metadata": {},
   "outputs": [],
   "source": [
    "FRED_set = pd.DataFrame()\n",
    "\n",
    "for f in range(0,len(futures1)):\n",
    "    #print(f)\n",
    "    #print(len(futures1[f].result()))\n",
    "    temp = futures1[f].result()\n",
    "    FRED_set = pd.concat([FRED_set,temp],axis=1)\n",
    "    \n",
    "FRED_set.to_csv(\"/mnt/distvol/fred_data.csv\")"
   ]
  },
  {
   "cell_type": "code",
   "execution_count": 23,
   "id": "9d637817-8ce6-4bd5-af44-dab425a47939",
   "metadata": {},
   "outputs": [],
   "source": [
    "combined_set = pd.concat([FRED_set,commodities_pvt],axis=1)\n",
    "\n"
   ]
  },
  {
   "cell_type": "code",
   "execution_count": null,
   "id": "4e5c6942-be0a-4e3a-936c-2b820dbe79e7",
   "metadata": {},
   "outputs": [],
   "source": []
  },
  {
   "cell_type": "code",
   "execution_count": 24,
   "id": "1d68d826-a4c9-46ee-9a37-7d8883f48d92",
   "metadata": {},
   "outputs": [
    {
     "name": "stdout",
     "output_type": "stream",
     "text": [
      "223\n",
      "73\n",
      "Index(['dropsCPALTT01USQ657N', 'dropsPAYEMS', 'dropsIRLTLT01USM156N',\n",
      "       'dropsMABMM301USM189S', 'dropsLFWA64TTUSM647S', 'dropsMANMM101USA189S',\n",
      "       'dropsMICH', 'dropsUMCSENT', 'dropsCSCICP03USM665S', 'dropsCASTHPI',\n",
      "       ...\n",
      "       'dropsSLX', 'dropsSOYB', 'dropsSUB', 'dropsTAGS', 'dropsUUP', 'dropsV',\n",
      "       'dropsVTWO', 'dropsWEAT', 'dropsXLC', 'dropsXLRE'],\n",
      "      dtype='object', length=134)\n"
     ]
    }
   ],
   "source": [
    "print(len(combined_set.columns))\n",
    "print(len(combined_set))\n",
    "\n",
    "drops = combined_set.describe().loc['count'].index[combined_set.describe().loc['count']<len(combined_set)]\n",
    "print(\"drops\" + drops)\n",
    "filtered = combined_set.columns.tolist()\n",
    "\n",
    "for d in drops:\n",
    "    #print(d)\n",
    "    filtered.remove(d)\n",
    "#filtered.remove(drops.tolist())\n",
    "combined_set[filtered].describe()\n",
    "combined_set[filtered].to_csv(\"/mnt/distvol/combined_set.csv\")"
   ]
  }
 ],
 "metadata": {
  "kernelspec": {
   "display_name": "Python 3",
   "language": "python",
   "name": "python3"
  },
  "language_info": {
   "codemirror_mode": {
    "name": "ipython",
    "version": 3
   },
   "file_extension": ".py",
   "mimetype": "text/x-python",
   "name": "python",
   "nbconvert_exporter": "python",
   "pygments_lexer": "ipython3",
   "version": "3.9.4"
  }
 },
 "nbformat": 4,
 "nbformat_minor": 5
}
